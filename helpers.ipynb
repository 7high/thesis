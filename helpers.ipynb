{
 "cells": [
  {
   "cell_type": "code",
   "execution_count": 3,
   "metadata": {},
   "outputs": [],
   "source": [
    "import datetime, os, errno, shutil, sys"
   ]
  },
  {
   "cell_type": "code",
   "execution_count": 4,
   "metadata": {},
   "outputs": [],
   "source": [
    "TIME_FORMAT = '%Y-%m-%d %H:%M:%S'"
   ]
  },
  {
   "cell_type": "code",
   "execution_count": 5,
   "metadata": {},
   "outputs": [],
   "source": [
    "def init_dirs():\n",
    "    src_dir = os.path.dirname('./Source/')\n",
    "    dst_dir = os.path.dirname('./Destination/')\n",
    "\n",
    "    if os.path.exists(src_dir):\n",
    "        print 'Old ' + src_dir + ' deleted'\n",
    "        try:\n",
    "            shutil.rmtree(src_dir)\n",
    "        except OSError:\n",
    "            print \"Error in deleting \" + src_dir\n",
    "    os.makedirs(src_dir)\n",
    "\n",
    "    if os.path.exists(dst_dir):\n",
    "        print 'Old ' + dst_dir + ' deleted'\n",
    "        try:\n",
    "            shutil.rmtree(dst_dir)\n",
    "        except OSError:\n",
    "            print \"Error in deleting \" + dst_dir\n",
    "    os.makedirs(dst_dir)"
   ]
  },
  {
   "cell_type": "code",
   "execution_count": 6,
   "metadata": {},
   "outputs": [],
   "source": [
    "def pretty_time(pkt_time):\n",
    "    \"\"\"\n",
    "    Takes epoch time and transforms it into a better format.\n",
    "\n",
    "    Parameters\n",
    "    ----------\n",
    "    pkt_time: (pkt.frame_info.time_epoch) Time of packet in epoch format.\n",
    "\n",
    "    Returns\n",
    "    ----------\n",
    "    time: (datetime) Time of packet in datetime format.\n",
    "    \"\"\"\n",
    "    # have to account for timestamp issue on host computer during first four days of trial\n",
    "    if float(pkt_time) < 1503370800:\n",
    "        return datetime.datetime.fromtimestamp(float(pkt_time) + 42).strftime(TIME_FORMAT)\n",
    "    elif float(pkt_time) < 1503702000:\n",
    "        return datetime.datetime.fromtimestamp(float(pkt_time)+48).strftime(TIME_FORMAT)\n",
    "    else:\n",
    "        return datetime.datetime.fromtimestamp(float(pkt_time)).strftime(TIME_FORMAT)"
   ]
  }
 ],
 "metadata": {
  "kernelspec": {
   "display_name": "Python 2",
   "language": "python",
   "name": "python2"
  },
  "language_info": {
   "codemirror_mode": {
    "name": "ipython",
    "version": 2
   },
   "file_extension": ".py",
   "mimetype": "text/x-python",
   "name": "python",
   "nbconvert_exporter": "python",
   "pygments_lexer": "ipython2",
   "version": "2.7.15"
  }
 },
 "nbformat": 4,
 "nbformat_minor": 2
}
