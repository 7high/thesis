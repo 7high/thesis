{
 "cells": [
  {
   "cell_type": "code",
   "execution_count": 1,
   "metadata": {},
   "outputs": [],
   "source": [
    "# from Pipeline import WifiPipeline\n",
    "from MulticlassDCP import WifiMulticlassDCP\n",
    "\n",
    "# General data processing\n",
    "import numpy as np\n",
    "import pandas as pd\n",
    "\n",
    "# Plotting\n",
    "import matplotlib.pyplot as plt\n",
    "import seaborn as sns\n",
    "\n",
    "# ML libraries\n",
    "from sklearn.discriminant_analysis import LinearDiscriminantAnalysis\n",
    "from sklearn.ensemble import RandomForestClassifier\n",
    "from sklearn.neighbors import KNeighborsClassifier\n",
    "from sklearn.metrics import balanced_accuracy_score, precision_score, recall_score, confusion_matrix, matthews_corrcoef\n",
    "from sklearn.model_selection import GridSearchCV, cross_val_score\n",
    "from imblearn.under_sampling import RandomUnderSampler\n",
    "\n",
    "# System libraries\n",
    "import itertools\n",
    "import random, time\n",
    "\n",
    "# Warning filtering\n",
    "import warnings\n",
    "warnings.filterwarnings(\"ignore\", category=FutureWarning)\n",
    "warnings.filterwarnings(\"ignore\", category=UserWarning)\n",
    "warnings.filterwarnings(\"ignore\", category=DeprecationWarning)\n",
    "plt.rcParams.update({'figure.max_open_warning': 0})"
   ]
  },
  {
   "cell_type": "markdown",
   "metadata": {},
   "source": [
    "# Create, process dataframe"
   ]
  },
  {
   "cell_type": "code",
   "execution_count": 2,
   "metadata": {},
   "outputs": [],
   "source": [
    "start_time = time.time()"
   ]
  },
  {
   "cell_type": "code",
   "execution_count": 3,
   "metadata": {},
   "outputs": [],
   "source": [
    "w = WifiMulticlassDCP()"
   ]
  },
  {
   "cell_type": "code",
   "execution_count": 4,
   "metadata": {},
   "outputs": [
    {
     "name": "stdout",
     "output_type": "stream",
     "text": [
      "Router     101880\n",
      "Mini        75782\n",
      "Dropcam     45912\n",
      "Kasa        17156\n",
      "Netcam2      3056\n",
      "Netcam3      2961\n",
      "Netcam1      2314\n",
      "Switch2      2204\n",
      "Switch1      1963\n",
      "Switch3      1955\n",
      "Insight      1738\n",
      "Switch4      1504\n",
      "Lifx2         545\n",
      "Lifx1         495\n",
      "TpPlug        366\n",
      "TpBulb        191\n",
      "Name: Name, dtype: int64\n",
      "158142\n"
     ]
    }
   ],
   "source": [
    "df = w.make_dataframe()\n",
    "\n",
    "# Take out packets from router\n",
    "df = df[df[\"DeviceType\"]!=\"router\"]\n",
    "print len(df)"
   ]
  },
  {
   "cell_type": "markdown",
   "metadata": {},
   "source": [
    "# Prep dataset"
   ]
  },
  {
   "cell_type": "code",
   "execution_count": 5,
   "metadata": {},
   "outputs": [],
   "source": [
    "# Wifi: Define which features to use\n",
    "features_list = [\n",
    "        # Packet info\n",
    "        \"PacketLength\",\n",
    "        \n",
    "        # Vendor \n",
    "         \"Belkin\", \"Dropcam\", \"Lifi\", \"Netgear\", \"Tp-link\",\n",
    "    \n",
    "        # 802.11 Data subtype\n",
    "        \"Data\", \"QoS_Data\", \"QoS_Null\",\n",
    "\n",
    "        # Associated Packets\n",
    "        \"Assoc_Packets\"]\n",
    "\n",
    "# Define what the response classes are\n",
    "y_list = [\"bulb\", \"camera\", \"plug\"]"
   ]
  },
  {
   "cell_type": "code",
   "execution_count": 6,
   "metadata": {},
   "outputs": [
    {
     "name": "stdout",
     "output_type": "stream",
     "text": [
      "plug      83642\n",
      "camera    51282\n",
      "bulb        686\n",
      "Name: DeviceType, dtype: int64\n"
     ]
    }
   ],
   "source": [
    "# Prep training set\n",
    "df_train = df[df['Set']=='train']\n",
    "print df_train['DeviceType'].value_counts()"
   ]
  },
  {
   "cell_type": "code",
   "execution_count": 7,
   "metadata": {},
   "outputs": [
    {
     "name": "stdout",
     "output_type": "stream",
     "text": [
      "Initial test set distribution:\n",
      "camera    20117\n",
      "plug       1870\n",
      "bulb        545\n",
      "Name: DeviceType, dtype: int64\n"
     ]
    },
    {
     "data": {
      "image/png": "[encoded data removed]",
      "text/plain": [
       "<Figure size 432x288 with 1 Axes>"
      ]
     },
     "metadata": {},
     "output_type": "display_data"
    }
   ],
   "source": [
    "df_test = df[df['Set']=='test']\n",
    "\n",
    "# Show initial test set imbalance\n",
    "print \"Initial test set distribution:\"\n",
    "print df_test['DeviceType'].value_counts()\n",
    "df_test['DeviceType'].value_counts().sort_index().plot(kind='bar', title=\"Test Packet Counts Before Resampling\",logy=True);"
   ]
  },
  {
   "cell_type": "code",
   "execution_count": 8,
   "metadata": {},
   "outputs": [
    {
     "name": "stdout",
     "output_type": "stream",
     "text": [
      "[['bulb' 545]\n",
      " ['camera' 545]\n",
      " ['plug' 545]]\n"
     ]
    }
   ],
   "source": [
    "# Downsample test set so that there is equal chance that the classifier will choose any given class\n",
    "rds = RandomUnderSampler(random_state=42)\n",
    "test_X_downsampled, test_y_downsampled = rds.fit_resample(df_test[features_list], df_test['DeviceType'])\n",
    "\n",
    "# Show class counts after downsampling\n",
    "unique, counts = np.unique(test_y_downsampled, return_counts=True)\n",
    "print np.asarray((unique, counts)).T"
   ]
  },
  {
   "cell_type": "code",
   "execution_count": 9,
   "metadata": {},
   "outputs": [],
   "source": [
    "# Recreate df_test \n",
    "df_test_downsampled = pd.DataFrame(test_X_downsampled,columns=features_list)\n",
    "df_test_downsampled['DeviceType'] = test_y_downsampled"
   ]
  },
  {
   "cell_type": "markdown",
   "metadata": {},
   "source": [
    "# Run multiclass"
   ]
  },
  {
   "cell_type": "code",
   "execution_count": 10,
   "metadata": {
    "scrolled": false
   },
   "outputs": [],
   "source": [
    "multiclass_start = time.time()\n",
    "\n",
    "preds, metrics, cms, feature_importance = w.run_multiclass(df_train, df_test_downsampled, features_list, y_list)\n",
    "\n",
    "multiclass_end = time.time() - multiclass_start"
   ]
  },
  {
   "cell_type": "markdown",
   "metadata": {},
   "source": [
    "# Report results"
   ]
  },
  {
   "cell_type": "markdown",
   "metadata": {},
   "source": [
    "## Report confusion matrices"
   ]
  },
  {
   "cell_type": "code",
   "execution_count": 11,
   "metadata": {},
   "outputs": [
    {
     "name": "stdout",
     "output_type": "stream",
     "text": [
      "Confusion matrix, without normalization\n",
      "[[537   4   4]\n",
      " [  0 342 203]\n",
      " [  3 102 440]]\n",
      "Confusion matrix, without normalization\n",
      "[[545   0   0]\n",
      " [  0 194 351]\n",
      " [  0 130 415]]\n",
      "Confusion matrix, without normalization\n",
      "[[545   0   0]\n",
      " [166  44 335]\n",
      " [103  15 427]]\n"
     ]
    },
    {
     "data": {
      "image/png": "[encoded data removed]",
      "text/plain": [
       "<Figure size 1008x288 with 6 Axes>"
      ]
     },
     "metadata": {},
     "output_type": "display_data"
    }
   ],
   "source": [
    "w.plot_all_confusion_matrices(cms, y_list)"
   ]
  },
  {
   "cell_type": "markdown",
   "metadata": {},
   "source": [
    "## Report metrics"
   ]
  },
  {
   "cell_type": "code",
   "execution_count": 12,
   "metadata": {},
   "outputs": [
    {
     "data": {
      "text/html": [
       "<div>\n",
       "<style scoped>\n",
       "    .dataframe tbody tr th:only-of-type {\n",
       "        vertical-align: middle;\n",
       "    }\n",
       "\n",
       "    .dataframe tbody tr th {\n",
       "        vertical-align: top;\n",
       "    }\n",
       "\n",
       "    .dataframe thead th {\n",
       "        text-align: right;\n",
       "    }\n",
       "</style>\n",
       "<table border=\"1\" class=\"dataframe\">\n",
       "  <thead>\n",
       "    <tr style=\"text-align: right;\">\n",
       "      <th></th>\n",
       "      <th>BACC</th>\n",
       "      <th>Matt_Corr</th>\n",
       "      <th>Precision_Bulb</th>\n",
       "      <th>Precision_Camera</th>\n",
       "      <th>Precision_Plug</th>\n",
       "      <th>Recall_Bulb</th>\n",
       "      <th>Recall_Camera</th>\n",
       "      <th>Recall_Plug</th>\n",
       "    </tr>\n",
       "  </thead>\n",
       "  <tbody>\n",
       "    <tr>\n",
       "      <th>knn</th>\n",
       "      <td>0.806728</td>\n",
       "      <td>0.714077</td>\n",
       "      <td>0.994444</td>\n",
       "      <td>0.763393</td>\n",
       "      <td>0.680062</td>\n",
       "      <td>0.985321</td>\n",
       "      <td>0.627523</td>\n",
       "      <td>0.807339</td>\n",
       "    </tr>\n",
       "    <tr>\n",
       "      <th>rf</th>\n",
       "      <td>0.621407</td>\n",
       "      <td>0.482981</td>\n",
       "      <td>0.669533</td>\n",
       "      <td>0.745763</td>\n",
       "      <td>0.560367</td>\n",
       "      <td>1.000000</td>\n",
       "      <td>0.080734</td>\n",
       "      <td>0.783486</td>\n",
       "    </tr>\n",
       "    <tr>\n",
       "      <th>lda</th>\n",
       "      <td>0.705810</td>\n",
       "      <td>0.574687</td>\n",
       "      <td>1.000000</td>\n",
       "      <td>0.598765</td>\n",
       "      <td>0.541775</td>\n",
       "      <td>1.000000</td>\n",
       "      <td>0.355963</td>\n",
       "      <td>0.761468</td>\n",
       "    </tr>\n",
       "  </tbody>\n",
       "</table>\n",
       "</div>"
      ],
      "text/plain": [
       "         BACC  Matt_Corr  Precision_Bulb  Precision_Camera  Precision_Plug  \\\n",
       "knn  0.806728   0.714077        0.994444          0.763393        0.680062   \n",
       "rf   0.621407   0.482981        0.669533          0.745763        0.560367   \n",
       "lda  0.705810   0.574687        1.000000          0.598765        0.541775   \n",
       "\n",
       "     Recall_Bulb  Recall_Camera  Recall_Plug  \n",
       "knn     0.985321       0.627523     0.807339  \n",
       "rf      1.000000       0.080734     0.783486  \n",
       "lda     1.000000       0.355963     0.761468  "
      ]
     },
     "metadata": {},
     "output_type": "display_data"
    }
   ],
   "source": [
    "metrics_df = w.report_metrics(metrics, y_list, 'wifi-multiclass_metrics')\n",
    "display(metrics_df)"
   ]
  },
  {
   "cell_type": "markdown",
   "metadata": {},
   "source": [
    "## Report feature importance"
   ]
  },
  {
   "cell_type": "code",
   "execution_count": 13,
   "metadata": {},
   "outputs": [
    {
     "data": {
      "text/plain": [
       "Dropcam         0.78594\n",
       "Belkin          0.09893\n",
       "PacketLength    0.07678\n",
       "Assoc_Packets   0.01845\n",
       "QoS_Null        0.01272\n",
       "QoS_Data        0.00259\n",
       "Data            0.00213\n",
       "Lifi            0.00198\n",
       "Tp-link         0.00046\n",
       "Netgear         0.00000\n",
       "dtype: float64"
      ]
     },
     "metadata": {},
     "output_type": "display_data"
    }
   ],
   "source": [
    "f_i = w.report_featureimportance(feature_importance, features_list)\n",
    "display(f_i)"
   ]
  },
  {
   "cell_type": "markdown",
   "metadata": {},
   "source": [
    "# Residuals Analysis"
   ]
  },
  {
   "cell_type": "markdown",
   "metadata": {},
   "source": [
    "## Use *k* top features only"
   ]
  },
  {
   "cell_type": "markdown",
   "metadata": {},
   "source": [
    "### Find *k*"
   ]
  },
  {
   "cell_type": "code",
   "execution_count": 30,
   "metadata": {},
   "outputs": [],
   "source": [
    "fs_start = time.time()\n",
    "\n",
    "# Find best features using KBest scheme\n",
    "feature_selection = []\n",
    "for i in range(0,len(f_i)):\n",
    "    top_features = list(f_i.index[0:i+1])\n",
    "\n",
    "    tf_preds, tf_metrics, tf_cms, tf_feature_importance = w.run_multiclass(df_train, df_test_downsampled, top_features, y_list,use_tuned=False)\n",
    "    tf_metrics_df = w.report_metrics(tf_metrics, y_list, to_csv=False)\n",
    "    \n",
    "    ave = np.average(tf_metrics_df['BACC'])\n",
    "    feature_selection.append(ave)\n",
    "    \n",
    "fs_end = time.time() - fs_start"
   ]
  },
  {
   "cell_type": "code",
   "execution_count": 31,
   "metadata": {},
   "outputs": [
    {
     "name": "stdout",
     "output_type": "stream",
     "text": [
      "Best BACC 0.7135575942915393 : 8 features\n"
     ]
    }
   ],
   "source": [
    "k = feature_selection.index(max(feature_selection))\n",
    "print 'Best BACC',max(feature_selection),\":\", k+1, \"features\""
   ]
  },
  {
   "cell_type": "markdown",
   "metadata": {},
   "source": [
    "### Run multiclass with top *k* features"
   ]
  },
  {
   "cell_type": "code",
   "execution_count": 32,
   "metadata": {},
   "outputs": [],
   "source": [
    "# Run multiclass with top k features\n",
    "tf_preds, tf_metrics, tf_cms, tf_feature_importance = w.run_multiclass(df_train, df_test_downsampled, list(f_i.index[0:k+1]), y_list,use_tuned=False)"
   ]
  },
  {
   "cell_type": "code",
   "execution_count": 33,
   "metadata": {},
   "outputs": [
    {
     "data": {
      "text/html": [
       "<div>\n",
       "<style scoped>\n",
       "    .dataframe tbody tr th:only-of-type {\n",
       "        vertical-align: middle;\n",
       "    }\n",
       "\n",
       "    .dataframe tbody tr th {\n",
       "        vertical-align: top;\n",
       "    }\n",
       "\n",
       "    .dataframe thead th {\n",
       "        text-align: right;\n",
       "    }\n",
       "</style>\n",
       "<table border=\"1\" class=\"dataframe\">\n",
       "  <thead>\n",
       "    <tr style=\"text-align: right;\">\n",
       "      <th></th>\n",
       "      <th>BACC</th>\n",
       "      <th>Matt_Corr</th>\n",
       "      <th>Precision_Bulb</th>\n",
       "      <th>Precision_Camera</th>\n",
       "      <th>Precision_Plug</th>\n",
       "      <th>Recall_Bulb</th>\n",
       "      <th>Recall_Camera</th>\n",
       "      <th>Recall_Plug</th>\n",
       "    </tr>\n",
       "  </thead>\n",
       "  <tbody>\n",
       "    <tr>\n",
       "      <th>knn</th>\n",
       "      <td>0.62630</td>\n",
       "      <td>0.48372</td>\n",
       "      <td>0.99444</td>\n",
       "      <td>0.30719</td>\n",
       "      <td>0.46709</td>\n",
       "      <td>0.98532</td>\n",
       "      <td>0.08624</td>\n",
       "      <td>0.80734</td>\n",
       "    </tr>\n",
       "    <tr>\n",
       "      <th>rf</th>\n",
       "      <td>0.80856</td>\n",
       "      <td>0.73651</td>\n",
       "      <td>0.66953</td>\n",
       "      <td>0.95890</td>\n",
       "      <td>0.93640</td>\n",
       "      <td>1.00000</td>\n",
       "      <td>0.64220</td>\n",
       "      <td>0.78349</td>\n",
       "    </tr>\n",
       "    <tr>\n",
       "      <th>lda</th>\n",
       "      <td>0.70581</td>\n",
       "      <td>0.57469</td>\n",
       "      <td>1.00000</td>\n",
       "      <td>0.59877</td>\n",
       "      <td>0.54178</td>\n",
       "      <td>1.00000</td>\n",
       "      <td>0.35596</td>\n",
       "      <td>0.76147</td>\n",
       "    </tr>\n",
       "  </tbody>\n",
       "</table>\n",
       "</div>"
      ],
      "text/plain": [
       "       BACC  Matt_Corr  Precision_Bulb  Precision_Camera  Precision_Plug  \\\n",
       "knn 0.62630    0.48372         0.99444           0.30719         0.46709   \n",
       "rf  0.80856    0.73651         0.66953           0.95890         0.93640   \n",
       "lda 0.70581    0.57469         1.00000           0.59877         0.54178   \n",
       "\n",
       "     Recall_Bulb  Recall_Camera  Recall_Plug  \n",
       "knn      0.98532        0.08624      0.80734  \n",
       "rf       1.00000        0.64220      0.78349  \n",
       "lda      1.00000        0.35596      0.76147  "
      ]
     },
     "metadata": {},
     "output_type": "display_data"
    }
   ],
   "source": [
    "tf_metrics_df = w.report_metrics(tf_metrics, y_list, 'wifi-topfeatures_metrics')\n",
    "display(tf_metrics_df)"
   ]
  },
  {
   "cell_type": "markdown",
   "metadata": {},
   "source": [
    "### Plot confusion matrices"
   ]
  },
  {
   "cell_type": "code",
   "execution_count": 34,
   "metadata": {},
   "outputs": [
    {
     "name": "stdout",
     "output_type": "stream",
     "text": [
      "Confusion matrix, without normalization\n",
      "[[537   4   4]\n",
      " [  0  47 498]\n",
      " [  3 102 440]]\n",
      "Confusion matrix, without normalization\n",
      "[[545   0   0]\n",
      " [  0 194 351]\n",
      " [  0 130 415]]\n",
      "Confusion matrix, without normalization\n",
      "[[545   0   0]\n",
      " [166 350  29]\n",
      " [103  15 427]]\n"
     ]
    },
    {
     "data": {
      "image/png": "[encoded data removed]",
      "text/plain": [
       "<Figure size 1008x288 with 6 Axes>"
      ]
     },
     "metadata": {},
     "output_type": "display_data"
    }
   ],
   "source": [
    "w.plot_all_confusion_matrices(tf_cms, y_list)"
   ]
  },
  {
   "cell_type": "markdown",
   "metadata": {},
   "source": [
    "### Report feature importance of *k* best"
   ]
  },
  {
   "cell_type": "code",
   "execution_count": 35,
   "metadata": {},
   "outputs": [
    {
     "data": {
      "text/plain": [
       "Belkin          0.45579\n",
       "Assoc_Packets   0.36083\n",
       "Dropcam         0.09774\n",
       "PacketLength    0.03345\n",
       "Data            0.02940\n",
       "QoS_Null        0.01609\n",
       "QoS_Data        0.00384\n",
       "Lifi            0.00285\n",
       "dtype: float64"
      ]
     },
     "execution_count": 35,
     "metadata": {},
     "output_type": "execute_result"
    }
   ],
   "source": [
    "w.report_featureimportance(tf_feature_importance, f_i.index[0:k+1])"
   ]
  },
  {
   "cell_type": "markdown",
   "metadata": {},
   "source": [
    "## Remove vendor features"
   ]
  },
  {
   "cell_type": "code",
   "execution_count": 36,
   "metadata": {},
   "outputs": [],
   "source": [
    "# Remove vendors features\n",
    "nv_features = ['PacketLength', 'Tp-link', 'Data', 'QoS_Data', 'QoS_Null', 'Assoc_Packets']"
   ]
  },
  {
   "cell_type": "code",
   "execution_count": 37,
   "metadata": {},
   "outputs": [],
   "source": [
    "nv_start = time.time()\n",
    "\n",
    "# Run multiclass with top k features\n",
    "nv_preds, nv_metrics, nv_cms, nv_feature_importance = w.run_multiclass(df_train, df_test_downsampled, nv_features, y_list,use_tuned=False)\n",
    "\n",
    "nv_end = time.time() - nv_start"
   ]
  },
  {
   "cell_type": "code",
   "execution_count": 38,
   "metadata": {},
   "outputs": [
    {
     "data": {
      "text/html": [
       "<div>\n",
       "<style scoped>\n",
       "    .dataframe tbody tr th:only-of-type {\n",
       "        vertical-align: middle;\n",
       "    }\n",
       "\n",
       "    .dataframe tbody tr th {\n",
       "        vertical-align: top;\n",
       "    }\n",
       "\n",
       "    .dataframe thead th {\n",
       "        text-align: right;\n",
       "    }\n",
       "</style>\n",
       "<table border=\"1\" class=\"dataframe\">\n",
       "  <thead>\n",
       "    <tr style=\"text-align: right;\">\n",
       "      <th></th>\n",
       "      <th>BACC</th>\n",
       "      <th>Matt_Corr</th>\n",
       "      <th>Precision_Bulb</th>\n",
       "      <th>Precision_Camera</th>\n",
       "      <th>Precision_Plug</th>\n",
       "      <th>Recall_Bulb</th>\n",
       "      <th>Recall_Camera</th>\n",
       "      <th>Recall_Plug</th>\n",
       "    </tr>\n",
       "  </thead>\n",
       "  <tbody>\n",
       "    <tr>\n",
       "      <th>knn</th>\n",
       "      <td>0.78899</td>\n",
       "      <td>0.68661</td>\n",
       "      <td>0.99413</td>\n",
       "      <td>0.71698</td>\n",
       "      <td>0.68006</td>\n",
       "      <td>0.93211</td>\n",
       "      <td>0.62752</td>\n",
       "      <td>0.80734</td>\n",
       "    </tr>\n",
       "    <tr>\n",
       "      <th>rf</th>\n",
       "      <td>0.59572</td>\n",
       "      <td>0.42171</td>\n",
       "      <td>0.91257</td>\n",
       "      <td>0.22549</td>\n",
       "      <td>0.48413</td>\n",
       "      <td>0.91927</td>\n",
       "      <td>0.08440</td>\n",
       "      <td>0.78349</td>\n",
       "    </tr>\n",
       "    <tr>\n",
       "      <th>lda</th>\n",
       "      <td>0.27156</td>\n",
       "      <td>-0.09269</td>\n",
       "      <td>0.00000</td>\n",
       "      <td>0.05503</td>\n",
       "      <td>0.77570</td>\n",
       "      <td>0.00000</td>\n",
       "      <td>0.05321</td>\n",
       "      <td>0.76147</td>\n",
       "    </tr>\n",
       "  </tbody>\n",
       "</table>\n",
       "</div>"
      ],
      "text/plain": [
       "       BACC  Matt_Corr  Precision_Bulb  Precision_Camera  Precision_Plug  \\\n",
       "knn 0.78899    0.68661         0.99413           0.71698         0.68006   \n",
       "rf  0.59572    0.42171         0.91257           0.22549         0.48413   \n",
       "lda 0.27156   -0.09269         0.00000           0.05503         0.77570   \n",
       "\n",
       "     Recall_Bulb  Recall_Camera  Recall_Plug  \n",
       "knn      0.93211        0.62752      0.80734  \n",
       "rf       0.91927        0.08440      0.78349  \n",
       "lda      0.00000        0.05321      0.76147  "
      ]
     },
     "metadata": {},
     "output_type": "display_data"
    }
   ],
   "source": [
    "nv_metrics_df = w.report_metrics(nv_metrics, y_list, 'wifi-novendor_metrics')\n",
    "display(nv_metrics_df)"
   ]
  },
  {
   "cell_type": "code",
   "execution_count": 39,
   "metadata": {},
   "outputs": [
    {
     "name": "stdout",
     "output_type": "stream",
     "text": [
      "Confusion matrix, without normalization\n",
      "[[508  33   4]\n",
      " [  0 342 203]\n",
      " [  3 102 440]]\n",
      "Confusion matrix, without normalization\n",
      "[[  0 471  74]\n",
      " [470  29  46]\n",
      " [103  27 415]]\n",
      "Confusion matrix, without normalization\n",
      "[[501  43   1]\n",
      " [ 45  46 454]\n",
      " [  3 115 427]]\n"
     ]
    },
    {
     "data": {
      "image/png": "[encoded data removed]",
      "text/plain": [
       "<Figure size 1008x288 with 6 Axes>"
      ]
     },
     "metadata": {},
     "output_type": "display_data"
    }
   ],
   "source": [
    "w.plot_all_confusion_matrices(nv_cms, y_list)"
   ]
  },
  {
   "cell_type": "code",
   "execution_count": 40,
   "metadata": {},
   "outputs": [
    {
     "data": {
      "text/plain": [
       "Assoc_Packets   0.92705\n",
       "PacketLength    0.03658\n",
       "QoS_Null        0.01230\n",
       "Data            0.01108\n",
       "QoS_Data        0.01063\n",
       "Tp-link         0.00236\n",
       "dtype: float64"
      ]
     },
     "execution_count": 40,
     "metadata": {},
     "output_type": "execute_result"
    }
   ],
   "source": [
    "w.report_featureimportance(nv_feature_importance, nv_features)"
   ]
  },
  {
   "cell_type": "markdown",
   "metadata": {},
   "source": [
    "## Error analysis"
   ]
  },
  {
   "cell_type": "markdown",
   "metadata": {},
   "source": [
    "**Error 1**: "
   ]
  },
  {
   "cell_type": "code",
   "execution_count": 41,
   "metadata": {},
   "outputs": [
    {
     "name": "stdout",
     "output_type": "stream",
     "text": [
      "66.7034990788\n",
      "396.101758957\n",
      "33.9089641571\n",
      "2586.4478929\n"
     ]
    }
   ],
   "source": [
    "print multiclass_end\n",
    "print fs_end\n",
    "print nv_end\n",
    "print time.time() - start_time"
   ]
  }
 ],
 "metadata": {
  "kernelspec": {
   "display_name": "Python 2",
   "language": "python",
   "name": "python2"
  },
  "language_info": {
   "codemirror_mode": {
    "name": "ipython",
    "version": 2
   },
   "file_extension": ".py",
   "mimetype": "text/x-python",
   "name": "python",
   "nbconvert_exporter": "python",
   "pygments_lexer": "ipython2",
   "version": "2.7.15"
  }
 },
 "nbformat": 4,
 "nbformat_minor": 2
}
