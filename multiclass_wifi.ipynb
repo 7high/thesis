{
 "cells": [
  {
   "cell_type": "code",
   "execution_count": 1,
   "metadata": {},
   "outputs": [],
   "source": [
    "# from Pipeline import WifiPipeline\n",
    "from MulticlassDCP import WifiMulticlassDCP\n",
    "\n",
    "# General data processing\n",
    "import numpy as np\n",
    "import pandas as pd\n",
    "\n",
    "# Plotting\n",
    "import matplotlib.pyplot as plt\n",
    "import seaborn as sns\n",
    "\n",
    "# ML libraries\n",
    "from sklearn.discriminant_analysis import LinearDiscriminantAnalysis\n",
    "from sklearn.ensemble import RandomForestClassifier\n",
    "from sklearn.neighbors import KNeighborsClassifier\n",
    "from sklearn.metrics import balanced_accuracy_score, precision_score, recall_score, confusion_matrix, matthews_corrcoef\n",
    "from sklearn.model_selection import GridSearchCV, cross_val_score\n",
    "from imblearn.under_sampling import RandomUnderSampler\n",
    "\n",
    "# System libraries\n",
    "import itertools\n",
    "import random, time\n",
    "\n",
    "# Warning filtering\n",
    "import warnings\n",
    "warnings.filterwarnings(\"ignore\", category=FutureWarning)\n",
    "warnings.filterwarnings(\"ignore\", category=UserWarning)\n",
    "warnings.filterwarnings(\"ignore\", category=DeprecationWarning)\n",
    "plt.rcParams.update({'figure.max_open_warning': 0})"
   ]
  },
  {
   "cell_type": "markdown",
   "metadata": {},
   "source": [
    "# Create, process dataframe"
   ]
  },
  {
   "cell_type": "code",
   "execution_count": 2,
   "metadata": {},
   "outputs": [],
   "source": [
    "start_time = time.time()"
   ]
  },
  {
   "cell_type": "code",
   "execution_count": 3,
   "metadata": {},
   "outputs": [],
   "source": [
    "w = WifiMulticlassDCP()"
   ]
  },
  {
   "cell_type": "code",
   "execution_count": 4,
   "metadata": {},
   "outputs": [
    {
     "name": "stdout",
     "output_type": "stream",
     "text": [
      "Router     101880\n",
      "Mini        75782\n",
      "Dropcam     45912\n",
      "Kasa        17156\n",
      "Netcam2      3056\n",
      "Netcam3      2961\n",
      "Netcam1      2314\n",
      "Switch2      2204\n",
      "Switch1      1963\n",
      "Switch3      1955\n",
      "Insight      1738\n",
      "Switch4      1504\n",
      "Lifx2         545\n",
      "Lifx1         495\n",
      "TpPlug        366\n",
      "TpBulb        191\n",
      "Name: Name, dtype: int64\n",
      "158142\n"
     ]
    }
   ],
   "source": [
    "df = w.make_dataframe()\n",
    "\n",
    "# Take out packets from router\n",
    "df = df[df[\"DeviceType\"]!=\"router\"]\n",
    "print len(df)"
   ]
  },
  {
   "cell_type": "markdown",
   "metadata": {},
   "source": [
    "# Prep dataset"
   ]
  },
  {
   "cell_type": "code",
   "execution_count": 5,
   "metadata": {},
   "outputs": [],
   "source": [
    "# Wifi: Define which features to use\n",
    "features_list = [\n",
    "        # Packet info\n",
    "        \"PacketLength\",\n",
    "        \n",
    "        # Vendor \n",
    "         \"Belkin\", \"Dropcam\", \"Lifi\", \"Netgear\", \"Tp-link\",\n",
    "    \n",
    "        # 802.11 Data subtype\n",
    "        \"Data\", \"QoS_Data\", \"QoS_Null\",\n",
    "\n",
    "        # Associated Packets\n",
    "        \"Assoc_Packets\"]\n",
    "\n",
    "# Define what the response classes are\n",
    "y_list = [\"bulb\", \"camera\", \"plug\"]"
   ]
  },
  {
   "cell_type": "code",
   "execution_count": 6,
   "metadata": {},
   "outputs": [
    {
     "name": "stdout",
     "output_type": "stream",
     "text": [
      "plug      83642\n",
      "camera    51282\n",
      "bulb        686\n",
      "Name: DeviceType, dtype: int64\n"
     ]
    }
   ],
   "source": [
    "# Prep training set\n",
    "df_train = df[df['Set']=='train']\n",
    "print df_train['DeviceType'].value_counts()"
   ]
  },
  {
   "cell_type": "code",
   "execution_count": 7,
   "metadata": {},
   "outputs": [
    {
     "name": "stdout",
     "output_type": "stream",
     "text": [
      "Initial test set distribution:\n",
      "camera    20117\n",
      "plug       1870\n",
      "bulb        545\n",
      "Name: DeviceType, dtype: int64\n"
     ]
    },
    {
     "data": {
      "image/png": "[encoded data removed]",
      "text/plain": [
       "<Figure size 432x288 with 1 Axes>"
      ]
     },
     "metadata": {},
     "output_type": "display_data"
    }
   ],
   "source": [
    "df_test = df[df['Set']=='test']\n",
    "\n",
    "# Show initial test set imbalance\n",
    "print \"Initial test set distribution:\"\n",
    "print df_test['DeviceType'].value_counts()\n",
    "df_test['DeviceType'].value_counts().sort_index().plot(kind='bar', title=\"Test Packet Counts Before Resampling\",logy=True);"
   ]
  },
  {
   "cell_type": "code",
   "execution_count": 8,
   "metadata": {},
   "outputs": [
    {
     "name": "stdout",
     "output_type": "stream",
     "text": [
      "[['bulb' 545]\n",
      " ['camera' 545]\n",
      " ['plug' 545]]\n"
     ]
    }
   ],
   "source": [
    "# Downsample test set so that there is equal chance that the classifier will choose any given class\n",
    "rds = RandomUnderSampler(random_state=42)\n",
    "test_X_downsampled, test_y_downsampled = rds.fit_resample(df_test[features_list], df_test['DeviceType'])\n",
    "\n",
    "# Show class counts after downsampling\n",
    "unique, counts = np.unique(test_y_downsampled, return_counts=True)\n",
    "print np.asarray((unique, counts)).T"
   ]
  },
  {
   "cell_type": "code",
   "execution_count": 9,
   "metadata": {},
   "outputs": [],
   "source": [
    "# Recreate df_test \n",
    "df_test_downsampled = pd.DataFrame(test_X_downsampled,columns=features_list)\n",
    "df_test_downsampled['DeviceType'] = test_y_downsampled"
   ]
  },
  {
   "cell_type": "markdown",
   "metadata": {},
   "source": [
    "# Run multiclass"
   ]
  },
  {
   "cell_type": "code",
   "execution_count": 10,
   "metadata": {
    "scrolled": false
   },
   "outputs": [],
   "source": [
    "multiclass_start = time.time()\n",
    "\n",
    "preds, metrics, cms, feature_importance = w.run_multiclass(df_train, df_test_downsampled, features_list, y_list)\n",
    "\n",
    "multiclass_end = time.time() - multiclass_start"
   ]
  },
  {
   "cell_type": "markdown",
   "metadata": {},
   "source": [
    "# Report results"
   ]
  },
  {
   "cell_type": "markdown",
   "metadata": {},
   "source": [
    "## Report confusion matrices"
   ]
  },
  {
   "cell_type": "code",
   "execution_count": 11,
   "metadata": {},
   "outputs": [
    {
     "name": "stdout",
     "output_type": "stream",
     "text": [
      "Confusion matrix, without normalization\n",
      "[[537   4   4]\n",
      " [  0 342 203]\n",
      " [  3 102 440]]\n",
      "Confusion matrix, without normalization\n",
      "[[545   0   0]\n",
      " [  0 194 351]\n",
      " [  0 130 415]]\n",
      "Confusion matrix, without normalization\n",
      "[[545   0   0]\n",
      " [166  46 333]\n",
      " [103  15 427]]\n"
     ]
    },
    {
     "data": {
      "image/png": "[encoded data removed]",
      "text/plain": [
       "<Figure size 1008x288 with 6 Axes>"
      ]
     },
     "metadata": {},
     "output_type": "display_data"
    }
   ],
   "source": [
    "w.plot_all_confusion_matrices(cms, y_list)"
   ]
  },
  {
   "cell_type": "markdown",
   "metadata": {},
   "source": [
    "## Report metrics"
   ]
  },
  {
   "cell_type": "code",
   "execution_count": 12,
   "metadata": {},
   "outputs": [
    {
     "data": {
      "text/html": [
       "<div>\n",
       "<style scoped>\n",
       "    .dataframe tbody tr th:only-of-type {\n",
       "        vertical-align: middle;\n",
       "    }\n",
       "\n",
       "    .dataframe tbody tr th {\n",
       "        vertical-align: top;\n",
       "    }\n",
       "\n",
       "    .dataframe thead th {\n",
       "        text-align: right;\n",
       "    }\n",
       "</style>\n",
       "<table border=\"1\" class=\"dataframe\">\n",
       "  <thead>\n",
       "    <tr style=\"text-align: right;\">\n",
       "      <th></th>\n",
       "      <th>MCC</th>\n",
       "      <th>Mean_Precision</th>\n",
       "      <th>Mean_Recall</th>\n",
       "      <th>Precision_Bulb</th>\n",
       "      <th>Precision_Camera</th>\n",
       "      <th>Precision_Plug</th>\n",
       "      <th>Recall_Bulb</th>\n",
       "      <th>Recall_Camera</th>\n",
       "      <th>Recall_Plug</th>\n",
       "    </tr>\n",
       "  </thead>\n",
       "  <tbody>\n",
       "    <tr>\n",
       "      <th>KNN</th>\n",
       "      <td>0.714077</td>\n",
       "      <td>0.812633</td>\n",
       "      <td>0.806728</td>\n",
       "      <td>0.994444</td>\n",
       "      <td>0.763393</td>\n",
       "      <td>0.680062</td>\n",
       "      <td>0.985321</td>\n",
       "      <td>0.627523</td>\n",
       "      <td>0.807339</td>\n",
       "    </tr>\n",
       "    <tr>\n",
       "      <th>RF</th>\n",
       "      <td>0.484556</td>\n",
       "      <td>0.661825</td>\n",
       "      <td>0.622630</td>\n",
       "      <td>0.669533</td>\n",
       "      <td>0.754098</td>\n",
       "      <td>0.561842</td>\n",
       "      <td>1.000000</td>\n",
       "      <td>0.084404</td>\n",
       "      <td>0.783486</td>\n",
       "    </tr>\n",
       "    <tr>\n",
       "      <th>LDA</th>\n",
       "      <td>0.574687</td>\n",
       "      <td>0.713514</td>\n",
       "      <td>0.705810</td>\n",
       "      <td>1.000000</td>\n",
       "      <td>0.598765</td>\n",
       "      <td>0.541775</td>\n",
       "      <td>1.000000</td>\n",
       "      <td>0.355963</td>\n",
       "      <td>0.761468</td>\n",
       "    </tr>\n",
       "  </tbody>\n",
       "</table>\n",
       "</div>"
      ],
      "text/plain": [
       "          MCC  Mean_Precision  Mean_Recall  Precision_Bulb  Precision_Camera  \\\n",
       "KNN  0.714077        0.812633     0.806728        0.994444          0.763393   \n",
       "RF   0.484556        0.661825     0.622630        0.669533          0.754098   \n",
       "LDA  0.574687        0.713514     0.705810        1.000000          0.598765   \n",
       "\n",
       "     Precision_Plug  Recall_Bulb  Recall_Camera  Recall_Plug  \n",
       "KNN        0.680062     0.985321       0.627523     0.807339  \n",
       "RF         0.561842     1.000000       0.084404     0.783486  \n",
       "LDA        0.541775     1.000000       0.355963     0.761468  "
      ]
     },
     "metadata": {},
     "output_type": "display_data"
    }
   ],
   "source": [
    "metrics_df = w.report_metrics(metrics, y_list, 'wifi-multiclass_metrics')\n",
    "display(metrics_df)"
   ]
  },
  {
   "cell_type": "markdown",
   "metadata": {},
   "source": [
    "## Report feature importance"
   ]
  },
  {
   "cell_type": "code",
   "execution_count": 13,
   "metadata": {},
   "outputs": [
    {
     "data": {
      "text/plain": [
       "Dropcam         0.44468\n",
       "Belkin          0.35529\n",
       "Assoc_Packets   0.10416\n",
       "PacketLength    0.06063\n",
       "QoS_Null        0.02477\n",
       "QoS_Data        0.00750\n",
       "Data            0.00216\n",
       "Lifi            0.00081\n",
       "Tp-link         0.00001\n",
       "Netgear         0.00000\n",
       "dtype: float64"
      ]
     },
     "metadata": {},
     "output_type": "display_data"
    }
   ],
   "source": [
    "f_i = w.report_featureimportance(feature_importance, features_list)\n",
    "display(f_i)"
   ]
  },
  {
   "cell_type": "markdown",
   "metadata": {},
   "source": [
    "# Residuals Analysis"
   ]
  },
  {
   "cell_type": "markdown",
   "metadata": {},
   "source": [
    "## Use *k* top features only"
   ]
  },
  {
   "cell_type": "markdown",
   "metadata": {},
   "source": [
    "### Find *k*"
   ]
  },
  {
   "cell_type": "code",
   "execution_count": 14,
   "metadata": {},
   "outputs": [
    {
     "name": "stderr",
     "output_type": "stream",
     "text": [
      "/root/anaconda2/lib/python2.7/site-packages/sklearn/metrics/classification.py:543: RuntimeWarning: invalid value encountered in double_scalars\n",
      "  mcc = cov_ytyp / np.sqrt(cov_ytyt * cov_ypyp)\n"
     ]
    }
   ],
   "source": [
    "fs_start = time.time()\n",
    "\n",
    "# Find best features using KBest scheme\n",
    "feature_selection = []\n",
    "for i in range(0,len(f_i)):\n",
    "    top_features = list(f_i.index[0:i+1])\n",
    "\n",
    "    tf_preds, tf_metrics, tf_cms, tf_feature_importance = w.run_multiclass(df_train, df_test_downsampled, top_features, y_list,use_tuned=False)\n",
    "    tf_metrics_df = w.report_metrics(tf_metrics, y_list, to_csv=False)\n",
    "    \n",
    "    ave = np.average(tf_metrics_df['Mean_Recall'])\n",
    "    feature_selection.append(ave)\n",
    "    \n",
    "fs_end = time.time() - fs_start"
   ]
  },
  {
   "cell_type": "code",
   "execution_count": 15,
   "metadata": {},
   "outputs": [
    {
     "name": "stdout",
     "output_type": "stream",
     "text": [
      "Best Average Recall 0.7133537206931703 : 8 features\n"
     ]
    }
   ],
   "source": [
    "k = feature_selection.index(max(feature_selection))\n",
    "print 'Best Average Recall',max(feature_selection),\":\", k+1, \"features\""
   ]
  },
  {
   "cell_type": "markdown",
   "metadata": {},
   "source": [
    "### Run multiclass with top *k* features"
   ]
  },
  {
   "cell_type": "code",
   "execution_count": 16,
   "metadata": {},
   "outputs": [],
   "source": [
    "# Run multiclass with top k features\n",
    "tf_preds, tf_metrics, tf_cms, tf_feature_importance = w.run_multiclass(df_train, df_test_downsampled, list(f_i.index[0:k+1]), y_list,use_tuned=False)"
   ]
  },
  {
   "cell_type": "code",
   "execution_count": 17,
   "metadata": {},
   "outputs": [
    {
     "data": {
      "text/html": [
       "<div>\n",
       "<style scoped>\n",
       "    .dataframe tbody tr th:only-of-type {\n",
       "        vertical-align: middle;\n",
       "    }\n",
       "\n",
       "    .dataframe tbody tr th {\n",
       "        vertical-align: top;\n",
       "    }\n",
       "\n",
       "    .dataframe thead th {\n",
       "        text-align: right;\n",
       "    }\n",
       "</style>\n",
       "<table border=\"1\" class=\"dataframe\">\n",
       "  <thead>\n",
       "    <tr style=\"text-align: right;\">\n",
       "      <th></th>\n",
       "      <th>MCC</th>\n",
       "      <th>Mean_Precision</th>\n",
       "      <th>Mean_Recall</th>\n",
       "      <th>Precision_Bulb</th>\n",
       "      <th>Precision_Camera</th>\n",
       "      <th>Precision_Plug</th>\n",
       "      <th>Recall_Bulb</th>\n",
       "      <th>Recall_Camera</th>\n",
       "      <th>Recall_Plug</th>\n",
       "    </tr>\n",
       "  </thead>\n",
       "  <tbody>\n",
       "    <tr>\n",
       "      <th>KNN</th>\n",
       "      <td>0.48372</td>\n",
       "      <td>0.58958</td>\n",
       "      <td>0.62630</td>\n",
       "      <td>0.99444</td>\n",
       "      <td>0.30719</td>\n",
       "      <td>0.46709</td>\n",
       "      <td>0.98532</td>\n",
       "      <td>0.08624</td>\n",
       "      <td>0.80734</td>\n",
       "    </tr>\n",
       "    <tr>\n",
       "      <th>RF</th>\n",
       "      <td>0.73422</td>\n",
       "      <td>0.85071</td>\n",
       "      <td>0.80795</td>\n",
       "      <td>0.67702</td>\n",
       "      <td>0.95879</td>\n",
       "      <td>0.91631</td>\n",
       "      <td>1.00000</td>\n",
       "      <td>0.64037</td>\n",
       "      <td>0.78349</td>\n",
       "    </tr>\n",
       "    <tr>\n",
       "      <th>LDA</th>\n",
       "      <td>0.57469</td>\n",
       "      <td>0.71351</td>\n",
       "      <td>0.70581</td>\n",
       "      <td>1.00000</td>\n",
       "      <td>0.59877</td>\n",
       "      <td>0.54178</td>\n",
       "      <td>1.00000</td>\n",
       "      <td>0.35596</td>\n",
       "      <td>0.76147</td>\n",
       "    </tr>\n",
       "  </tbody>\n",
       "</table>\n",
       "</div>"
      ],
      "text/plain": [
       "        MCC  Mean_Precision  Mean_Recall  Precision_Bulb  Precision_Camera  \\\n",
       "KNN 0.48372         0.58958      0.62630         0.99444           0.30719   \n",
       "RF  0.73422         0.85071      0.80795         0.67702           0.95879   \n",
       "LDA 0.57469         0.71351      0.70581         1.00000           0.59877   \n",
       "\n",
       "     Precision_Plug  Recall_Bulb  Recall_Camera  Recall_Plug  \n",
       "KNN         0.46709      0.98532        0.08624      0.80734  \n",
       "RF          0.91631      1.00000        0.64037      0.78349  \n",
       "LDA         0.54178      1.00000        0.35596      0.76147  "
      ]
     },
     "metadata": {},
     "output_type": "display_data"
    }
   ],
   "source": [
    "tf_metrics_df = w.report_metrics(tf_metrics, y_list, 'wifi-topfeatures_metrics')\n",
    "display(tf_metrics_df)"
   ]
  },
  {
   "cell_type": "markdown",
   "metadata": {},
   "source": [
    "### Plot confusion matrices"
   ]
  },
  {
   "cell_type": "code",
   "execution_count": 18,
   "metadata": {},
   "outputs": [
    {
     "name": "stdout",
     "output_type": "stream",
     "text": [
      "Confusion matrix, without normalization\n",
      "[[537   4   4]\n",
      " [  0  47 498]\n",
      " [  3 102 440]]\n",
      "Confusion matrix, without normalization\n",
      "[[545   0   0]\n",
      " [  0 194 351]\n",
      " [  0 130 415]]\n",
      "Confusion matrix, without normalization\n",
      "[[545   0   0]\n",
      " [157 349  39]\n",
      " [103  15 427]]\n"
     ]
    },
    {
     "data": {
      "image/png": "[encoded data removed]",
      "text/plain": [
       "<Figure size 1008x288 with 6 Axes>"
      ]
     },
     "metadata": {},
     "output_type": "display_data"
    }
   ],
   "source": [
    "w.plot_all_confusion_matrices(tf_cms, y_list)"
   ]
  },
  {
   "cell_type": "markdown",
   "metadata": {},
   "source": [
    "### Report feature importance of *k* best"
   ]
  },
  {
   "cell_type": "code",
   "execution_count": 19,
   "metadata": {
    "scrolled": false
   },
   "outputs": [
    {
     "data": {
      "text/plain": [
       "Belkin          0.53947\n",
       "Assoc_Packets   0.27401\n",
       "Dropcam         0.09459\n",
       "PacketLength    0.02973\n",
       "Data            0.02198\n",
       "QoS_Null        0.01953\n",
       "QoS_Data        0.01698\n",
       "Lifi            0.00370\n",
       "dtype: float64"
      ]
     },
     "execution_count": 19,
     "metadata": {},
     "output_type": "execute_result"
    }
   ],
   "source": [
    "w.report_featureimportance(tf_feature_importance, f_i.index[0:k+1])"
   ]
  },
  {
   "cell_type": "markdown",
   "metadata": {},
   "source": [
    "## Use only top 3 features"
   ]
  },
  {
   "cell_type": "markdown",
   "metadata": {},
   "source": [
    "### Run multiclass with top 3 features"
   ]
  },
  {
   "cell_type": "code",
   "execution_count": 20,
   "metadata": {},
   "outputs": [],
   "source": [
    "# Run multiclass with top 3 features\n",
    "tf3_preds, tf3_metrics, tf3_cms, tf3_feature_importance = w.run_multiclass(df_train, df_test_downsampled, list(f_i.index[0:3]), y_list,use_tuned=False)"
   ]
  },
  {
   "cell_type": "code",
   "execution_count": 21,
   "metadata": {},
   "outputs": [
    {
     "data": {
      "text/html": [
       "<div>\n",
       "<style scoped>\n",
       "    .dataframe tbody tr th:only-of-type {\n",
       "        vertical-align: middle;\n",
       "    }\n",
       "\n",
       "    .dataframe tbody tr th {\n",
       "        vertical-align: top;\n",
       "    }\n",
       "\n",
       "    .dataframe thead th {\n",
       "        text-align: right;\n",
       "    }\n",
       "</style>\n",
       "<table border=\"1\" class=\"dataframe\">\n",
       "  <thead>\n",
       "    <tr style=\"text-align: right;\">\n",
       "      <th></th>\n",
       "      <th>MCC</th>\n",
       "      <th>Mean_Precision</th>\n",
       "      <th>Mean_Recall</th>\n",
       "      <th>Precision_Bulb</th>\n",
       "      <th>Precision_Camera</th>\n",
       "      <th>Precision_Plug</th>\n",
       "      <th>Recall_Bulb</th>\n",
       "      <th>Recall_Camera</th>\n",
       "      <th>Recall_Plug</th>\n",
       "    </tr>\n",
       "  </thead>\n",
       "  <tbody>\n",
       "    <tr>\n",
       "      <th>KNN</th>\n",
       "      <td>0.32594</td>\n",
       "      <td>0.42824</td>\n",
       "      <td>0.52599</td>\n",
       "      <td>0.42585</td>\n",
       "      <td>0.00787</td>\n",
       "      <td>0.85098</td>\n",
       "      <td>0.77982</td>\n",
       "      <td>0.00183</td>\n",
       "      <td>0.79633</td>\n",
       "    </tr>\n",
       "    <tr>\n",
       "      <th>RF</th>\n",
       "      <td>0.49356</td>\n",
       "      <td>0.48431</td>\n",
       "      <td>0.59939</td>\n",
       "      <td>0.48748</td>\n",
       "      <td>0.11111</td>\n",
       "      <td>0.85433</td>\n",
       "      <td>1.00000</td>\n",
       "      <td>0.00183</td>\n",
       "      <td>0.79633</td>\n",
       "    </tr>\n",
       "    <tr>\n",
       "      <th>LDA</th>\n",
       "      <td>0.55964</td>\n",
       "      <td>0.78709</td>\n",
       "      <td>0.67768</td>\n",
       "      <td>0.99492</td>\n",
       "      <td>0.50976</td>\n",
       "      <td>0.85659</td>\n",
       "      <td>0.35963</td>\n",
       "      <td>0.86239</td>\n",
       "      <td>0.81101</td>\n",
       "    </tr>\n",
       "  </tbody>\n",
       "</table>\n",
       "</div>"
      ],
      "text/plain": [
       "        MCC  Mean_Precision  Mean_Recall  Precision_Bulb  Precision_Camera  \\\n",
       "KNN 0.32594         0.42824      0.52599         0.42585           0.00787   \n",
       "RF  0.49356         0.48431      0.59939         0.48748           0.11111   \n",
       "LDA 0.55964         0.78709      0.67768         0.99492           0.50976   \n",
       "\n",
       "     Precision_Plug  Recall_Bulb  Recall_Camera  Recall_Plug  \n",
       "KNN         0.85098      0.77982        0.00183      0.79633  \n",
       "RF          0.85433      1.00000        0.00183      0.79633  \n",
       "LDA         0.85659      0.35963        0.86239      0.81101  "
      ]
     },
     "metadata": {},
     "output_type": "display_data"
    }
   ],
   "source": [
    "tf3_metrics_df = w.report_metrics(tf3_metrics, y_list, 'wifi-tf3_metrics')\n",
    "display(tf3_metrics_df)"
   ]
  },
  {
   "cell_type": "markdown",
   "metadata": {},
   "source": [
    "### Plot confusion matrices"
   ]
  },
  {
   "cell_type": "code",
   "execution_count": 22,
   "metadata": {},
   "outputs": [
    {
     "name": "stdout",
     "output_type": "stream",
     "text": [
      "Confusion matrix, without normalization\n",
      "[[425 118   2]\n",
      " [470   1  74]\n",
      " [103   8 434]]\n",
      "Confusion matrix, without normalization\n",
      "[[196 349   0]\n",
      " [  1 470  74]\n",
      " [  0 103 442]]\n",
      "Confusion matrix, without normalization\n",
      "[[545   0   0]\n",
      " [470   1  74]\n",
      " [103   8 434]]\n"
     ]
    },
    {
     "data": {
      "image/png": "[encoded data removed]",
      "text/plain": [
       "<Figure size 1008x288 with 6 Axes>"
      ]
     },
     "metadata": {},
     "output_type": "display_data"
    }
   ],
   "source": [
    "w.plot_all_confusion_matrices(tf3_cms, y_list)"
   ]
  },
  {
   "cell_type": "markdown",
   "metadata": {},
   "source": [
    "### Report feature importance of 3 best"
   ]
  },
  {
   "cell_type": "code",
   "execution_count": 23,
   "metadata": {},
   "outputs": [
    {
     "data": {
      "text/plain": [
       "Dropcam         0.49464\n",
       "Belkin          0.30415\n",
       "Assoc_Packets   0.20122\n",
       "dtype: float64"
      ]
     },
     "execution_count": 23,
     "metadata": {},
     "output_type": "execute_result"
    }
   ],
   "source": [
    "w.report_featureimportance(tf3_feature_importance, f_i.index[0:3])"
   ]
  },
  {
   "cell_type": "markdown",
   "metadata": {},
   "source": [
    "## Remove vendor features"
   ]
  },
  {
   "cell_type": "code",
   "execution_count": 24,
   "metadata": {},
   "outputs": [],
   "source": [
    "# Remove vendors features\n",
    "nv_features = ['PacketLength', 'Tp-link', 'Data', 'QoS_Data', 'QoS_Null', 'Assoc_Packets']"
   ]
  },
  {
   "cell_type": "code",
   "execution_count": 25,
   "metadata": {},
   "outputs": [],
   "source": [
    "nv_start = time.time()\n",
    "\n",
    "# Run multiclass with top k features\n",
    "nv_preds, nv_metrics, nv_cms, nv_feature_importance = w.run_multiclass(df_train, df_test_downsampled, nv_features, y_list,use_tuned=False)\n",
    "\n",
    "nv_end = time.time() - nv_start"
   ]
  },
  {
   "cell_type": "code",
   "execution_count": 26,
   "metadata": {},
   "outputs": [
    {
     "data": {
      "text/html": [
       "<div>\n",
       "<style scoped>\n",
       "    .dataframe tbody tr th:only-of-type {\n",
       "        vertical-align: middle;\n",
       "    }\n",
       "\n",
       "    .dataframe tbody tr th {\n",
       "        vertical-align: top;\n",
       "    }\n",
       "\n",
       "    .dataframe thead th {\n",
       "        text-align: right;\n",
       "    }\n",
       "</style>\n",
       "<table border=\"1\" class=\"dataframe\">\n",
       "  <thead>\n",
       "    <tr style=\"text-align: right;\">\n",
       "      <th></th>\n",
       "      <th>MCC</th>\n",
       "      <th>Mean_Precision</th>\n",
       "      <th>Mean_Recall</th>\n",
       "      <th>Precision_Bulb</th>\n",
       "      <th>Precision_Camera</th>\n",
       "      <th>Precision_Plug</th>\n",
       "      <th>Recall_Bulb</th>\n",
       "      <th>Recall_Camera</th>\n",
       "      <th>Recall_Plug</th>\n",
       "    </tr>\n",
       "  </thead>\n",
       "  <tbody>\n",
       "    <tr>\n",
       "      <th>KNN</th>\n",
       "      <td>0.68661</td>\n",
       "      <td>0.79706</td>\n",
       "      <td>0.78899</td>\n",
       "      <td>0.99413</td>\n",
       "      <td>0.71698</td>\n",
       "      <td>0.68006</td>\n",
       "      <td>0.93211</td>\n",
       "      <td>0.62752</td>\n",
       "      <td>0.80734</td>\n",
       "    </tr>\n",
       "    <tr>\n",
       "      <th>RF</th>\n",
       "      <td>0.42227</td>\n",
       "      <td>0.54130</td>\n",
       "      <td>0.59572</td>\n",
       "      <td>0.91257</td>\n",
       "      <td>0.22886</td>\n",
       "      <td>0.48249</td>\n",
       "      <td>0.91927</td>\n",
       "      <td>0.08440</td>\n",
       "      <td>0.78349</td>\n",
       "    </tr>\n",
       "    <tr>\n",
       "      <th>LDA</th>\n",
       "      <td>-0.09269</td>\n",
       "      <td>0.27691</td>\n",
       "      <td>0.27156</td>\n",
       "      <td>0.00000</td>\n",
       "      <td>0.05503</td>\n",
       "      <td>0.77570</td>\n",
       "      <td>0.00000</td>\n",
       "      <td>0.05321</td>\n",
       "      <td>0.76147</td>\n",
       "    </tr>\n",
       "  </tbody>\n",
       "</table>\n",
       "</div>"
      ],
      "text/plain": [
       "         MCC  Mean_Precision  Mean_Recall  Precision_Bulb  Precision_Camera  \\\n",
       "KNN  0.68661         0.79706      0.78899         0.99413           0.71698   \n",
       "RF   0.42227         0.54130      0.59572         0.91257           0.22886   \n",
       "LDA -0.09269         0.27691      0.27156         0.00000           0.05503   \n",
       "\n",
       "     Precision_Plug  Recall_Bulb  Recall_Camera  Recall_Plug  \n",
       "KNN         0.68006      0.93211        0.62752      0.80734  \n",
       "RF          0.48249      0.91927        0.08440      0.78349  \n",
       "LDA         0.77570      0.00000        0.05321      0.76147  "
      ]
     },
     "metadata": {},
     "output_type": "display_data"
    }
   ],
   "source": [
    "nv_metrics_df = w.report_metrics(nv_metrics, y_list, 'wifi-novendor_metrics')\n",
    "display(nv_metrics_df)"
   ]
  },
  {
   "cell_type": "code",
   "execution_count": 27,
   "metadata": {},
   "outputs": [
    {
     "name": "stdout",
     "output_type": "stream",
     "text": [
      "Confusion matrix, without normalization\n",
      "[[508  33   4]\n",
      " [  0 342 203]\n",
      " [  3 102 440]]\n",
      "Confusion matrix, without normalization\n",
      "[[  0 471  74]\n",
      " [470  29  46]\n",
      " [103  27 415]]\n",
      "Confusion matrix, without normalization\n",
      "[[501  40   4]\n",
      " [ 45  46 454]\n",
      " [  3 115 427]]\n"
     ]
    },
    {
     "data": {
      "image/png": "[encoded data removed]",
      "text/plain": [
       "<Figure size 1008x288 with 6 Axes>"
      ]
     },
     "metadata": {},
     "output_type": "display_data"
    }
   ],
   "source": [
    "w.plot_all_confusion_matrices(nv_cms, y_list)"
   ]
  },
  {
   "cell_type": "code",
   "execution_count": 28,
   "metadata": {},
   "outputs": [
    {
     "data": {
      "text/plain": [
       "Assoc_Packets   0.92621\n",
       "PacketLength    0.03283\n",
       "Data            0.02683\n",
       "QoS_Data        0.00786\n",
       "QoS_Null        0.00505\n",
       "Tp-link         0.00123\n",
       "dtype: float64"
      ]
     },
     "execution_count": 28,
     "metadata": {},
     "output_type": "execute_result"
    }
   ],
   "source": [
    "w.report_featureimportance(nv_feature_importance, nv_features)"
   ]
  },
  {
   "cell_type": "markdown",
   "metadata": {},
   "source": [
    "## Error analysis"
   ]
  },
  {
   "cell_type": "code",
   "execution_count": 29,
   "metadata": {},
   "outputs": [],
   "source": [
    "def output_decisionpath(model, features_list, class_names, filename):\n",
    "    # Source: https://towardsdatascience.com/how-to-visualize-a-decision-tree-from-a-random-forest-in-python-using-scikit-learn-38ad2d75f21c\n",
    "\n",
    "    # Extract single tree\n",
    "    estimator = model.estimators_[5]\n",
    "\n",
    "    from sklearn.tree import export_graphviz\n",
    "    # Export as dot file\n",
    "    export_graphviz(estimator, out_file='tree.dot', \n",
    "                    feature_names = features_list,\n",
    "                    class_names = class_names,\n",
    "                    rounded = True, proportion = False, \n",
    "                    precision = 2, filled = True)\n",
    "\n",
    "    # Convert to png using system command (requires Graphviz)\n",
    "    from subprocess import call\n",
    "    call(['dot', '-Tpng', 'tree.dot', '-o', 'Results/'+filename+'.png', '-Gdpi=600'])"
   ]
  },
  {
   "cell_type": "markdown",
   "metadata": {},
   "source": [
    "**Error 1**: KNN and RF confuse camera and plugs"
   ]
  },
  {
   "cell_type": "code",
   "execution_count": 30,
   "metadata": {},
   "outputs": [],
   "source": [
    "# Get camera and plug packets\n",
    "df_train_camplugs = df_train[(df_train['DeviceType']=='camera') | (df_train['DeviceType']=='plug')]\n",
    "\n",
    "df_test_camplugs = df_test_downsampled[(df_test_downsampled['DeviceType']=='camera') | (df_test_downsampled['DeviceType']=='plug')]"
   ]
  },
  {
   "cell_type": "markdown",
   "metadata": {},
   "source": [
    "Isolate the two classes"
   ]
  },
  {
   "cell_type": "code",
   "execution_count": 31,
   "metadata": {},
   "outputs": [],
   "source": [
    "# Run multiclass on just the two device types\n",
    "camplugs_preds, camplugs_metrics, camplugs_cms, camplugs_feature_importance = w.run_multiclass(df_train_camplugs, df_test_camplugs, features_list, ['camera','plug'],use_tuned=False)"
   ]
  },
  {
   "cell_type": "code",
   "execution_count": 32,
   "metadata": {},
   "outputs": [
    {
     "data": {
      "text/html": [
       "<div>\n",
       "<style scoped>\n",
       "    .dataframe tbody tr th:only-of-type {\n",
       "        vertical-align: middle;\n",
       "    }\n",
       "\n",
       "    .dataframe tbody tr th {\n",
       "        vertical-align: top;\n",
       "    }\n",
       "\n",
       "    .dataframe thead th {\n",
       "        text-align: right;\n",
       "    }\n",
       "</style>\n",
       "<table border=\"1\" class=\"dataframe\">\n",
       "  <thead>\n",
       "    <tr style=\"text-align: right;\">\n",
       "      <th></th>\n",
       "      <th>MCC</th>\n",
       "      <th>Mean_Precision</th>\n",
       "      <th>Mean_Recall</th>\n",
       "      <th>Precision_Camera</th>\n",
       "      <th>Precision_Plug</th>\n",
       "      <th>Recall_Camera</th>\n",
       "      <th>Recall_Plug</th>\n",
       "    </tr>\n",
       "  </thead>\n",
       "  <tbody>\n",
       "    <tr>\n",
       "      <th>KNN</th>\n",
       "      <td>-0.07908</td>\n",
       "      <td>0.45131</td>\n",
       "      <td>0.46789</td>\n",
       "      <td>0.42291</td>\n",
       "      <td>0.47972</td>\n",
       "      <td>0.17615</td>\n",
       "      <td>0.75963</td>\n",
       "    </tr>\n",
       "    <tr>\n",
       "      <th>RF</th>\n",
       "      <td>0.72158</td>\n",
       "      <td>0.86474</td>\n",
       "      <td>0.85688</td>\n",
       "      <td>0.81120</td>\n",
       "      <td>0.91828</td>\n",
       "      <td>0.93028</td>\n",
       "      <td>0.78349</td>\n",
       "    </tr>\n",
       "    <tr>\n",
       "      <th>LDA</th>\n",
       "      <td>0.12847</td>\n",
       "      <td>0.57027</td>\n",
       "      <td>0.55872</td>\n",
       "      <td>0.59877</td>\n",
       "      <td>0.54178</td>\n",
       "      <td>0.35596</td>\n",
       "      <td>0.76147</td>\n",
       "    </tr>\n",
       "  </tbody>\n",
       "</table>\n",
       "</div>"
      ],
      "text/plain": [
       "         MCC  Mean_Precision  Mean_Recall  Precision_Camera  Precision_Plug  \\\n",
       "KNN -0.07908         0.45131      0.46789           0.42291         0.47972   \n",
       "RF   0.72158         0.86474      0.85688           0.81120         0.91828   \n",
       "LDA  0.12847         0.57027      0.55872           0.59877         0.54178   \n",
       "\n",
       "     Recall_Camera  Recall_Plug  \n",
       "KNN        0.17615      0.75963  \n",
       "RF         0.93028      0.78349  \n",
       "LDA        0.35596      0.76147  "
      ]
     },
     "metadata": {},
     "output_type": "display_data"
    }
   ],
   "source": [
    "camplugs_metrics_df = w.report_metrics(camplugs_metrics, ['camera','plug'], 'wifi-camplugs_metrics')\n",
    "display(camplugs_metrics_df)"
   ]
  },
  {
   "cell_type": "code",
   "execution_count": 33,
   "metadata": {},
   "outputs": [
    {
     "name": "stdout",
     "output_type": "stream",
     "text": [
      "Confusion matrix, without normalization\n",
      "[[ 96 449]\n",
      " [131 414]]\n",
      "Confusion matrix, without normalization\n",
      "[[194 351]\n",
      " [130 415]]\n",
      "Confusion matrix, without normalization\n",
      "[[507  38]\n",
      " [118 427]]\n"
     ]
    },
    {
     "data": {
      "image/png": "[encoded data removed]",
      "text/plain": [
       "<Figure size 1008x288 with 6 Axes>"
      ]
     },
     "metadata": {},
     "output_type": "display_data"
    }
   ],
   "source": [
    "w.plot_all_confusion_matrices(camplugs_cms, ['camera','plug'])"
   ]
  },
  {
   "cell_type": "code",
   "execution_count": 34,
   "metadata": {},
   "outputs": [
    {
     "data": {
      "text/plain": [
       "Belkin          0.45660\n",
       "Assoc_Packets   0.27941\n",
       "Dropcam         0.18489\n",
       "PacketLength    0.03493\n",
       "Data            0.01714\n",
       "QoS_Data        0.01518\n",
       "QoS_Null        0.01184\n",
       "Tp-link         0.00000\n",
       "Netgear         0.00000\n",
       "Lifi            0.00000\n",
       "dtype: float64"
      ]
     },
     "execution_count": 34,
     "metadata": {},
     "output_type": "execute_result"
    }
   ],
   "source": [
    "w.report_featureimportance(camplugs_feature_importance, features_list)"
   ]
  },
  {
   "cell_type": "markdown",
   "metadata": {},
   "source": [
    "Show features"
   ]
  },
  {
   "cell_type": "code",
   "execution_count": 35,
   "metadata": {},
   "outputs": [
    {
     "data": {
      "image/png": "[encoded data removed]",
      "text/plain": [
       "<Figure size 432x1008 with 3 Axes>"
      ]
     },
     "metadata": {},
     "output_type": "display_data"
    }
   ],
   "source": [
    "f, axes = plt.subplots(3, 1, figsize=(6, 14))\n",
    "sns.countplot(x='DeviceType', hue='Belkin',ax=axes[0], data=df_test_camplugs);\n",
    "sns.countplot(x='DeviceType', hue='Dropcam',ax=axes[1], data=df_test_camplugs);\n",
    "sns.countplot(x='DeviceType', hue='Assoc_Packets',ax=axes[2], data=df_test_camplugs);\n",
    "plt.legend(loc='upper right');"
   ]
  },
  {
   "cell_type": "code",
   "execution_count": 36,
   "metadata": {},
   "outputs": [],
   "source": [
    "w_rf_camplug = RandomForestClassifier()\n",
    "rf_camplug_model = w_rf_camplug.fit(df_train_camplugs[features_list], df_train_camplugs['DeviceType'])\n",
    "dp = w_rf_camplug.decision_path(df_test_camplugs[features_list])"
   ]
  },
  {
   "cell_type": "code",
   "execution_count": 37,
   "metadata": {},
   "outputs": [],
   "source": [
    "output_decisionpath(rf_camplug_model, features_list, ['camera','plug'], 'rf-camplug-tree')"
   ]
  },
  {
   "cell_type": "markdown",
   "metadata": {},
   "source": [
    "**Error 2**: Confusion of bulbs for cameras and cameras for bulbs"
   ]
  },
  {
   "cell_type": "code",
   "execution_count": 38,
   "metadata": {},
   "outputs": [],
   "source": [
    "# Get camera and plug packets\n",
    "df_train_cambulbs = df_train[(df_train['DeviceType']=='camera') | (df_train['DeviceType']=='bulb')]\n",
    "\n",
    "df_test_cambulbs = df_test_downsampled[(df_test_downsampled['DeviceType']=='camera') | (df_test_downsampled['DeviceType']=='bulb')]"
   ]
  },
  {
   "cell_type": "markdown",
   "metadata": {},
   "source": [
    "Isolate the two classes"
   ]
  },
  {
   "cell_type": "code",
   "execution_count": 39,
   "metadata": {},
   "outputs": [],
   "source": [
    "# Run multiclass on just the two device types\n",
    "cambulbs_preds, cambulbs_metrics, cambulbs_cms, cambulbs_feature_importance = w.run_multiclass(df_train_cambulbs, df_test_cambulbs, features_list, ['camera','bulb'],use_tuned=False)"
   ]
  },
  {
   "cell_type": "code",
   "execution_count": 40,
   "metadata": {},
   "outputs": [
    {
     "data": {
      "text/html": [
       "<div>\n",
       "<style scoped>\n",
       "    .dataframe tbody tr th:only-of-type {\n",
       "        vertical-align: middle;\n",
       "    }\n",
       "\n",
       "    .dataframe tbody tr th {\n",
       "        vertical-align: top;\n",
       "    }\n",
       "\n",
       "    .dataframe thead th {\n",
       "        text-align: right;\n",
       "    }\n",
       "</style>\n",
       "<table border=\"1\" class=\"dataframe\">\n",
       "  <thead>\n",
       "    <tr style=\"text-align: right;\">\n",
       "      <th></th>\n",
       "      <th>MCC</th>\n",
       "      <th>Mean_Precision</th>\n",
       "      <th>Mean_Recall</th>\n",
       "      <th>Precision_Bulb</th>\n",
       "      <th>Precision_Camera</th>\n",
       "      <th>Recall_Bulb</th>\n",
       "      <th>Recall_Camera</th>\n",
       "    </tr>\n",
       "  </thead>\n",
       "  <tbody>\n",
       "    <tr>\n",
       "      <th>KNN</th>\n",
       "      <td>0.98905</td>\n",
       "      <td>0.99456</td>\n",
       "      <td>0.99450</td>\n",
       "      <td>0.98911</td>\n",
       "      <td>1.00000</td>\n",
       "      <td>1.00000</td>\n",
       "      <td>0.98899</td>\n",
       "    </tr>\n",
       "    <tr>\n",
       "      <th>RF</th>\n",
       "      <td>0.27183</td>\n",
       "      <td>0.76847</td>\n",
       "      <td>0.56881</td>\n",
       "      <td>1.00000</td>\n",
       "      <td>0.53695</td>\n",
       "      <td>0.13761</td>\n",
       "      <td>1.00000</td>\n",
       "    </tr>\n",
       "    <tr>\n",
       "      <th>LDA</th>\n",
       "      <td>1.00000</td>\n",
       "      <td>1.00000</td>\n",
       "      <td>1.00000</td>\n",
       "      <td>1.00000</td>\n",
       "      <td>1.00000</td>\n",
       "      <td>1.00000</td>\n",
       "      <td>1.00000</td>\n",
       "    </tr>\n",
       "  </tbody>\n",
       "</table>\n",
       "</div>"
      ],
      "text/plain": [
       "        MCC  Mean_Precision  Mean_Recall  Precision_Bulb  Precision_Camera  \\\n",
       "KNN 0.98905         0.99456      0.99450         0.98911           1.00000   \n",
       "RF  0.27183         0.76847      0.56881         1.00000           0.53695   \n",
       "LDA 1.00000         1.00000      1.00000         1.00000           1.00000   \n",
       "\n",
       "     Recall_Bulb  Recall_Camera  \n",
       "KNN      1.00000        0.98899  \n",
       "RF       0.13761        1.00000  \n",
       "LDA      1.00000        1.00000  "
      ]
     },
     "metadata": {},
     "output_type": "display_data"
    }
   ],
   "source": [
    "cambulbs_metrics_df = w.report_metrics(cambulbs_metrics, ['camera','bulb'], 'wifi-cambulbs_metrics')\n",
    "display(cambulbs_metrics_df)"
   ]
  },
  {
   "cell_type": "code",
   "execution_count": 41,
   "metadata": {},
   "outputs": [
    {
     "name": "stdout",
     "output_type": "stream",
     "text": [
      "Confusion matrix, without normalization\n",
      "[[545   0]\n",
      " [  6 539]]\n",
      "Confusion matrix, without normalization\n",
      "[[545   0]\n",
      " [  0 545]]\n",
      "Confusion matrix, without normalization\n",
      "[[ 75 470]\n",
      " [  0 545]]\n"
     ]
    },
    {
     "data": {
      "image/png": "[encoded data removed]",
      "text/plain": [
       "<Figure size 1008x288 with 6 Axes>"
      ]
     },
     "metadata": {},
     "output_type": "display_data"
    }
   ],
   "source": [
    "w.plot_all_confusion_matrices(cambulbs_cms, ['camera','bulb'])"
   ]
  },
  {
   "cell_type": "code",
   "execution_count": 42,
   "metadata": {},
   "outputs": [
    {
     "data": {
      "text/plain": [
       "Lifi            0.44740\n",
       "Assoc_Packets   0.14514\n",
       "Tp-link         0.14344\n",
       "Belkin          0.11003\n",
       "PacketLength    0.09137\n",
       "Dropcam         0.05128\n",
       "QoS_Data        0.01065\n",
       "QoS_Null        0.00069\n",
       "Data            0.00000\n",
       "Netgear         0.00000\n",
       "dtype: float64"
      ]
     },
     "execution_count": 42,
     "metadata": {},
     "output_type": "execute_result"
    }
   ],
   "source": [
    "w.report_featureimportance(cambulbs_feature_importance, features_list)"
   ]
  },
  {
   "cell_type": "markdown",
   "metadata": {},
   "source": [
    "Show features"
   ]
  },
  {
   "cell_type": "code",
   "execution_count": 43,
   "metadata": {},
   "outputs": [
    {
     "data": {
      "image/png": "[encoded data removed]",
      "text/plain": [
       "<Figure size 432x1008 with 3 Axes>"
      ]
     },
     "metadata": {},
     "output_type": "display_data"
    }
   ],
   "source": [
    "f, axes = plt.subplots(3, 1, figsize=(6, 14))\n",
    "sns.countplot(x='DeviceType', hue='Lifi',ax=axes[0], data=df_test_cambulbs);\n",
    "\n",
    "g = sns.countplot(x=df_test_cambulbs['DeviceType'], hue=pd.cut(df_test_cambulbs['PacketLength'], bins=[25,100,500,1550]),ax=axes[1]);\n",
    "g.set_yscale('log')\n",
    "\n",
    "g = sns.countplot(x=df_test_cambulbs['DeviceType'], hue=pd.cut(df_test_cambulbs['Assoc_Packets'], bins=[0,30,60,200]),ax=axes[2]);\n",
    "g.set_yscale('log')\n",
    "\n",
    "plt.legend(loc='right');"
   ]
  },
  {
   "cell_type": "markdown",
   "metadata": {},
   "source": [
    "Show decision path"
   ]
  },
  {
   "cell_type": "code",
   "execution_count": 44,
   "metadata": {},
   "outputs": [],
   "source": [
    "w_rf_cambulb = RandomForestClassifier()\n",
    "rf_cambulb_model = w_rf_cambulb.fit(df_train_cambulbs[features_list], df_train_cambulbs['DeviceType'])\n",
    "dp = w_rf_cambulb.decision_path(df_test_cambulbs[features_list])"
   ]
  },
  {
   "cell_type": "code",
   "execution_count": 45,
   "metadata": {},
   "outputs": [],
   "source": [
    "output_decisionpath(rf_cambulb_model, features_list, ['camera','bulb'], 'rf-cambulb-tree')"
   ]
  },
  {
   "cell_type": "code",
   "execution_count": 46,
   "metadata": {},
   "outputs": [
    {
     "name": "stdout",
     "output_type": "stream",
     "text": [
      "73.6617748737\n",
      "378.788547039\n",
      "40.2277908325\n",
      "940.127942085\n"
     ]
    }
   ],
   "source": [
    "print multiclass_end\n",
    "print fs_end\n",
    "print nv_end\n",
    "print time.time() - start_time"
   ]
  }
 ],
 "metadata": {
  "kernelspec": {
   "display_name": "Python 2",
   "language": "python",
   "name": "python2"
  },
  "language_info": {
   "codemirror_mode": {
    "name": "ipython",
    "version": 2
   },
   "file_extension": ".py",
   "mimetype": "text/x-python",
   "name": "python",
   "nbconvert_exporter": "python",
   "pygments_lexer": "ipython2",
   "version": "2.7.15"
  }
 },
 "nbformat": 4,
 "nbformat_minor": 2
}
