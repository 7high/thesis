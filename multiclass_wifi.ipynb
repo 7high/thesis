{
 "cells": [
  {
   "cell_type": "code",
   "execution_count": 164,
   "metadata": {},
   "outputs": [],
   "source": [
    "from Pipeline import BLEPipeline, WifiPipeline\n",
    "\n",
    "# General data processing\n",
    "import numpy as np\n",
    "import pandas as pd\n",
    "\n",
    "# Plotting\n",
    "import matplotlib.pyplot as plt\n",
    "import seaborn as sns\n",
    "import scikitplot as skplt\n",
    "\n",
    "# ML libraries\n",
    "from sklearn.discriminant_analysis import LinearDiscriminantAnalysis\n",
    "from sklearn.ensemble import RandomForestClassifier\n",
    "from sklearn.neighbors import KNeighborsClassifier\n",
    "from sklearn.metrics import balanced_accuracy_score, precision_score, recall_score, roc_auc_score, confusion_matrix\n",
    "from sklearn.model_selection import GridSearchCV, KFold, cross_val_score\n",
    "\n",
    "# System libraries\n",
    "import itertools\n",
    "import random, time\n",
    "\n",
    "# Warning filtering\n",
    "import warnings\n",
    "warnings.filterwarnings(\"ignore\", category=FutureWarning)\n",
    "warnings.filterwarnings(\"ignore\", category=UserWarning)\n",
    "warnings.filterwarnings(\"ignore\", category=DeprecationWarning)\n",
    "plt.rcParams.update({'figure.max_open_warning': 0})"
   ]
  },
  {
   "cell_type": "markdown",
   "metadata": {},
   "source": [
    "# Define functions"
   ]
  },
  {
   "cell_type": "code",
   "execution_count": 191,
   "metadata": {},
   "outputs": [],
   "source": [
    "def run_multiclass(df_train, df_test, features_list, y_list):\n",
    "    # Initialize classifiers using tuned hyperparameters\n",
    "    knn = KNeighborsClassifier(n_neighbors=3)\n",
    "    lda = LinearDiscriminantAnalysis(n_components=1)\n",
    "    rf = RandomForestClassifier(max_features=6)    \n",
    "    \n",
    "    # Train classifiers\n",
    "    knn_model = knn.fit(df_train[features_list], df_train['DeviceType'])\n",
    "    lda_model = lda.fit(df_train[features_list], df_train['DeviceType'])\n",
    "    rf_model = rf.fit(df_train[features_list], df_train['DeviceType'])\n",
    "    \n",
    "    # Test classifiers\n",
    "    knn_preds = knn_model.predict(df_test[features_list])\n",
    "    lda_preds = lda_model.predict(df_test[features_list])\n",
    "    rf_preds = rf_model.predict(df_test[features_list])\n",
    "    \n",
    "    preds = dict(knn=knn_preds, lda=lda_preds, rf=rf_preds)\n",
    "    \n",
    "    # Score classifiers\n",
    "    metrics = {}\n",
    "    conf_matrices = {}\n",
    "    for classifier,pred in preds.iteritems():\n",
    "        bacc = balanced_accuracy_score(df_test['DeviceType'], pred)\n",
    "        prec = precision_score(df_test['DeviceType'], pred, average='weighted')\n",
    "        recall = recall_score(df_test['DeviceType'], pred, average='weighted')\n",
    "        \n",
    "        conf_matrices[classifier] = confusion_matrix(df_test['DeviceType'], pred, labels=y_list)\n",
    "        metrics[classifier] = bacc, prec, recall\n",
    "    \n",
    "    return preds, metrics, conf_matrices"
   ]
  },
  {
   "cell_type": "code",
   "execution_count": 144,
   "metadata": {},
   "outputs": [],
   "source": [
    "def plot_confusion_matrix(cm, classes,\n",
    "                          normalize=False,\n",
    "                          title='Confusion matrix',\n",
    "                          cmap=plt.cm.Blues):\n",
    "    \"\"\"\n",
    "    Source: https://scikit-learn.org/stable/auto_examples/model_selection/plot_confusion_matrix.html\n",
    "    This function prints and plots the confusion matrix.\n",
    "    Normalization can be applied by setting `normalize=True`.\n",
    "    \"\"\"\n",
    "    if normalize:\n",
    "        cm = cm.astype('float') / cm.sum(axis=1)[:, np.newaxis]\n",
    "        print(\"Normalized confusion matrix\")\n",
    "    else:\n",
    "        print('Confusion matrix, without normalization')\n",
    "\n",
    "    print(cm)\n",
    "\n",
    "    plt.imshow(cm, interpolation='nearest', cmap=cmap)\n",
    "    plt.title(title)\n",
    "    plt.colorbar()\n",
    "    tick_marks = np.arange(len(classes))\n",
    "    plt.xticks(tick_marks, classes, rotation=45)\n",
    "    plt.yticks(tick_marks, classes)\n",
    "\n",
    "    fmt = '.2f' if normalize else 'd'\n",
    "    thresh = cm.max() / 2.\n",
    "    for i, j in itertools.product(range(cm.shape[0]), range(cm.shape[1])):\n",
    "        plt.text(j, i, format(cm[i, j], fmt),\n",
    "                 horizontalalignment=\"center\",\n",
    "                 color=\"white\" if cm[i, j] > thresh else \"black\")\n",
    "\n",
    "    plt.ylabel('True label')\n",
    "    plt.xlabel('Predicted label')\n",
    "    plt.tight_layout()"
   ]
  },
  {
   "cell_type": "markdown",
   "metadata": {},
   "source": [
    "# Create, process dataframe"
   ]
  },
  {
   "cell_type": "code",
   "execution_count": null,
   "metadata": {},
   "outputs": [],
   "source": [
    "w = WifiPipeline()"
   ]
  },
  {
   "cell_type": "code",
   "execution_count": 3,
   "metadata": {},
   "outputs": [
    {
     "name": "stdout",
     "output_type": "stream",
     "text": [
      "Router     101880\n",
      "Mini        75782\n",
      "Dropcam     45912\n",
      "Kasa        17156\n",
      "Netcam2      3056\n",
      "Netcam3      2961\n",
      "Netcam1      2314\n",
      "Switch2      2204\n",
      "Switch1      1963\n",
      "Switch3      1955\n",
      "Insight      1738\n",
      "Switch4      1504\n",
      "Lifx2         545\n",
      "Lifx1         495\n",
      "TpPlug        366\n",
      "TpBulb        191\n",
      "Name: Name, dtype: int64\n"
     ]
    }
   ],
   "source": [
    "df = w.make_dataframe()\n",
    "\n",
    "# Take out packets from router\n",
    "df = df[df[\"DeviceType\"]!=\"router\"]"
   ]
  },
  {
   "cell_type": "markdown",
   "metadata": {},
   "source": [
    "# Prep multiclass classifiers"
   ]
  },
  {
   "cell_type": "code",
   "execution_count": 192,
   "metadata": {},
   "outputs": [],
   "source": [
    "# Wifi: Define which features to use\n",
    "features_list = [\n",
    "        # Packet info\n",
    "        \"PacketLength\",\n",
    "        \n",
    "        # Vendor \n",
    "         \"Belkin\", \"Dropcam\", \"Lifi\", \"Netgear\", \"Tp-link\",\n",
    "    \n",
    "        # 802.11 Data subtype\n",
    "        \"Data\", \"QoS_Data\", \"QoS_Null\",\n",
    "\n",
    "        # Associated Packets\n",
    "        \"Assoc_Packets\"]\n",
    "\n",
    "# Define what the response classes are\n",
    "y_list = [\"bulb\", \"camera\", \"plug\"]"
   ]
  },
  {
   "cell_type": "code",
   "execution_count": 193,
   "metadata": {},
   "outputs": [],
   "source": [
    "# Divide training and test sets\n",
    "df_train = df[df['Set']=='train']\n",
    "df_test = df[df['Set']=='test']"
   ]
  },
  {
   "cell_type": "markdown",
   "metadata": {},
   "source": [
    "# Run multiclass"
   ]
  },
  {
   "cell_type": "code",
   "execution_count": 194,
   "metadata": {},
   "outputs": [],
   "source": [
    "trial_results = []\n",
    "for i in range(0,3):\n",
    "    preds, metrics, cms = run_multiclass(df_train, df_test, features_list, y_list)\n",
    "    result = (preds, metrics, cms)\n",
    "    trial_results.append(result)"
   ]
  },
  {
   "cell_type": "code",
   "execution_count": 195,
   "metadata": {},
   "outputs": [
    {
     "name": "stdout",
     "output_type": "stream",
     "text": [
      "(0.8123979938215419, 0.9067339391941054, 0.6735309781643884)\n",
      "\n",
      "(0.8123979938215419, 0.9067339391941054, 0.6735309781643884)\n",
      "\n",
      "(0.8123979938215419, 0.9067339391941054, 0.6735309781643884)\n",
      "\n"
     ]
    }
   ],
   "source": [
    "# Tuned\n",
    "for trial in trial_results:\n",
    "    print trial[1]['knn']\n",
    "    print"
   ]
  },
  {
   "cell_type": "code",
   "execution_count": 160,
   "metadata": {},
   "outputs": [
    {
     "name": "stdout",
     "output_type": "stream",
     "text": [
      "(0.8062596783680146, 0.9055652042760667, 0.6544913900230783)\n",
      "\n",
      "(0.8062596783680146, 0.9055652042760667, 0.6544913900230783)\n",
      "\n",
      "(0.8062596783680146, 0.9055652042760667, 0.6544913900230783)\n",
      "\n"
     ]
    }
   ],
   "source": [
    "# Untuned\n",
    "# for trial in trial_results:\n",
    "#     print trial[1]['knn']\n",
    "#     print"
   ]
  },
  {
   "cell_type": "markdown",
   "metadata": {},
   "source": [
    "# Report results"
   ]
  },
  {
   "cell_type": "markdown",
   "metadata": {},
   "source": [
    "## Report confusion matrices"
   ]
  },
  {
   "cell_type": "code",
   "execution_count": 140,
   "metadata": {},
   "outputs": [
    {
     "name": "stdout",
     "output_type": "stream",
     "text": [
      "Normalized confusion matrix\n",
      "[[9.85321101e-01 7.33944954e-03 7.33944954e-03]\n",
      " [4.97092012e-05 6.31853656e-01 3.68096635e-01]\n",
      " [5.34759358e-03 1.93048128e-01 8.01604278e-01]]\n"
     ]
    },
    {
     "data": {
      "image/png": "[encoded data removed]",
      "text/plain": [
       "<Figure size 432x288 with 2 Axes>"
      ]
     },
     "metadata": {},
     "output_type": "display_data"
    }
   ],
   "source": [
    "classifier = 'knn'\n",
    "plot_confusion_matrix(cms[classifier], classes=y_list, title=classifier.upper() + ' Confusion Matrix (normalized)',normalize=True);"
   ]
  },
  {
   "cell_type": "code",
   "execution_count": 141,
   "metadata": {},
   "outputs": [
    {
     "name": "stdout",
     "output_type": "stream",
     "text": [
      "Normalized confusion matrix\n",
      "[[1.         0.         0.        ]\n",
      " [0.         0.34687081 0.65312919]\n",
      " [0.         0.25080214 0.74919786]]\n"
     ]
    },
    {
     "data": {
      "image/png": "[encoded data removed]",
      "text/plain": [
       "<Figure size 432x288 with 2 Axes>"
      ]
     },
     "metadata": {},
     "output_type": "display_data"
    }
   ],
   "source": [
    "classifier = 'lda'\n",
    "plot_confusion_matrix(cms[classifier], classes=y_list, title=classifier.upper() + ' Confusion Matrix (normalized)',normalize=True);"
   ]
  },
  {
   "cell_type": "code",
   "execution_count": 142,
   "metadata": {},
   "outputs": [
    {
     "name": "stdout",
     "output_type": "stream",
     "text": [
      "Normalized confusion matrix\n",
      "[[1.         0.         0.        ]\n",
      " [0.29040115 0.08356117 0.62603768]\n",
      " [0.00695187 0.21016043 0.7828877 ]]\n"
     ]
    },
    {
     "data": {
      "image/png": "[encoded data removed]",
      "text/plain": [
       "<Figure size 432x288 with 2 Axes>"
      ]
     },
     "metadata": {},
     "output_type": "display_data"
    }
   ],
   "source": [
    "classifier = 'rf'\n",
    "plot_confusion_matrix(cms[classifier], classes=y_list, title=classifier.upper() + ' Confusion Matrix (normalized)',normalize=True);"
   ]
  },
  {
   "cell_type": "markdown",
   "metadata": {},
   "source": [
    "## Report metrics"
   ]
  },
  {
   "cell_type": "code",
   "execution_count": 147,
   "metadata": {},
   "outputs": [
    {
     "name": "stdout",
     "output_type": "stream",
     "text": [
      "knn (0.8062596783680146, 0.9055652042760667, 0.6544913900230783)\n",
      "rf (0.6221496225689344, 0.7343424255022107, 0.1637670868098704)\n",
      "lda (0.6986895555829059, 0.8687754105147412, 0.3960589383987218)\n"
     ]
    }
   ],
   "source": [
    "for k,v in metrics.iteritems():\n",
    "    print k, v"
   ]
  }
 ],
 "metadata": {
  "kernelspec": {
   "display_name": "Python 2",
   "language": "python",
   "name": "python2"
  },
  "language_info": {
   "codemirror_mode": {
    "name": "ipython",
    "version": 2
   },
   "file_extension": ".py",
   "mimetype": "text/x-python",
   "name": "python",
   "nbconvert_exporter": "python",
   "pygments_lexer": "ipython2",
   "version": "2.7.15"
  }
 },
 "nbformat": 4,
 "nbformat_minor": 2
}
