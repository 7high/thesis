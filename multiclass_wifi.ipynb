{
 "cells": [
  {
   "cell_type": "code",
   "execution_count": 1,
   "metadata": {},
   "outputs": [],
   "source": [
    "# from Pipeline import WifiPipeline\n",
    "from MulticlassDCP import WifiMulticlassDCP\n",
    "\n",
    "# General data processing\n",
    "import numpy as np\n",
    "import pandas as pd\n",
    "\n",
    "# Plotting\n",
    "import matplotlib.pyplot as plt\n",
    "import seaborn as sns\n",
    "\n",
    "# ML libraries\n",
    "from sklearn.discriminant_analysis import LinearDiscriminantAnalysis\n",
    "from sklearn.ensemble import RandomForestClassifier\n",
    "from sklearn.neighbors import KNeighborsClassifier\n",
    "from sklearn.metrics import balanced_accuracy_score, precision_score, recall_score, confusion_matrix, matthews_corrcoef\n",
    "from sklearn.model_selection import GridSearchCV, cross_val_score\n",
    "from imblearn.under_sampling import RandomUnderSampler\n",
    "\n",
    "# System libraries\n",
    "import itertools\n",
    "import random, time\n",
    "\n",
    "# Warning filtering\n",
    "import warnings\n",
    "warnings.filterwarnings(\"ignore\", category=FutureWarning)\n",
    "warnings.filterwarnings(\"ignore\", category=UserWarning)\n",
    "warnings.filterwarnings(\"ignore\", category=DeprecationWarning)\n",
    "plt.rcParams.update({'figure.max_open_warning': 0})"
   ]
  },
  {
   "cell_type": "markdown",
   "metadata": {},
   "source": [
    "# Create, process dataframe"
   ]
  },
  {
   "cell_type": "code",
   "execution_count": 2,
   "metadata": {},
   "outputs": [],
   "source": [
    "start_time = time.time()"
   ]
  },
  {
   "cell_type": "code",
   "execution_count": 3,
   "metadata": {},
   "outputs": [],
   "source": [
    "w = WifiMulticlassDCP()"
   ]
  },
  {
   "cell_type": "code",
   "execution_count": 4,
   "metadata": {},
   "outputs": [
    {
     "name": "stdout",
     "output_type": "stream",
     "text": [
      "Router     101880\n",
      "Mini        75782\n",
      "Dropcam     45912\n",
      "Kasa        17156\n",
      "Netcam2      3056\n",
      "Netcam3      2961\n",
      "Netcam1      2314\n",
      "Switch2      2204\n",
      "Switch1      1963\n",
      "Switch3      1955\n",
      "Insight      1738\n",
      "Switch4      1504\n",
      "Lifx2         545\n",
      "Lifx1         495\n",
      "TpPlug        366\n",
      "TpBulb        191\n",
      "Name: Name, dtype: int64\n",
      "158142\n"
     ]
    }
   ],
   "source": [
    "df = w.make_dataframe()\n",
    "\n",
    "# Take out packets from router\n",
    "df = df[df[\"DeviceType\"]!=\"router\"]\n",
    "print len(df)"
   ]
  },
  {
   "cell_type": "markdown",
   "metadata": {},
   "source": [
    "# Prep dataset"
   ]
  },
  {
   "cell_type": "code",
   "execution_count": 5,
   "metadata": {},
   "outputs": [],
   "source": [
    "# Wifi: Define which features to use\n",
    "features_list = [\n",
    "        # Packet info\n",
    "        \"PacketLength\",\n",
    "        \n",
    "        # Vendor \n",
    "         \"Belkin\", \"Dropcam\", \"Lifi\", \"Netgear\", \"Tp-link\",\n",
    "    \n",
    "        # 802.11 Data subtype\n",
    "        \"Data\", \"QoS_Data\", \"QoS_Null\",\n",
    "\n",
    "        # Associated Packets\n",
    "        \"Assoc_Packets\"]\n",
    "\n",
    "# Define what the response classes are\n",
    "y_list = [\"bulb\", \"camera\", \"plug\"]"
   ]
  },
  {
   "cell_type": "code",
   "execution_count": 6,
   "metadata": {},
   "outputs": [
    {
     "name": "stdout",
     "output_type": "stream",
     "text": [
      "plug      83642\n",
      "camera    51282\n",
      "bulb        686\n",
      "Name: DeviceType, dtype: int64\n"
     ]
    }
   ],
   "source": [
    "# Prep training set\n",
    "df_train = df[df['Set']=='train']\n",
    "print df_train['DeviceType'].value_counts()"
   ]
  },
  {
   "cell_type": "code",
   "execution_count": 7,
   "metadata": {},
   "outputs": [
    {
     "name": "stdout",
     "output_type": "stream",
     "text": [
      "Initial test set distribution:\n",
      "camera    20117\n",
      "plug       1870\n",
      "bulb        545\n",
      "Name: DeviceType, dtype: int64\n"
     ]
    },
    {
     "data": {
      "image/png": "[encoded data removed]",
      "text/plain": [
       "<Figure size 432x288 with 1 Axes>"
      ]
     },
     "metadata": {},
     "output_type": "display_data"
    }
   ],
   "source": [
    "df_test = df[df['Set']=='test']\n",
    "\n",
    "# Show initial test set imbalance\n",
    "print \"Initial test set distribution:\"\n",
    "print df_test['DeviceType'].value_counts()\n",
    "df_test['DeviceType'].value_counts().sort_index().plot(kind='bar', title=\"Test Packet Counts Before Resampling\",logy=True);"
   ]
  },
  {
   "cell_type": "code",
   "execution_count": 8,
   "metadata": {},
   "outputs": [
    {
     "name": "stdout",
     "output_type": "stream",
     "text": [
      "[['bulb' 545]\n",
      " ['camera' 545]\n",
      " ['plug' 545]]\n"
     ]
    }
   ],
   "source": [
    "# Downsample test set so that there is equal chance that the classifier will choose any given class\n",
    "rds = RandomUnderSampler(random_state=42)\n",
    "test_X_downsampled, test_y_downsampled = rds.fit_resample(df_test[features_list], df_test['DeviceType'])\n",
    "\n",
    "# Show class counts after downsampling\n",
    "unique, counts = np.unique(test_y_downsampled, return_counts=True)\n",
    "print np.asarray((unique, counts)).T"
   ]
  },
  {
   "cell_type": "code",
   "execution_count": 9,
   "metadata": {},
   "outputs": [],
   "source": [
    "# Recreate df_test \n",
    "df_test_downsampled = pd.DataFrame(test_X_downsampled,columns=features_list)\n",
    "df_test_downsampled['DeviceType'] = test_y_downsampled"
   ]
  },
  {
   "cell_type": "markdown",
   "metadata": {},
   "source": [
    "# Run multiclass"
   ]
  },
  {
   "cell_type": "code",
   "execution_count": 10,
   "metadata": {
    "scrolled": false
   },
   "outputs": [],
   "source": [
    "multiclass_start = time.time()\n",
    "\n",
    "preds, metrics, cms, feature_importance = w.run_multiclass(df_train, df_test_downsampled, features_list, y_list)\n",
    "\n",
    "multiclass_end = time.time() - multiclass_start"
   ]
  },
  {
   "cell_type": "markdown",
   "metadata": {},
   "source": [
    "# Report results"
   ]
  },
  {
   "cell_type": "markdown",
   "metadata": {},
   "source": [
    "## Report confusion matrices"
   ]
  },
  {
   "cell_type": "code",
   "execution_count": 11,
   "metadata": {},
   "outputs": [
    {
     "name": "stdout",
     "output_type": "stream",
     "text": [
      "Confusion matrix, without normalization\n",
      "[[537   4   4]\n",
      " [  0 342 203]\n",
      " [  3 102 440]]\n",
      "Confusion matrix, without normalization\n",
      "[[545   0   0]\n",
      " [  0 194 351]\n",
      " [  0 130 415]]\n",
      "Confusion matrix, without normalization\n",
      "[[545   0   0]\n",
      " [166  46 333]\n",
      " [103  15 427]]\n"
     ]
    },
    {
     "data": {
      "image/png": "[encoded data removed]",
      "text/plain": [
       "<Figure size 1008x288 with 6 Axes>"
      ]
     },
     "metadata": {},
     "output_type": "display_data"
    }
   ],
   "source": [
    "w.plot_all_confusion_matrices(cms, y_list)"
   ]
  },
  {
   "cell_type": "markdown",
   "metadata": {},
   "source": [
    "## Report metrics"
   ]
  },
  {
   "cell_type": "code",
   "execution_count": 12,
   "metadata": {},
   "outputs": [
    {
     "data": {
      "text/html": [
       "<div>\n",
       "<style scoped>\n",
       "    .dataframe tbody tr th:only-of-type {\n",
       "        vertical-align: middle;\n",
       "    }\n",
       "\n",
       "    .dataframe tbody tr th {\n",
       "        vertical-align: top;\n",
       "    }\n",
       "\n",
       "    .dataframe thead th {\n",
       "        text-align: right;\n",
       "    }\n",
       "</style>\n",
       "<table border=\"1\" class=\"dataframe\">\n",
       "  <thead>\n",
       "    <tr style=\"text-align: right;\">\n",
       "      <th></th>\n",
       "      <th>BACC</th>\n",
       "      <th>Matt_Corr</th>\n",
       "      <th>Precision_Bulb</th>\n",
       "      <th>Precision_Camera</th>\n",
       "      <th>Precision_Plug</th>\n",
       "      <th>Recall_Bulb</th>\n",
       "      <th>Recall_Camera</th>\n",
       "      <th>Recall_Plug</th>\n",
       "    </tr>\n",
       "  </thead>\n",
       "  <tbody>\n",
       "    <tr>\n",
       "      <th>knn</th>\n",
       "      <td>0.806728</td>\n",
       "      <td>0.714077</td>\n",
       "      <td>0.994444</td>\n",
       "      <td>0.763393</td>\n",
       "      <td>0.680062</td>\n",
       "      <td>0.985321</td>\n",
       "      <td>0.627523</td>\n",
       "      <td>0.807339</td>\n",
       "    </tr>\n",
       "    <tr>\n",
       "      <th>rf</th>\n",
       "      <td>0.622630</td>\n",
       "      <td>0.484556</td>\n",
       "      <td>0.669533</td>\n",
       "      <td>0.754098</td>\n",
       "      <td>0.561842</td>\n",
       "      <td>1.000000</td>\n",
       "      <td>0.084404</td>\n",
       "      <td>0.783486</td>\n",
       "    </tr>\n",
       "    <tr>\n",
       "      <th>lda</th>\n",
       "      <td>0.705810</td>\n",
       "      <td>0.574687</td>\n",
       "      <td>1.000000</td>\n",
       "      <td>0.598765</td>\n",
       "      <td>0.541775</td>\n",
       "      <td>1.000000</td>\n",
       "      <td>0.355963</td>\n",
       "      <td>0.761468</td>\n",
       "    </tr>\n",
       "  </tbody>\n",
       "</table>\n",
       "</div>"
      ],
      "text/plain": [
       "         BACC  Matt_Corr  Precision_Bulb  Precision_Camera  Precision_Plug  \\\n",
       "knn  0.806728   0.714077        0.994444          0.763393        0.680062   \n",
       "rf   0.622630   0.484556        0.669533          0.754098        0.561842   \n",
       "lda  0.705810   0.574687        1.000000          0.598765        0.541775   \n",
       "\n",
       "     Recall_Bulb  Recall_Camera  Recall_Plug  \n",
       "knn     0.985321       0.627523     0.807339  \n",
       "rf      1.000000       0.084404     0.783486  \n",
       "lda     1.000000       0.355963     0.761468  "
      ]
     },
     "metadata": {},
     "output_type": "display_data"
    }
   ],
   "source": [
    "metrics_df = w.report_metrics(metrics, y_list, 'wifi-multiclass_metrics')\n",
    "display(metrics_df)"
   ]
  },
  {
   "cell_type": "markdown",
   "metadata": {},
   "source": [
    "## Report feature importance"
   ]
  },
  {
   "cell_type": "code",
   "execution_count": 13,
   "metadata": {},
   "outputs": [
    {
     "data": {
      "text/plain": [
       "Dropcam         0.53110\n",
       "Belkin          0.35498\n",
       "PacketLength    0.05263\n",
       "QoS_Null        0.02029\n",
       "Assoc_Packets   0.01883\n",
       "Data            0.01041\n",
       "QoS_Data        0.00931\n",
       "Lifi            0.00203\n",
       "Tp-link         0.00041\n",
       "Netgear         0.00000\n",
       "dtype: float64"
      ]
     },
     "metadata": {},
     "output_type": "display_data"
    }
   ],
   "source": [
    "f_i = w.report_featureimportance(feature_importance, features_list)\n",
    "display(f_i)"
   ]
  },
  {
   "cell_type": "markdown",
   "metadata": {},
   "source": [
    "# Residuals Analysis"
   ]
  },
  {
   "cell_type": "markdown",
   "metadata": {},
   "source": [
    "## Use *k* top features only"
   ]
  },
  {
   "cell_type": "markdown",
   "metadata": {},
   "source": [
    "### Find *k*"
   ]
  },
  {
   "cell_type": "code",
   "execution_count": 14,
   "metadata": {},
   "outputs": [
    {
     "name": "stderr",
     "output_type": "stream",
     "text": [
      "/root/anaconda2/lib/python2.7/site-packages/sklearn/metrics/classification.py:543: RuntimeWarning: invalid value encountered in double_scalars\n",
      "  mcc = cov_ytyp / np.sqrt(cov_ytyt * cov_ypyp)\n"
     ]
    }
   ],
   "source": [
    "fs_start = time.time()\n",
    "\n",
    "# Find best features using KBest scheme\n",
    "feature_selection = []\n",
    "for i in range(0,len(f_i)):\n",
    "    top_features = list(f_i.index[0:i+1])\n",
    "\n",
    "    tf_preds, tf_metrics, tf_cms, tf_feature_importance = w.run_multiclass(df_train, df_test_downsampled, top_features, y_list,use_tuned=False)\n",
    "    tf_metrics_df = w.report_metrics(tf_metrics, y_list, to_csv=False)\n",
    "    \n",
    "    ave = np.average(tf_metrics_df['BACC'])\n",
    "    feature_selection.append(ave)\n",
    "    \n",
    "fs_end = time.time() - fs_start"
   ]
  },
  {
   "cell_type": "code",
   "execution_count": 15,
   "metadata": {},
   "outputs": [
    {
     "name": "stdout",
     "output_type": "stream",
     "text": [
      "Best BACC 0.7734964322120286 : 10 features\n"
     ]
    }
   ],
   "source": [
    "k = feature_selection.index(max(feature_selection))\n",
    "print 'Best BACC',max(feature_selection),\":\", k+1, \"features\""
   ]
  },
  {
   "cell_type": "markdown",
   "metadata": {},
   "source": [
    "### Run multiclass with top *k* features"
   ]
  },
  {
   "cell_type": "code",
   "execution_count": 16,
   "metadata": {},
   "outputs": [],
   "source": [
    "# Run multiclass with top k features\n",
    "tf_preds, tf_metrics, tf_cms, tf_feature_importance = w.run_multiclass(df_train, df_test_downsampled, list(f_i.index[0:k+1]), y_list,use_tuned=False)"
   ]
  },
  {
   "cell_type": "code",
   "execution_count": 17,
   "metadata": {},
   "outputs": [
    {
     "data": {
      "text/html": [
       "<div>\n",
       "<style scoped>\n",
       "    .dataframe tbody tr th:only-of-type {\n",
       "        vertical-align: middle;\n",
       "    }\n",
       "\n",
       "    .dataframe tbody tr th {\n",
       "        vertical-align: top;\n",
       "    }\n",
       "\n",
       "    .dataframe thead th {\n",
       "        text-align: right;\n",
       "    }\n",
       "</style>\n",
       "<table border=\"1\" class=\"dataframe\">\n",
       "  <thead>\n",
       "    <tr style=\"text-align: right;\">\n",
       "      <th></th>\n",
       "      <th>BACC</th>\n",
       "      <th>Matt_Corr</th>\n",
       "      <th>Precision_Bulb</th>\n",
       "      <th>Precision_Camera</th>\n",
       "      <th>Precision_Plug</th>\n",
       "      <th>Recall_Bulb</th>\n",
       "      <th>Recall_Camera</th>\n",
       "      <th>Recall_Plug</th>\n",
       "    </tr>\n",
       "  </thead>\n",
       "  <tbody>\n",
       "    <tr>\n",
       "      <th>knn</th>\n",
       "      <td>0.80673</td>\n",
       "      <td>0.71408</td>\n",
       "      <td>0.99444</td>\n",
       "      <td>0.76339</td>\n",
       "      <td>0.68006</td>\n",
       "      <td>0.98532</td>\n",
       "      <td>0.62752</td>\n",
       "      <td>0.80734</td>\n",
       "    </tr>\n",
       "    <tr>\n",
       "      <th>rf</th>\n",
       "      <td>0.62263</td>\n",
       "      <td>0.46398</td>\n",
       "      <td>0.77305</td>\n",
       "      <td>0.28571</td>\n",
       "      <td>0.55527</td>\n",
       "      <td>1.00000</td>\n",
       "      <td>0.08440</td>\n",
       "      <td>0.78349</td>\n",
       "    </tr>\n",
       "    <tr>\n",
       "      <th>lda</th>\n",
       "      <td>0.70581</td>\n",
       "      <td>0.57469</td>\n",
       "      <td>1.00000</td>\n",
       "      <td>0.59877</td>\n",
       "      <td>0.54178</td>\n",
       "      <td>1.00000</td>\n",
       "      <td>0.35596</td>\n",
       "      <td>0.76147</td>\n",
       "    </tr>\n",
       "  </tbody>\n",
       "</table>\n",
       "</div>"
      ],
      "text/plain": [
       "       BACC  Matt_Corr  Precision_Bulb  Precision_Camera  Precision_Plug  \\\n",
       "knn 0.80673    0.71408         0.99444           0.76339         0.68006   \n",
       "rf  0.62263    0.46398         0.77305           0.28571         0.55527   \n",
       "lda 0.70581    0.57469         1.00000           0.59877         0.54178   \n",
       "\n",
       "     Recall_Bulb  Recall_Camera  Recall_Plug  \n",
       "knn      0.98532        0.62752      0.80734  \n",
       "rf       1.00000        0.08440      0.78349  \n",
       "lda      1.00000        0.35596      0.76147  "
      ]
     },
     "metadata": {},
     "output_type": "display_data"
    }
   ],
   "source": [
    "tf_metrics_df = w.report_metrics(tf_metrics, y_list, 'wifi-topfeatures_metrics')\n",
    "display(tf_metrics_df)"
   ]
  },
  {
   "cell_type": "markdown",
   "metadata": {},
   "source": [
    "### Plot confusion matrices"
   ]
  },
  {
   "cell_type": "code",
   "execution_count": 18,
   "metadata": {},
   "outputs": [
    {
     "name": "stdout",
     "output_type": "stream",
     "text": [
      "Confusion matrix, without normalization\n",
      "[[537   4   4]\n",
      " [  0 342 203]\n",
      " [  3 102 440]]\n",
      "Confusion matrix, without normalization\n",
      "[[545   0   0]\n",
      " [  0 194 351]\n",
      " [  0 130 415]]\n",
      "Confusion matrix, without normalization\n",
      "[[545   0   0]\n",
      " [157  46 342]\n",
      " [  3 115 427]]\n"
     ]
    },
    {
     "data": {
      "image/png": "[encoded data removed]",
      "text/plain": [
       "<Figure size 1008x288 with 6 Axes>"
      ]
     },
     "metadata": {},
     "output_type": "display_data"
    }
   ],
   "source": [
    "w.plot_all_confusion_matrices(tf_cms, y_list)"
   ]
  },
  {
   "cell_type": "markdown",
   "metadata": {},
   "source": [
    "### Report feature importance of *k* best"
   ]
  },
  {
   "cell_type": "code",
   "execution_count": 19,
   "metadata": {
    "scrolled": false
   },
   "outputs": [
    {
     "data": {
      "text/plain": [
       "Assoc_Packets   0.53402\n",
       "Dropcam         0.27073\n",
       "Belkin          0.10041\n",
       "PacketLength    0.03506\n",
       "QoS_Null        0.02616\n",
       "Data            0.01523\n",
       "QoS_Data        0.01266\n",
       "Lifi            0.00459\n",
       "Tp-link         0.00113\n",
       "Netgear         0.00000\n",
       "dtype: float64"
      ]
     },
     "execution_count": 19,
     "metadata": {},
     "output_type": "execute_result"
    }
   ],
   "source": [
    "w.report_featureimportance(tf_feature_importance, f_i.index[0:k+1])"
   ]
  },
  {
   "cell_type": "markdown",
   "metadata": {},
   "source": [
    "## Use only top 3 features"
   ]
  },
  {
   "cell_type": "markdown",
   "metadata": {},
   "source": [
    "### Run multiclass with top 3 features"
   ]
  },
  {
   "cell_type": "code",
   "execution_count": 20,
   "metadata": {},
   "outputs": [],
   "source": [
    "# Run multiclass with top 3 features\n",
    "tf3_preds, tf3_metrics, tf3_cms, tf3_feature_importance = w.run_multiclass(df_train, df_test_downsampled, list(f_i.index[0:3]), y_list,use_tuned=False)"
   ]
  },
  {
   "cell_type": "code",
   "execution_count": 21,
   "metadata": {},
   "outputs": [
    {
     "data": {
      "text/html": [
       "<div>\n",
       "<style scoped>\n",
       "    .dataframe tbody tr th:only-of-type {\n",
       "        vertical-align: middle;\n",
       "    }\n",
       "\n",
       "    .dataframe tbody tr th {\n",
       "        vertical-align: top;\n",
       "    }\n",
       "\n",
       "    .dataframe thead th {\n",
       "        text-align: right;\n",
       "    }\n",
       "</style>\n",
       "<table border=\"1\" class=\"dataframe\">\n",
       "  <thead>\n",
       "    <tr style=\"text-align: right;\">\n",
       "      <th></th>\n",
       "      <th>BACC</th>\n",
       "      <th>Matt_Corr</th>\n",
       "      <th>Precision_Bulb</th>\n",
       "      <th>Precision_Camera</th>\n",
       "      <th>Precision_Plug</th>\n",
       "      <th>Recall_Bulb</th>\n",
       "      <th>Recall_Camera</th>\n",
       "      <th>Recall_Plug</th>\n",
       "    </tr>\n",
       "  </thead>\n",
       "  <tbody>\n",
       "    <tr>\n",
       "      <th>knn</th>\n",
       "      <td>0.61896</td>\n",
       "      <td>0.49439</td>\n",
       "      <td>0.84105</td>\n",
       "      <td>0.90323</td>\n",
       "      <td>0.45921</td>\n",
       "      <td>1.00000</td>\n",
       "      <td>0.05138</td>\n",
       "      <td>0.80550</td>\n",
       "    </tr>\n",
       "    <tr>\n",
       "      <th>rf</th>\n",
       "      <td>0.61896</td>\n",
       "      <td>0.52516</td>\n",
       "      <td>0.48748</td>\n",
       "      <td>0.90323</td>\n",
       "      <td>0.90329</td>\n",
       "      <td>1.00000</td>\n",
       "      <td>0.05138</td>\n",
       "      <td>0.80550</td>\n",
       "    </tr>\n",
       "    <tr>\n",
       "      <th>lda</th>\n",
       "      <td>0.66911</td>\n",
       "      <td>0.54617</td>\n",
       "      <td>0.94527</td>\n",
       "      <td>0.50647</td>\n",
       "      <td>0.85771</td>\n",
       "      <td>0.34862</td>\n",
       "      <td>0.86239</td>\n",
       "      <td>0.79633</td>\n",
       "    </tr>\n",
       "  </tbody>\n",
       "</table>\n",
       "</div>"
      ],
      "text/plain": [
       "       BACC  Matt_Corr  Precision_Bulb  Precision_Camera  Precision_Plug  \\\n",
       "knn 0.61896    0.49439         0.84105           0.90323         0.45921   \n",
       "rf  0.61896    0.52516         0.48748           0.90323         0.90329   \n",
       "lda 0.66911    0.54617         0.94527           0.50647         0.85771   \n",
       "\n",
       "     Recall_Bulb  Recall_Camera  Recall_Plug  \n",
       "knn      1.00000        0.05138      0.80550  \n",
       "rf       1.00000        0.05138      0.80550  \n",
       "lda      0.34862        0.86239      0.79633  "
      ]
     },
     "metadata": {},
     "output_type": "display_data"
    }
   ],
   "source": [
    "tf3_metrics_df = w.report_metrics(tf3_metrics, y_list, 'wifi-tf3_metrics')\n",
    "display(tf3_metrics_df)"
   ]
  },
  {
   "cell_type": "markdown",
   "metadata": {},
   "source": [
    "### Plot confusion matrices"
   ]
  },
  {
   "cell_type": "code",
   "execution_count": 22,
   "metadata": {},
   "outputs": [
    {
     "name": "stdout",
     "output_type": "stream",
     "text": [
      "Confusion matrix, without normalization\n",
      "[[545   0   0]\n",
      " [  0  28 517]\n",
      " [103   3 439]]\n",
      "Confusion matrix, without normalization\n",
      "[[190 355   0]\n",
      " [  3 470  72]\n",
      " [  8 103 434]]\n",
      "Confusion matrix, without normalization\n",
      "[[545   0   0]\n",
      " [470  28  47]\n",
      " [103   3 439]]\n"
     ]
    },
    {
     "data": {
      "image/png": "[encoded data removed]",
      "text/plain": [
       "<Figure size 1008x288 with 6 Axes>"
      ]
     },
     "metadata": {},
     "output_type": "display_data"
    }
   ],
   "source": [
    "w.plot_all_confusion_matrices(tf3_cms, y_list)"
   ]
  },
  {
   "cell_type": "markdown",
   "metadata": {},
   "source": [
    "### Report feature importance of 3 best"
   ]
  },
  {
   "cell_type": "code",
   "execution_count": 23,
   "metadata": {},
   "outputs": [
    {
     "data": {
      "text/plain": [
       "Dropcam        0.54002\n",
       "Belkin         0.36175\n",
       "PacketLength   0.09823\n",
       "dtype: float64"
      ]
     },
     "execution_count": 23,
     "metadata": {},
     "output_type": "execute_result"
    }
   ],
   "source": [
    "w.report_featureimportance(tf3_feature_importance, f_i.index[0:3])"
   ]
  },
  {
   "cell_type": "markdown",
   "metadata": {},
   "source": [
    "## Remove vendor features"
   ]
  },
  {
   "cell_type": "code",
   "execution_count": 24,
   "metadata": {},
   "outputs": [],
   "source": [
    "# Remove vendors features\n",
    "nv_features = ['PacketLength', 'Tp-link', 'Data', 'QoS_Data', 'QoS_Null', 'Assoc_Packets']"
   ]
  },
  {
   "cell_type": "code",
   "execution_count": 25,
   "metadata": {},
   "outputs": [],
   "source": [
    "nv_start = time.time()\n",
    "\n",
    "# Run multiclass with top k features\n",
    "nv_preds, nv_metrics, nv_cms, nv_feature_importance = w.run_multiclass(df_train, df_test_downsampled, nv_features, y_list,use_tuned=False)\n",
    "\n",
    "nv_end = time.time() - nv_start"
   ]
  },
  {
   "cell_type": "code",
   "execution_count": 26,
   "metadata": {},
   "outputs": [
    {
     "data": {
      "text/html": [
       "<div>\n",
       "<style scoped>\n",
       "    .dataframe tbody tr th:only-of-type {\n",
       "        vertical-align: middle;\n",
       "    }\n",
       "\n",
       "    .dataframe tbody tr th {\n",
       "        vertical-align: top;\n",
       "    }\n",
       "\n",
       "    .dataframe thead th {\n",
       "        text-align: right;\n",
       "    }\n",
       "</style>\n",
       "<table border=\"1\" class=\"dataframe\">\n",
       "  <thead>\n",
       "    <tr style=\"text-align: right;\">\n",
       "      <th></th>\n",
       "      <th>BACC</th>\n",
       "      <th>Matt_Corr</th>\n",
       "      <th>Precision_Bulb</th>\n",
       "      <th>Precision_Camera</th>\n",
       "      <th>Precision_Plug</th>\n",
       "      <th>Recall_Bulb</th>\n",
       "      <th>Recall_Camera</th>\n",
       "      <th>Recall_Plug</th>\n",
       "    </tr>\n",
       "  </thead>\n",
       "  <tbody>\n",
       "    <tr>\n",
       "      <th>knn</th>\n",
       "      <td>0.78899</td>\n",
       "      <td>0.68661</td>\n",
       "      <td>0.99413</td>\n",
       "      <td>0.71698</td>\n",
       "      <td>0.68006</td>\n",
       "      <td>0.93211</td>\n",
       "      <td>0.62752</td>\n",
       "      <td>0.80734</td>\n",
       "    </tr>\n",
       "    <tr>\n",
       "      <th>rf</th>\n",
       "      <td>0.59511</td>\n",
       "      <td>0.41465</td>\n",
       "      <td>0.75909</td>\n",
       "      <td>0.22388</td>\n",
       "      <td>0.55168</td>\n",
       "      <td>0.91927</td>\n",
       "      <td>0.08257</td>\n",
       "      <td>0.78349</td>\n",
       "    </tr>\n",
       "    <tr>\n",
       "      <th>lda</th>\n",
       "      <td>0.27156</td>\n",
       "      <td>-0.09269</td>\n",
       "      <td>0.00000</td>\n",
       "      <td>0.05503</td>\n",
       "      <td>0.77570</td>\n",
       "      <td>0.00000</td>\n",
       "      <td>0.05321</td>\n",
       "      <td>0.76147</td>\n",
       "    </tr>\n",
       "  </tbody>\n",
       "</table>\n",
       "</div>"
      ],
      "text/plain": [
       "       BACC  Matt_Corr  Precision_Bulb  Precision_Camera  Precision_Plug  \\\n",
       "knn 0.78899    0.68661         0.99413           0.71698         0.68006   \n",
       "rf  0.59511    0.41465         0.75909           0.22388         0.55168   \n",
       "lda 0.27156   -0.09269         0.00000           0.05503         0.77570   \n",
       "\n",
       "     Recall_Bulb  Recall_Camera  Recall_Plug  \n",
       "knn      0.93211        0.62752      0.80734  \n",
       "rf       0.91927        0.08257      0.78349  \n",
       "lda      0.00000        0.05321      0.76147  "
      ]
     },
     "metadata": {},
     "output_type": "display_data"
    }
   ],
   "source": [
    "nv_metrics_df = w.report_metrics(nv_metrics, y_list, 'wifi-novendor_metrics')\n",
    "display(nv_metrics_df)"
   ]
  },
  {
   "cell_type": "code",
   "execution_count": 27,
   "metadata": {},
   "outputs": [
    {
     "name": "stdout",
     "output_type": "stream",
     "text": [
      "Confusion matrix, without normalization\n",
      "[[508  33   4]\n",
      " [  0 342 203]\n",
      " [  3 102 440]]\n",
      "Confusion matrix, without normalization\n",
      "[[  0 471  74]\n",
      " [470  29  46]\n",
      " [103  27 415]]\n",
      "Confusion matrix, without normalization\n",
      "[[501  41   3]\n",
      " [156  45 344]\n",
      " [  3 115 427]]\n"
     ]
    },
    {
     "data": {
      "image/png": "[encoded data removed]",
      "text/plain": [
       "<Figure size 1008x288 with 6 Axes>"
      ]
     },
     "metadata": {},
     "output_type": "display_data"
    }
   ],
   "source": [
    "w.plot_all_confusion_matrices(nv_cms, y_list)"
   ]
  },
  {
   "cell_type": "code",
   "execution_count": 28,
   "metadata": {},
   "outputs": [
    {
     "data": {
      "text/plain": [
       "Assoc_Packets   0.92849\n",
       "PacketLength    0.03154\n",
       "Data            0.01908\n",
       "QoS_Null        0.01103\n",
       "QoS_Data        0.00776\n",
       "Tp-link         0.00209\n",
       "dtype: float64"
      ]
     },
     "execution_count": 28,
     "metadata": {},
     "output_type": "execute_result"
    }
   ],
   "source": [
    "w.report_featureimportance(nv_feature_importance, nv_features)"
   ]
  },
  {
   "cell_type": "markdown",
   "metadata": {},
   "source": [
    "## Error analysis"
   ]
  },
  {
   "cell_type": "code",
   "execution_count": 29,
   "metadata": {},
   "outputs": [],
   "source": [
    "def output_decisionpath(model, features_list, class_names, filename):\n",
    "    # Source: https://towardsdatascience.com/how-to-visualize-a-decision-tree-from-a-random-forest-in-python-using-scikit-learn-38ad2d75f21c\n",
    "\n",
    "    # Extract single tree\n",
    "    estimator = model.estimators_[5]\n",
    "\n",
    "    from sklearn.tree import export_graphviz\n",
    "    # Export as dot file\n",
    "    export_graphviz(estimator, out_file='tree.dot', \n",
    "                    feature_names = features_list,\n",
    "                    class_names = class_names,\n",
    "                    rounded = True, proportion = False, \n",
    "                    precision = 2, filled = True)\n",
    "\n",
    "    # Convert to png using system command (requires Graphviz)\n",
    "    from subprocess import call\n",
    "    call(['dot', '-Tpng', 'tree.dot', '-o', 'Results/'+filename+'.png', '-Gdpi=600'])"
   ]
  },
  {
   "cell_type": "markdown",
   "metadata": {},
   "source": [
    "**Error 1**: KNN and RF confuse camera and plugs"
   ]
  },
  {
   "cell_type": "code",
   "execution_count": 30,
   "metadata": {},
   "outputs": [],
   "source": [
    "# Get camera and plug packets\n",
    "df_train_camplugs = df_train[(df_train['DeviceType']=='camera') | (df_train['DeviceType']=='plug')]\n",
    "\n",
    "df_test_camplugs = df_test_downsampled[(df_test_downsampled['DeviceType']=='camera') | (df_test_downsampled['DeviceType']=='plug')]"
   ]
  },
  {
   "cell_type": "markdown",
   "metadata": {},
   "source": [
    "Isolate the two classes"
   ]
  },
  {
   "cell_type": "code",
   "execution_count": 31,
   "metadata": {},
   "outputs": [],
   "source": [
    "# Run multiclass on just the two device types\n",
    "camplugs_preds, camplugs_metrics, camplugs_cms, camplugs_feature_importance = w.run_multiclass(df_train_camplugs, df_test_camplugs, features_list, ['camera','plug'],use_tuned=False)"
   ]
  },
  {
   "cell_type": "code",
   "execution_count": 32,
   "metadata": {},
   "outputs": [
    {
     "data": {
      "text/html": [
       "<div>\n",
       "<style scoped>\n",
       "    .dataframe tbody tr th:only-of-type {\n",
       "        vertical-align: middle;\n",
       "    }\n",
       "\n",
       "    .dataframe tbody tr th {\n",
       "        vertical-align: top;\n",
       "    }\n",
       "\n",
       "    .dataframe thead th {\n",
       "        text-align: right;\n",
       "    }\n",
       "</style>\n",
       "<table border=\"1\" class=\"dataframe\">\n",
       "  <thead>\n",
       "    <tr style=\"text-align: right;\">\n",
       "      <th></th>\n",
       "      <th>BACC</th>\n",
       "      <th>Matt_Corr</th>\n",
       "      <th>Precision_Camera</th>\n",
       "      <th>Precision_Plug</th>\n",
       "      <th>Recall_Camera</th>\n",
       "      <th>Recall_Plug</th>\n",
       "    </tr>\n",
       "  </thead>\n",
       "  <tbody>\n",
       "    <tr>\n",
       "      <th>knn</th>\n",
       "      <td>0.46789</td>\n",
       "      <td>-0.07908</td>\n",
       "      <td>0.42291</td>\n",
       "      <td>0.47972</td>\n",
       "      <td>0.17615</td>\n",
       "      <td>0.75963</td>\n",
       "    </tr>\n",
       "    <tr>\n",
       "      <th>rf</th>\n",
       "      <td>0.86514</td>\n",
       "      <td>0.74021</td>\n",
       "      <td>0.81388</td>\n",
       "      <td>0.93640</td>\n",
       "      <td>0.94679</td>\n",
       "      <td>0.78349</td>\n",
       "    </tr>\n",
       "    <tr>\n",
       "      <th>lda</th>\n",
       "      <td>0.55872</td>\n",
       "      <td>0.12847</td>\n",
       "      <td>0.59877</td>\n",
       "      <td>0.54178</td>\n",
       "      <td>0.35596</td>\n",
       "      <td>0.76147</td>\n",
       "    </tr>\n",
       "  </tbody>\n",
       "</table>\n",
       "</div>"
      ],
      "text/plain": [
       "       BACC  Matt_Corr  Precision_Camera  Precision_Plug  Recall_Camera  \\\n",
       "knn 0.46789   -0.07908           0.42291         0.47972        0.17615   \n",
       "rf  0.86514    0.74021           0.81388         0.93640        0.94679   \n",
       "lda 0.55872    0.12847           0.59877         0.54178        0.35596   \n",
       "\n",
       "     Recall_Plug  \n",
       "knn      0.75963  \n",
       "rf       0.78349  \n",
       "lda      0.76147  "
      ]
     },
     "metadata": {},
     "output_type": "display_data"
    }
   ],
   "source": [
    "camplugs_metrics_df = w.report_metrics(camplugs_metrics, ['camera','plug'], 'wifi-camplugs_metrics')\n",
    "display(camplugs_metrics_df)"
   ]
  },
  {
   "cell_type": "code",
   "execution_count": 33,
   "metadata": {},
   "outputs": [
    {
     "name": "stdout",
     "output_type": "stream",
     "text": [
      "Confusion matrix, without normalization\n",
      "[[ 96 449]\n",
      " [131 414]]\n",
      "Confusion matrix, without normalization\n",
      "[[194 351]\n",
      " [130 415]]\n",
      "Confusion matrix, without normalization\n",
      "[[516  29]\n",
      " [118 427]]\n"
     ]
    },
    {
     "data": {
      "image/png": "[encoded data removed]",
      "text/plain": [
       "<Figure size 1008x288 with 6 Axes>"
      ]
     },
     "metadata": {},
     "output_type": "display_data"
    }
   ],
   "source": [
    "w.plot_all_confusion_matrices(camplugs_cms, ['camera','plug'])"
   ]
  },
  {
   "cell_type": "code",
   "execution_count": 34,
   "metadata": {},
   "outputs": [
    {
     "data": {
      "text/plain": [
       "Belkin          0.54781\n",
       "Assoc_Packets   0.19575\n",
       "Dropcam         0.18160\n",
       "PacketLength    0.04242\n",
       "QoS_Data        0.01608\n",
       "Data            0.01453\n",
       "QoS_Null        0.00179\n",
       "Tp-link         0.00000\n",
       "Netgear         0.00000\n",
       "Lifi            0.00000\n",
       "dtype: float64"
      ]
     },
     "execution_count": 34,
     "metadata": {},
     "output_type": "execute_result"
    }
   ],
   "source": [
    "w.report_featureimportance(camplugs_feature_importance, features_list)"
   ]
  },
  {
   "cell_type": "markdown",
   "metadata": {},
   "source": [
    "Show features"
   ]
  },
  {
   "cell_type": "code",
   "execution_count": 35,
   "metadata": {},
   "outputs": [
    {
     "data": {
      "image/png": "[encoded data removed]",
      "text/plain": [
       "<Figure size 432x1008 with 3 Axes>"
      ]
     },
     "metadata": {},
     "output_type": "display_data"
    }
   ],
   "source": [
    "f, axes = plt.subplots(3, 1, figsize=(6, 14))\n",
    "sns.countplot(x='DeviceType', hue='Belkin',ax=axes[0], data=df_test_camplugs);\n",
    "sns.countplot(x='DeviceType', hue='Dropcam',ax=axes[1], data=df_test_camplugs);\n",
    "sns.countplot(x='DeviceType', hue='Assoc_Packets',ax=axes[2], data=df_test_camplugs);\n",
    "plt.legend(loc='upper right');"
   ]
  },
  {
   "cell_type": "code",
   "execution_count": 36,
   "metadata": {},
   "outputs": [],
   "source": [
    "w_rf_camplug = RandomForestClassifier()\n",
    "rf_camplug_model = w_rf_camplug.fit(df_train_camplugs[features_list], df_train_camplugs['DeviceType'])\n",
    "dp = w_rf_camplug.decision_path(df_test_camplugs[features_list])"
   ]
  },
  {
   "cell_type": "code",
   "execution_count": 37,
   "metadata": {},
   "outputs": [],
   "source": [
    "output_decisionpath(rf_camplug_model, features_list, ['camera','plug'], 'rf-camplug-tree')"
   ]
  },
  {
   "cell_type": "markdown",
   "metadata": {},
   "source": [
    "**Error 2**: Confusion of bulbs for cameras and cameras for bulbs"
   ]
  },
  {
   "cell_type": "code",
   "execution_count": 38,
   "metadata": {},
   "outputs": [],
   "source": [
    "# Get camera and plug packets\n",
    "df_train_cambulbs = df_train[(df_train['DeviceType']=='camera') | (df_train['DeviceType']=='bulb')]\n",
    "\n",
    "df_test_cambulbs = df_test_downsampled[(df_test_downsampled['DeviceType']=='camera') | (df_test_downsampled['DeviceType']=='bulb')]"
   ]
  },
  {
   "cell_type": "markdown",
   "metadata": {},
   "source": [
    "Isolate the two classes"
   ]
  },
  {
   "cell_type": "code",
   "execution_count": 39,
   "metadata": {},
   "outputs": [],
   "source": [
    "# Run multiclass on just the two device types\n",
    "cambulbs_preds, cambulbs_metrics, cambulbs_cms, cambulbs_feature_importance = w.run_multiclass(df_train_cambulbs, df_test_cambulbs, features_list, ['camera','bulb'],use_tuned=False)"
   ]
  },
  {
   "cell_type": "code",
   "execution_count": 40,
   "metadata": {},
   "outputs": [
    {
     "data": {
      "text/html": [
       "<div>\n",
       "<style scoped>\n",
       "    .dataframe tbody tr th:only-of-type {\n",
       "        vertical-align: middle;\n",
       "    }\n",
       "\n",
       "    .dataframe tbody tr th {\n",
       "        vertical-align: top;\n",
       "    }\n",
       "\n",
       "    .dataframe thead th {\n",
       "        text-align: right;\n",
       "    }\n",
       "</style>\n",
       "<table border=\"1\" class=\"dataframe\">\n",
       "  <thead>\n",
       "    <tr style=\"text-align: right;\">\n",
       "      <th></th>\n",
       "      <th>BACC</th>\n",
       "      <th>Matt_Corr</th>\n",
       "      <th>Precision_Bulb</th>\n",
       "      <th>Precision_Camera</th>\n",
       "      <th>Recall_Bulb</th>\n",
       "      <th>Recall_Camera</th>\n",
       "    </tr>\n",
       "  </thead>\n",
       "  <tbody>\n",
       "    <tr>\n",
       "      <th>knn</th>\n",
       "      <td>0.99450</td>\n",
       "      <td>0.98905</td>\n",
       "      <td>0.98911</td>\n",
       "      <td>1.00000</td>\n",
       "      <td>1.00000</td>\n",
       "      <td>0.98899</td>\n",
       "    </tr>\n",
       "    <tr>\n",
       "      <th>rf</th>\n",
       "      <td>0.56881</td>\n",
       "      <td>0.27183</td>\n",
       "      <td>1.00000</td>\n",
       "      <td>0.53695</td>\n",
       "      <td>0.13761</td>\n",
       "      <td>1.00000</td>\n",
       "    </tr>\n",
       "    <tr>\n",
       "      <th>lda</th>\n",
       "      <td>1.00000</td>\n",
       "      <td>1.00000</td>\n",
       "      <td>1.00000</td>\n",
       "      <td>1.00000</td>\n",
       "      <td>1.00000</td>\n",
       "      <td>1.00000</td>\n",
       "    </tr>\n",
       "  </tbody>\n",
       "</table>\n",
       "</div>"
      ],
      "text/plain": [
       "       BACC  Matt_Corr  Precision_Bulb  Precision_Camera  Recall_Bulb  \\\n",
       "knn 0.99450    0.98905         0.98911           1.00000      1.00000   \n",
       "rf  0.56881    0.27183         1.00000           0.53695      0.13761   \n",
       "lda 1.00000    1.00000         1.00000           1.00000      1.00000   \n",
       "\n",
       "     Recall_Camera  \n",
       "knn        0.98899  \n",
       "rf         1.00000  \n",
       "lda        1.00000  "
      ]
     },
     "metadata": {},
     "output_type": "display_data"
    }
   ],
   "source": [
    "cambulbs_metrics_df = w.report_metrics(cambulbs_metrics, ['camera','bulb'], 'wifi-cambulbs_metrics')\n",
    "display(cambulbs_metrics_df)"
   ]
  },
  {
   "cell_type": "code",
   "execution_count": 41,
   "metadata": {},
   "outputs": [
    {
     "name": "stdout",
     "output_type": "stream",
     "text": [
      "Confusion matrix, without normalization\n",
      "[[545   0]\n",
      " [  6 539]]\n",
      "Confusion matrix, without normalization\n",
      "[[545   0]\n",
      " [  0 545]]\n",
      "Confusion matrix, without normalization\n",
      "[[ 75 470]\n",
      " [  0 545]]\n"
     ]
    },
    {
     "data": {
      "image/png": "[encoded data removed]",
      "text/plain": [
       "<Figure size 1008x288 with 6 Axes>"
      ]
     },
     "metadata": {},
     "output_type": "display_data"
    }
   ],
   "source": [
    "w.plot_all_confusion_matrices(cambulbs_cms, ['camera','bulb'])"
   ]
  },
  {
   "cell_type": "code",
   "execution_count": 42,
   "metadata": {},
   "outputs": [
    {
     "data": {
      "text/plain": [
       "Lifi            0.45694\n",
       "Assoc_Packets   0.17171\n",
       "PacketLength    0.15878\n",
       "Tp-link         0.10584\n",
       "Belkin          0.07318\n",
       "Dropcam         0.01687\n",
       "QoS_Data        0.01155\n",
       "QoS_Null        0.00268\n",
       "Data            0.00244\n",
       "Netgear         0.00000\n",
       "dtype: float64"
      ]
     },
     "execution_count": 42,
     "metadata": {},
     "output_type": "execute_result"
    }
   ],
   "source": [
    "w.report_featureimportance(cambulbs_feature_importance, features_list)"
   ]
  },
  {
   "cell_type": "markdown",
   "metadata": {},
   "source": [
    "Show features"
   ]
  },
  {
   "cell_type": "code",
   "execution_count": 43,
   "metadata": {},
   "outputs": [
    {
     "data": {
      "image/png": "[encoded data removed]",
      "text/plain": [
       "<Figure size 432x1008 with 3 Axes>"
      ]
     },
     "metadata": {},
     "output_type": "display_data"
    }
   ],
   "source": [
    "f, axes = plt.subplots(3, 1, figsize=(6, 14))\n",
    "sns.countplot(x='DeviceType', hue='Lifi',ax=axes[0], data=df_test_cambulbs);\n",
    "\n",
    "g = sns.countplot(x=df_test_cambulbs['DeviceType'], hue=pd.cut(df_test_cambulbs['PacketLength'], bins=[25,100,500,1550]),ax=axes[1]);\n",
    "g.set_yscale('log')\n",
    "\n",
    "g = sns.countplot(x=df_test_cambulbs['DeviceType'], hue=pd.cut(df_test_cambulbs['Assoc_Packets'], bins=[0,30,60,200]),ax=axes[2]);\n",
    "g.set_yscale('log')\n",
    "\n",
    "plt.legend(loc='right');"
   ]
  },
  {
   "cell_type": "markdown",
   "metadata": {},
   "source": [
    "Show decision path"
   ]
  },
  {
   "cell_type": "code",
   "execution_count": 44,
   "metadata": {},
   "outputs": [],
   "source": [
    "w_rf_cambulb = RandomForestClassifier()\n",
    "rf_cambulb_model = w_rf_cambulb.fit(df_train_cambulbs[features_list], df_train_cambulbs['DeviceType'])\n",
    "dp = w_rf_cambulb.decision_path(df_test_cambulbs[features_list])"
   ]
  },
  {
   "cell_type": "code",
   "execution_count": 45,
   "metadata": {},
   "outputs": [],
   "source": [
    "output_decisionpath(rf_cambulb_model, features_list, ['camera','bulb'], 'rf-cambulb-tree')"
   ]
  },
  {
   "cell_type": "code",
   "execution_count": 46,
   "metadata": {},
   "outputs": [
    {
     "name": "stdout",
     "output_type": "stream",
     "text": [
      "36.1019990444\n",
      "223.654920816\n",
      "22.3658521175\n",
      "566.206648111\n"
     ]
    }
   ],
   "source": [
    "print multiclass_end\n",
    "print fs_end\n",
    "print nv_end\n",
    "print time.time() - start_time"
   ]
  }
 ],
 "metadata": {
  "kernelspec": {
   "display_name": "Python 2",
   "language": "python",
   "name": "python2"
  },
  "language_info": {
   "codemirror_mode": {
    "name": "ipython",
    "version": 2
   },
   "file_extension": ".py",
   "mimetype": "text/x-python",
   "name": "python",
   "nbconvert_exporter": "python",
   "pygments_lexer": "ipython2",
   "version": "2.7.15"
  }
 },
 "nbformat": 4,
 "nbformat_minor": 2
}
