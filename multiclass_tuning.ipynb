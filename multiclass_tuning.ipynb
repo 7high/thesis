{
 "cells": [
  {
   "cell_type": "code",
   "execution_count": 12,
   "metadata": {},
   "outputs": [],
   "source": [
    "# from Pipeline import BLEPipeline, WifiPipeline\n",
    "from MulticlassDCP import BLEMulticlassDCP, WifiMulticlassDCP\n",
    "\n",
    "# General data processing\n",
    "import numpy as np\n",
    "import pandas as pd\n",
    "\n",
    "# Plotting\n",
    "import matplotlib.pyplot as plt\n",
    "import seaborn as sns\n",
    "import scikitplot as skplt\n",
    "\n",
    "# ML libraries\n",
    "from sklearn.discriminant_analysis import LinearDiscriminantAnalysis\n",
    "from sklearn.ensemble import RandomForestClassifier\n",
    "from sklearn.neighbors import KNeighborsClassifier\n",
    "from sklearn.metrics import balanced_accuracy_score, precision_score, recall_score, roc_auc_score, confusion_matrix\n",
    "from sklearn.model_selection import GridSearchCV, KFold, cross_val_score\n",
    "\n",
    "# System libraries\n",
    "import itertools\n",
    "import random, time\n",
    "\n",
    "# Warning filtering\n",
    "import warnings\n",
    "warnings.filterwarnings(\"ignore\", category=FutureWarning)\n",
    "warnings.filterwarnings(\"ignore\", category=UserWarning)\n",
    "warnings.filterwarnings(\"ignore\", category=DeprecationWarning)\n",
    "plt.rcParams.update({'figure.max_open_warning': 0})"
   ]
  },
  {
   "cell_type": "markdown",
   "metadata": {},
   "source": [
    "# Wi-Fi Tuning"
   ]
  },
  {
   "cell_type": "code",
   "execution_count": 13,
   "metadata": {},
   "outputs": [],
   "source": [
    "start_time = time.time()"
   ]
  },
  {
   "cell_type": "code",
   "execution_count": 14,
   "metadata": {},
   "outputs": [],
   "source": [
    "w = WifiMulticlassDCP()"
   ]
  },
  {
   "cell_type": "code",
   "execution_count": 15,
   "metadata": {
    "scrolled": true
   },
   "outputs": [
    {
     "name": "stdout",
     "output_type": "stream",
     "text": [
      "Router     101880\n",
      "Mini        75782\n",
      "Dropcam     45912\n",
      "Kasa        17156\n",
      "Netcam2      3056\n",
      "Netcam3      2961\n",
      "Netcam1      2314\n",
      "Switch2      2204\n",
      "Switch1      1963\n",
      "Switch3      1955\n",
      "Insight      1738\n",
      "Switch4      1504\n",
      "Lifx2         545\n",
      "Lifx1         495\n",
      "TpPlug        366\n",
      "TpBulb        191\n",
      "Name: Name, dtype: int64\n"
     ]
    }
   ],
   "source": [
    "df = w.make_dataframe()\n",
    "\n",
    "# Take out packets from router\n",
    "df = df[df[\"DeviceType\"]!=\"router\"]"
   ]
  },
  {
   "cell_type": "code",
   "execution_count": 16,
   "metadata": {},
   "outputs": [],
   "source": [
    "# Divide training and test sets\n",
    "df_train = df[df['Set']=='train']\n",
    "df_test = df[df['Set']=='test']"
   ]
  },
  {
   "cell_type": "code",
   "execution_count": 17,
   "metadata": {},
   "outputs": [],
   "source": [
    "# Wifi: Define which features to use\n",
    "features_list = [\n",
    "        # Packet info\n",
    "        \"PacketLength\",\n",
    "        \n",
    "        # Vendor \n",
    "         \"Belkin\", \"Dropcam\", \"Lifi\", \"Tp-link\",\n",
    "    \n",
    "        # 802.11 Data subtype\n",
    "        \"Data\", \"QoS_Data\", \"QoS_Null\",\n",
    "\n",
    "        # Associated Packets\n",
    "        \"Assoc_Packets\"]\n",
    "\n",
    "# Define what the response classes are\n",
    "y_list = [\"bulb\", \"camera\", \"plug\"]"
   ]
  },
  {
   "cell_type": "code",
   "execution_count": 18,
   "metadata": {},
   "outputs": [],
   "source": [
    "# Define grid values\n",
    "knn_param_grid = dict(n_neighbors=np.arange(1,19,2))\n",
    "rf_param_grid = dict(max_features=np.linspace(2, len(features_list), num=5, dtype=int))\n",
    "lda_param_grid = dict(n_components=np.arange(1,5))\n",
    "\n",
    "# Time wifi gridsearch\n",
    "wifi_start = time.time()\n",
    "\n",
    "# Run gridsearch\n",
    "w_knn = w.tune_gridsearch(KNeighborsClassifier(), knn_param_grid, df_train, \n",
    "                        features_list, y_list)\n",
    "w_rf = w.tune_gridsearch(RandomForestClassifier(), rf_param_grid, df_train, \n",
    "                       features_list, y_list)\n",
    "w_lda = w.tune_gridsearch(LinearDiscriminantAnalysis(priors=[0.61678342, 0.37815795, 0.00505862]), lda_param_grid, df_train, \n",
    "                        features_list, y_list)\n",
    "\n",
    "wifi_end = time.time() - wifi_start"
   ]
  },
  {
   "cell_type": "code",
   "execution_count": 19,
   "metadata": {},
   "outputs": [
    {
     "name": "stdout",
     "output_type": "stream",
     "text": [
      "5997.66307092 sec\n"
     ]
    }
   ],
   "source": [
    "print wifi_end, \"sec\""
   ]
  },
  {
   "cell_type": "code",
   "execution_count": 20,
   "metadata": {
    "scrolled": true
   },
   "outputs": [
    {
     "name": "stdout",
     "output_type": "stream",
     "text": [
      "0.9608539875702647 {'n_neighbors': 11}\n",
      "0.8572166093795286 {'n_components': 1}\n",
      "0.9753719005660249 {'max_features': 9}\n"
     ]
    }
   ],
   "source": [
    "print w_knn['grid_result'].best_score_, w_knn['grid_result'].best_params_\n",
    "print w_lda['grid_result'].best_score_, w_lda['grid_result'].best_params_\n",
    "print w_rf['grid_result'].best_score_, w_rf['grid_result'].best_params_"
   ]
  },
  {
   "cell_type": "code",
   "execution_count": 21,
   "metadata": {
    "scrolled": true
   },
   "outputs": [
    {
     "data": {
      "image/png": "[encoded data removed]",
      "text/plain": [
       "<Figure size 1008x288 with 3 Axes>"
      ]
     },
     "metadata": {},
     "output_type": "display_data"
    }
   ],
   "source": [
    "w.plot_all_vcs([w_knn, w_lda, w_rf])"
   ]
  },
  {
   "cell_type": "markdown",
   "metadata": {},
   "source": [
    "# BLE Tuning"
   ]
  },
  {
   "cell_type": "code",
   "execution_count": 22,
   "metadata": {},
   "outputs": [],
   "source": [
    "b = BLEMulticlassDCP()"
   ]
  },
  {
   "cell_type": "code",
   "execution_count": 23,
   "metadata": {
    "scrolled": true
   },
   "outputs": [
    {
     "name": "stdout",
     "output_type": "stream",
     "text": [
      "August2    210644\n",
      "Home1       54902\n",
      "Home2       54516\n",
      "Push        30661\n",
      "Kevo        19430\n",
      "August1     15047\n",
      "Weather      8101\n",
      "Room2        7698\n",
      "Room1        7239\n",
      "Door1        6696\n",
      "Door2        3587\n",
      "Name: Name, dtype: int64\n"
     ]
    }
   ],
   "source": [
    "bdf = b.make_dataframe()"
   ]
  },
  {
   "cell_type": "code",
   "execution_count": 24,
   "metadata": {},
   "outputs": [],
   "source": [
    "# Divide training and test sets\n",
    "bdf_train = bdf[bdf['Set']=='train']\n",
    "bdf_test = bdf[bdf['Set']=='test']"
   ]
  },
  {
   "cell_type": "code",
   "execution_count": 25,
   "metadata": {},
   "outputs": [],
   "source": [
    "# BLE: Define which features to use\n",
    "features_list = [\n",
    "    # Packet info\n",
    "    \"PacketLength\", \"BLE_LL_Length\",\n",
    "    \n",
    "    # Associate Packets\n",
    "    \"Assoc_Packets\",\n",
    "    \n",
    "    # Channel number\n",
    "    \"Channel_0\", \"Channel_12\", \"Channel_39\",\n",
    "    \n",
    "    # PDU Type\n",
    "    \"SCAN_RSP\", \"ADV_IND\", \"SCAN_REQ\", \n",
    "    \"CONNECT_REQ\", \"ADV_NONCONN_IND\", \"ADV_DIRECT_IND\"]\n",
    "\n",
    "y_list = [\"door\", \"lock\", \"temp\"]"
   ]
  },
  {
   "cell_type": "code",
   "execution_count": 26,
   "metadata": {},
   "outputs": [],
   "source": [
    "# Define grid values\n",
    "knn_param_grid = dict(n_neighbors=np.arange(1,19,2))\n",
    "rf_param_grid = dict(max_features=np.linspace(2, len(features_list), num=5, dtype=int))\n",
    "lda_param_grid = dict(n_components=np.arange(1,5))\n",
    "\n",
    "# Time BLE gridsearch\n",
    "ble_start = time.time()\n",
    "\n",
    "# Run gridsearch\n",
    "b_knn = b.tune_gridsearch(KNeighborsClassifier(), knn_param_grid, bdf_train, \n",
    "                        features_list, y_list)\n",
    "b_rf = b.tune_gridsearch(RandomForestClassifier(), rf_param_grid, bdf_train, \n",
    "                       features_list, y_list)\n",
    "b_lda = b.tune_gridsearch(LinearDiscriminantAnalysis(priors=[0.59063441, 0.23399223, 0.17537336]), lda_param_grid, bdf_train, \n",
    "                        features_list, y_list)\n",
    "\n",
    "ble_end = ble_start - time.time()"
   ]
  },
  {
   "cell_type": "code",
   "execution_count": 27,
   "metadata": {},
   "outputs": [
    {
     "name": "stdout",
     "output_type": "stream",
     "text": [
      "-6833.61077714\n"
     ]
    }
   ],
   "source": [
    "print ble_end"
   ]
  },
  {
   "cell_type": "code",
   "execution_count": 28,
   "metadata": {
    "scrolled": false
   },
   "outputs": [
    {
     "name": "stdout",
     "output_type": "stream",
     "text": [
      "0.959570932808903 {'n_neighbors': 5}\n",
      "0.5899168711037931 {'n_components': 1}\n",
      "0.9613424490902045 {'max_features': 2}\n"
     ]
    }
   ],
   "source": [
    "print b_knn['grid_result'].best_score_, b_knn['grid_result'].best_params_\n",
    "print b_lda['grid_result'].best_score_, b_lda['grid_result'].best_params_\n",
    "print b_rf['grid_result'].best_score_, b_rf['grid_result'].best_params_"
   ]
  },
  {
   "cell_type": "code",
   "execution_count": 29,
   "metadata": {
    "scrolled": false
   },
   "outputs": [
    {
     "data": {
      "image/png": "[encoded data removed]",
      "text/plain": [
       "<Figure size 1008x288 with 3 Axes>"
      ]
     },
     "metadata": {},
     "output_type": "display_data"
    }
   ],
   "source": [
    "b.plot_all_vcs([b_knn, b_lda, b_rf])"
   ]
  },
  {
   "cell_type": "code",
   "execution_count": 30,
   "metadata": {},
   "outputs": [
    {
     "name": "stdout",
     "output_type": "stream",
     "text": [
      "-835.947706223 sec\n",
      "13379.0530829 sec\n"
     ]
    }
   ],
   "source": [
    "end_time =  time.time() - start_time\n",
    "total_gridsearch_time = ble_end + wifi_end \n",
    "print total_gridsearch_time, \"sec\"\n",
    "print end_time, \"sec\""
   ]
  }
 ],
 "metadata": {
  "kernelspec": {
   "display_name": "Python 2",
   "language": "python",
   "name": "python2"
  },
  "language_info": {
   "codemirror_mode": {
    "name": "ipython",
    "version": 2
   },
   "file_extension": ".py",
   "mimetype": "text/x-python",
   "name": "python",
   "nbconvert_exporter": "python",
   "pygments_lexer": "ipython2",
   "version": "2.7.15"
  }
 },
 "nbformat": 4,
 "nbformat_minor": 2
}
