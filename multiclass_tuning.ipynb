{
 "cells": [
  {
   "cell_type": "code",
   "execution_count": 1,
   "metadata": {},
   "outputs": [],
   "source": [
    "from Pipeline import BLEPipeline, WifiPipeline\n",
    "\n",
    "# General data processing\n",
    "import numpy as np\n",
    "import pandas as pd\n",
    "\n",
    "# Plotting\n",
    "import matplotlib.pyplot as plt\n",
    "import seaborn as sns\n",
    "import scikitplot as skplt\n",
    "\n",
    "# ML libraries\n",
    "from sklearn.discriminant_analysis import LinearDiscriminantAnalysis\n",
    "from sklearn.ensemble import RandomForestClassifier\n",
    "from sklearn.neighbors import KNeighborsClassifier\n",
    "from sklearn.metrics import balanced_accuracy_score, precision_score, recall_score, roc_auc_score, confusion_matrix\n",
    "from sklearn.model_selection import GridSearchCV, KFold, cross_val_score\n",
    "\n",
    "# System libraries\n",
    "import itertools\n",
    "import random, time\n",
    "\n",
    "# Warning filtering\n",
    "import warnings\n",
    "warnings.filterwarnings(\"ignore\", category=FutureWarning)\n",
    "warnings.filterwarnings(\"ignore\", category=UserWarning)\n",
    "warnings.filterwarnings(\"ignore\", category=DeprecationWarning)\n",
    "plt.rcParams.update({'figure.max_open_warning': 0})"
   ]
  },
  {
   "cell_type": "code",
   "execution_count": 18,
   "metadata": {},
   "outputs": [],
   "source": [
    "def tune_gridsearch(classifier, param_grid, df_train, features_list, y_list): \n",
    "    start_time = time.time()\n",
    "    \n",
    "    X_train = df_train[features_list]\n",
    "    y_train = df_train['DeviceType']\n",
    "    \n",
    "    grid = GridSearchCV(estimator=classifier, scoring='balanced_accuracy', \n",
    "                        param_grid=param_grid, cv=10)   \n",
    "    \n",
    "    grid_result = grid.fit(X_train, y_train)\n",
    "    \n",
    "    end_time = time.time() - start_time\n",
    "    return dict(grid_result=grid_result, end_time=end_time)"
   ]
  },
  {
   "cell_type": "markdown",
   "metadata": {},
   "source": [
    "# Wi-Fi Tuning"
   ]
  },
  {
   "cell_type": "code",
   "execution_count": 4,
   "metadata": {},
   "outputs": [],
   "source": [
    "w = WifiPipeline()"
   ]
  },
  {
   "cell_type": "code",
   "execution_count": 5,
   "metadata": {
    "scrolled": true
   },
   "outputs": [
    {
     "name": "stdout",
     "output_type": "stream",
     "text": [
      "Router     101880\n",
      "Mini        75782\n",
      "Dropcam     45912\n",
      "Kasa        17156\n",
      "Netcam2      3056\n",
      "Netcam3      2961\n",
      "Netcam1      2314\n",
      "Switch2      2204\n",
      "Switch1      1963\n",
      "Switch3      1955\n",
      "Insight      1738\n",
      "Switch4      1504\n",
      "Lifx2         545\n",
      "Lifx1         495\n",
      "TpPlug        366\n",
      "TpBulb        191\n",
      "Name: Name, dtype: int64\n"
     ]
    }
   ],
   "source": [
    "df = w.make_dataframe()\n",
    "\n",
    "# Take out packets from router\n",
    "df = df[df[\"DeviceType\"]!=\"router\"]"
   ]
  },
  {
   "cell_type": "code",
   "execution_count": 16,
   "metadata": {},
   "outputs": [],
   "source": [
    "# Divide training and test sets\n",
    "df_train = df[df['Set']=='train']\n",
    "df_test = df[df['Set']=='test']"
   ]
  },
  {
   "cell_type": "code",
   "execution_count": 17,
   "metadata": {},
   "outputs": [],
   "source": [
    "# Wifi: Define which features to use\n",
    "features_list = [\n",
    "        # Packet info\n",
    "        \"PacketLength\",\n",
    "        \n",
    "        # Vendor \n",
    "         \"Belkin\", \"Dropcam\", \"Lifi\", \"Netgear\", \"Tp-link\",\n",
    "    \n",
    "        # 802.11 Data subtype\n",
    "        \"Data\", \"QoS_Data\", \"QoS_Null\",\n",
    "\n",
    "        # Associated Packets\n",
    "        \"Assoc_Packets\"]\n",
    "\n",
    "# Define what the response classes are\n",
    "y_list = [\"bulb\", \"camera\", \"plug\"]"
   ]
  },
  {
   "cell_type": "code",
   "execution_count": 19,
   "metadata": {},
   "outputs": [],
   "source": [
    "# Define grid values\n",
    "knn_param_grid = dict(n_neighbors=np.arange(1,11,2))\n",
    "rf_param_grid = dict(max_features=np.linspace(2, len(features_list), num=5, dtype=int))\n",
    "lda_param_grid = dict(n_components=np.arange(1,4))\n",
    "\n",
    "# Run gridsearch\n",
    "w_knn = tune_gridsearch(KNeighborsClassifier(), knn_param_grid, df_train, \n",
    "                        features_list, y_list)\n",
    "w_rf = tune_gridsearch(RandomForestClassifier(), rf_param_grid, df_train, \n",
    "                       features_list, y_list)\n",
    "w_lda = tune_gridsearch(LinearDiscriminantAnalysis(), lda_param_grid, df_train, \n",
    "                        features_list, y_list)"
   ]
  },
  {
   "cell_type": "code",
   "execution_count": 61,
   "metadata": {
    "scrolled": true
   },
   "outputs": [
    {
     "name": "stdout",
     "output_type": "stream",
     "text": [
      "0.9591800163045584 {'n_neighbors': 3}\n",
      "0.8721724648334492 {'n_components': 1}\n",
      "0.9753798706462028 {'max_features': 10}\n"
     ]
    }
   ],
   "source": [
    "print w_knn['grid_result'].best_score_, w_knn['grid_result'].best_params_\n",
    "print w_lda['grid_result'].best_score_, w_lda['grid_result'].best_params_\n",
    "print w_rf['grid_result'].best_score_, w_rf['grid_result'].best_params_"
   ]
  },
  {
   "cell_type": "markdown",
   "metadata": {},
   "source": [
    "# BLE Tuning"
   ]
  },
  {
   "cell_type": "code",
   "execution_count": 31,
   "metadata": {},
   "outputs": [],
   "source": [
    "b = BLEPipeline()"
   ]
  },
  {
   "cell_type": "code",
   "execution_count": 44,
   "metadata": {
    "scrolled": true
   },
   "outputs": [
    {
     "name": "stdout",
     "output_type": "stream",
     "text": [
      "August2    210644\n",
      "Home1       54902\n",
      "Home2       54516\n",
      "Push        30661\n",
      "Kevo        19430\n",
      "August1     15047\n",
      "Weather      8101\n",
      "Room2        7698\n",
      "Room1        7239\n",
      "Door1        6696\n",
      "Door2        3587\n",
      "Name: Name, dtype: int64\n"
     ]
    }
   ],
   "source": [
    "bdf = b.make_dataframe()"
   ]
  },
  {
   "cell_type": "code",
   "execution_count": 54,
   "metadata": {},
   "outputs": [],
   "source": [
    "# Divide training and test sets\n",
    "bdf_train = bdf[bdf['Set']=='train']\n",
    "bdf_test = bdf[bdf['Set']=='test']"
   ]
  },
  {
   "cell_type": "code",
   "execution_count": 52,
   "metadata": {},
   "outputs": [],
   "source": [
    "# BLE: Define which features to use\n",
    "features_list = [\n",
    "    # Packet info\n",
    "    \"PacketLength\", \"BLE_LL_Length\",\n",
    "    \n",
    "    # Associate Packets\n",
    "    \"Assoc_Packets\",\n",
    "    \n",
    "    # Channel number\n",
    "    \"Channel_0\", \"Channel_12\", \"Channel_39\",\n",
    "    \n",
    "    # PDU Type\n",
    "    \"SCAN_RSP\", \"ADV_IND\", \"SCAN_REQ\", \n",
    "    \"CONNECT_REQ\", \"ADV_NONCONN_IND\", \"ADV_DIRECT_IND\"]\n",
    "\n",
    "y_list = [\"door\", \"lock\", \"temp\"]"
   ]
  },
  {
   "cell_type": "code",
   "execution_count": 55,
   "metadata": {},
   "outputs": [],
   "source": [
    "# Define grid values\n",
    "knn_param_grid = dict(n_neighbors=np.arange(1,11,2))\n",
    "rf_param_grid = dict(max_features=np.linspace(2, len(features_list), num=5, dtype=int))\n",
    "lda_param_grid = dict(n_components=np.arange(1,4))\n",
    "\n",
    "# Run gridsearch\n",
    "b_knn = tune_gridsearch(KNeighborsClassifier(), knn_param_grid, bdf_train, \n",
    "                        features_list, y_list)\n",
    "b_rf = tune_gridsearch(RandomForestClassifier(), rf_param_grid, bdf_train, \n",
    "                       features_list, y_list)\n",
    "b_lda = tune_gridsearch(LinearDiscriminantAnalysis(), lda_param_grid, bdf_train, \n",
    "                        features_list, y_list)"
   ]
  },
  {
   "cell_type": "code",
   "execution_count": 60,
   "metadata": {
    "scrolled": false
   },
   "outputs": [
    {
     "name": "stdout",
     "output_type": "stream",
     "text": [
      "0.959570932808903 {'n_neighbors': 5}\n",
      "0.509824200780175 {'n_components': 1}\n",
      "0.9613726595664673 {'max_features': 7}\n"
     ]
    }
   ],
   "source": [
    "print b_knn['grid_result'].best_score_, b_knn['grid_result'].best_params_\n",
    "print b_lda['grid_result'].best_score_, b_lda['grid_result'].best_params_\n",
    "print b_rf['grid_result'].best_score_, b_rf['grid_result'].best_params_"
   ]
  }
 ],
 "metadata": {
  "kernelspec": {
   "display_name": "Python 2",
   "language": "python",
   "name": "python2"
  },
  "language_info": {
   "codemirror_mode": {
    "name": "ipython",
    "version": 2
   },
   "file_extension": ".py",
   "mimetype": "text/x-python",
   "name": "python",
   "nbconvert_exporter": "python",
   "pygments_lexer": "ipython2",
   "version": "2.7.15"
  }
 },
 "nbformat": 4,
 "nbformat_minor": 2
}
