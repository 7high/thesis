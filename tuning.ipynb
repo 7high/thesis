{
 "cells": [
  {
   "cell_type": "code",
   "execution_count": 1,
   "metadata": {},
   "outputs": [],
   "source": [
    "from Pipeline import BLEPipeline, WifiPipeline\n",
    "import numpy as np\n",
    "import pandas as pd\n",
    "import matplotlib.pyplot as plt\n",
    "import seaborn as sns\n",
    "import random, time\n",
    "\n",
    "from itertools import izip, combinations\n",
    "\n",
    "import warnings\n",
    "warnings.filterwarnings(\"ignore\", category=UserWarning)\n",
    "\n",
    "# Plot ROC\n",
    "from sklearn.metrics import roc_curve, roc_auc_score\n",
    "import scikitplot as skplt\n",
    "\n",
    "# Tuning \n",
    "from sklearn.discriminant_analysis import LinearDiscriminantAnalysis, QuadraticDiscriminantAnalysis\n",
    "from sklearn.ensemble import RandomForestClassifier\n",
    "from sklearn.neighbors import KNeighborsClassifier\n",
    "from sklearn.model_selection import GridSearchCV, KFold, cross_val_score"
   ]
  },
  {
   "cell_type": "code",
   "execution_count": 24,
   "metadata": {},
   "outputs": [],
   "source": [
    "w = WifiPipeline()\n",
    "b = BLEPipeline()"
   ]
  },
  {
   "cell_type": "markdown",
   "metadata": {},
   "source": [
    "**Dataframe Creation**"
   ]
  },
  {
   "cell_type": "code",
   "execution_count": 3,
   "metadata": {},
   "outputs": [
    {
     "name": "stdout",
     "output_type": "stream",
     "text": [
      "Mini       104280\n",
      "Router     103593\n",
      "Dropcam     64568\n",
      "Kasa        23753\n",
      "Netcam3      4867\n",
      "Netcam1      4446\n",
      "Netcam2      4407\n",
      "Switch2      3046\n",
      "Switch1      2668\n",
      "Switch3      2634\n",
      "Insight      2556\n",
      "Switch4      2206\n",
      "Lifx2         627\n",
      "TpPlug        587\n",
      "Lifx1         540\n",
      "TpBulb        202\n",
      "Name: Name, dtype: int64\n"
     ]
    }
   ],
   "source": [
    "df = w.make_dataframe()"
   ]
  },
  {
   "cell_type": "code",
   "execution_count": 25,
   "metadata": {},
   "outputs": [
    {
     "name": "stdout",
     "output_type": "stream",
     "text": [
      "August2    224739\n",
      "Home1       58810\n",
      "Home2       58614\n",
      "Push        32761\n",
      "Kevo        21107\n",
      "August1     17314\n",
      "Weather      8643\n",
      "Room2        8133\n",
      "Room1        7728\n",
      "Door1        7374\n",
      "Door2        4154\n",
      "Name: Name, dtype: int64\n"
     ]
    }
   ],
   "source": [
    "b_df = b.make_dataframe()"
   ]
  },
  {
   "cell_type": "code",
   "execution_count": 4,
   "metadata": {},
   "outputs": [],
   "source": [
    "df_train = df[df[\"Set\"]==\"train\"]\n",
    "df_test = df[df[\"Set\"]==\"test\"]"
   ]
  },
  {
   "cell_type": "code",
   "execution_count": 31,
   "metadata": {},
   "outputs": [
    {
     "name": "stdout",
     "output_type": "stream",
     "text": [
      "\n"
     ]
    }
   ],
   "source": [
    "b_df_train = b_df[b_df[\"Set\"]==\"train\"]\n",
    "b_df_test = b_df[b_df[\"Set\"]==\"test\"]"
   ]
  },
  {
   "cell_type": "markdown",
   "metadata": {},
   "source": [
    "**Resampling**"
   ]
  },
  {
   "cell_type": "code",
   "execution_count": 5,
   "metadata": {},
   "outputs": [],
   "source": [
    "# Wifi: Sampling by DeviceType\n",
    "category = \"DeviceType\"\n",
    "\n",
    "# Undersampling:\n",
    "kind = \"under\"\n",
    "df_train_sampled = w.resample(df_train, kind=kind, category=category)\n",
    "df_test_sampled = w.resample(df_test, kind=kind, category=category)\n",
    "df_undersample_devtype = pd.concat([df_train_sampled, df_test_sampled], axis=0)\n",
    "\n",
    "# Oversampling:\n",
    "kind = \"over\"\n",
    "df_train_sampled = w.resample(df_train, kind=kind, category=category)\n",
    "df_test_sampled = w.resample(df_test, kind=kind, category=category)\n",
    "df_oversample_devtype = pd.concat([df_train_sampled, df_test_sampled], axis=0)\n",
    "\n",
    "# Mid-sampling:\n",
    "kind = \"mid\"\n",
    "df_train_sampled = w.resample(df_train, kind=kind, category=category)\n",
    "df_test_sampled = w.resample(df_test, kind=kind, category=category)\n",
    "df_midsample_devtype = pd.concat([df_train_sampled, df_test_sampled], axis=0)"
   ]
  },
  {
   "cell_type": "code",
   "execution_count": 28,
   "metadata": {},
   "outputs": [
    {
     "name": "stdout",
     "output_type": "stream",
     "text": [
      "Undersample: 1369\n",
      "Midsample: 76214\n",
      "Oversample: 143804\n"
     ]
    }
   ],
   "source": [
    "print \"Undersample:\", df_undersample_devtype[\"DeviceType\"].value_counts()[0]\n",
    "print \"Midsample:\", df_midsample_devtype[\"DeviceType\"].value_counts()[0]\n",
    "print \"Oversample:\", df_oversample_devtype[\"DeviceType\"].value_counts()[0]"
   ]
  },
  {
   "cell_type": "code",
   "execution_count": 32,
   "metadata": {},
   "outputs": [],
   "source": [
    "# BLE: Sampling by DeviceType\n",
    "category = \"DeviceType\"\n",
    "\n",
    "# Undersampling:\n",
    "kind = \"under\"\n",
    "df_train_sampled = w.resample(b_df_train, kind=kind, category=category)\n",
    "df_test_sampled = w.resample(b_df_test, kind=kind, category=category)\n",
    "b_df_undersample_devtype = pd.concat([df_train_sampled, df_test_sampled], axis=0)\n",
    "\n",
    "# Oversampling:\n",
    "kind = \"over\"\n",
    "df_train_sampled = w.resample(b_df_train, kind=kind, category=category)\n",
    "df_test_sampled = w.resample(b_df_test, kind=kind, category=category)\n",
    "b_df_oversample_devtype = pd.concat([df_train_sampled, df_test_sampled], axis=0)\n",
    "\n",
    "# Mid-sampling:\n",
    "kind = \"mid\"\n",
    "df_train_sampled = w.resample(b_df_train, kind=kind, category=category)\n",
    "df_test_sampled = w.resample(b_df_test, kind=kind, category=category)\n",
    "b_df_midsample_devtype = pd.concat([df_train_sampled, df_test_sampled], axis=0)"
   ]
  },
  {
   "cell_type": "code",
   "execution_count": 33,
   "metadata": {},
   "outputs": [
    {
     "name": "stdout",
     "output_type": "stream",
     "text": [
      "Undersample: 42575\n",
      "Midsample: 57265\n",
      "Oversample: 349537\n"
     ]
    }
   ],
   "source": [
    "print \"Undersample:\", b_df_undersample_devtype[\"DeviceType\"].value_counts()[0]\n",
    "print \"Midsample:\", b_df_midsample_devtype[\"DeviceType\"].value_counts()[0]\n",
    "print \"Oversample:\", b_df_oversample_devtype[\"DeviceType\"].value_counts()[0]"
   ]
  },
  {
   "cell_type": "code",
   "execution_count": 6,
   "metadata": {},
   "outputs": [],
   "source": [
    "# # Sampling by Name\n",
    "# category = \"Name\"\n",
    "\n",
    "# # Undersampling:\n",
    "# kind = \"under\"\n",
    "# df_train_sampled = w.resample(df_train, kind=kind, category=category)\n",
    "# df_test_sampled = w.resample(df_test, kind=kind, category=category)\n",
    "# df_undersample_name = pd.concat([df_train_sampled, df_test_sampled], axis=0)\n",
    "\n",
    "# # Oversampling:\n",
    "# kind = \"over\"\n",
    "# df_train_sampled = w.resample(df_train, kind=kind, category=category)\n",
    "# df_test_sampled = w.resample(df_test, kind=kind, category=category)\n",
    "# df_oversample_name = pd.concat([df_train_sampled, df_test_sampled], axis=0)"
   ]
  },
  {
   "cell_type": "code",
   "execution_count": 10,
   "metadata": {
    "scrolled": true
   },
   "outputs": [
    {
     "name": "stdout",
     "output_type": "stream",
     "text": [
      "Total time (one vs all_classify): 3.20186901093\n",
      "\n"
     ]
    }
   ],
   "source": [
    "# Set up vsall classification\n",
    "# all_under_devtype = w.one_vs_all_classify(df_undersample, features_list, y_list, output='plot')"
   ]
  },
  {
   "cell_type": "markdown",
   "metadata": {},
   "source": [
    "**Tuning using GridSearchCV**"
   ]
  },
  {
   "cell_type": "markdown",
   "metadata": {},
   "source": [
    "**Wifi Devices**"
   ]
  },
  {
   "cell_type": "code",
   "execution_count": 116,
   "metadata": {},
   "outputs": [],
   "source": [
    "# Wifi: Define which features to use\n",
    "features_list = [\n",
    "        # Packet info\n",
    "        \"PacketLength\", \"Duration\", \n",
    "        \n",
    "        # Vendor \n",
    "         \"Belkin\", \"Dropcam\", \"Lifi\", \"Netgear\", \"Tp-link\",\n",
    "    \n",
    "        # 802.11 Data subtype\n",
    "        \"Data\", \"QoS_Data\", \"QoS_Null\",\n",
    "\n",
    "        # Associated Packets\n",
    "        \"Assoc_Packets\"]\n",
    "\n",
    "# Define what the response classes are\n",
    "y_list = [\"camera\", \"bulb\", \"plug\"]"
   ]
  },
  {
   "cell_type": "code",
   "execution_count": 117,
   "metadata": {},
   "outputs": [],
   "source": [
    "# Define grid values\n",
    "# KNN\n",
    "n_neighbors = np.arange(1,11,2)\n",
    "knn_param_grid = dict(n_neighbors=n_neighbors)\n",
    "\n",
    "# RF\n",
    "max_features = np.linspace(2, len(features_list), num=5, dtype=int)\n",
    "rf_param_grid = dict(max_features=max_features)\n",
    "\n",
    "# LDA\n",
    "solver = ['lsqr']\n",
    "n_components = np.arange(1,4)\n",
    "lda_param_grid = dict(solver=solver, n_components=n_components)\n",
    "\n",
    "# QDA\n",
    "qda_param_grid = dict()"
   ]
  },
  {
   "cell_type": "code",
   "execution_count": 118,
   "metadata": {},
   "outputs": [],
   "source": [
    "# DF Setup\n",
    "df_to_use = df_midsample_devtype\n",
    "df_train = df_to_use[df_to_use['Set']=='train']\n",
    "df_test = df_to_use[df_to_use['Set']=='test']\n",
    "X_train = df_train[features_list]\n",
    "X_test = df_test[features_list]\n",
    "\n",
    "folds = 10"
   ]
  },
  {
   "cell_type": "code",
   "execution_count": 119,
   "metadata": {},
   "outputs": [
    {
     "name": "stdout",
     "output_type": "stream",
     "text": [
      "Device:  camera\n",
      "Best params: {'n_neighbors': 7} score =  0.9862618778460295\n",
      "\n",
      "Device:  bulb\n",
      "Best params: {'n_neighbors': 1} score =  0.9999863799185519\n",
      "\n",
      "Device:  plug\n",
      "Best params: {'n_neighbors': 7} score =  0.9850723907328965\n",
      "\n",
      "17435.578325\n"
     ]
    }
   ],
   "source": [
    "start_time = time.time()\n",
    "# KNN GridSearch Setup\n",
    "knn = KNeighborsClassifier()\n",
    "knn_grid = GridSearchCV(estimator=knn, param_grid=knn_param_grid, cv=folds)\n",
    "\n",
    "w_knn_grid_results = []\n",
    "for device in y_list:\n",
    "    # Adjust y_train, y_test\n",
    "    y_train = df_train[device]\n",
    "    y_test = df_test[device]\n",
    "    \n",
    "    grid_result = knn_grid.fit(X_train, y_train)\n",
    "    w_knn_grid_results.append(grid_result.cv_results_)\n",
    "    print \"Device: \", device\n",
    "    print \"Best params:\", grid_result.best_params_, \"score = \", grid_result.best_score_\n",
    "    print \"\"   \n",
    "    \n",
    "end_time = time.time() -start_time\n",
    "print end_time"
   ]
  },
  {
   "cell_type": "code",
   "execution_count": 120,
   "metadata": {},
   "outputs": [
    {
     "name": "stdout",
     "output_type": "stream",
     "text": [
      "Device:  camera\n",
      "Best params: {'max_features': 11} score =  0.9875603256107471\n",
      "\n",
      "Device:  bulb\n",
      "Best params: {'max_features': 2} score =  1.0\n",
      "\n",
      "Device:  plug\n",
      "Best params: {'max_features': 8} score =  0.9877510067510203\n",
      "\n",
      "6986.4978931\n"
     ]
    }
   ],
   "source": [
    "start_time = time.time()\n",
    "# RF GridSearch Setup\n",
    "rf = RandomForestClassifier(n_estimators=1000)\n",
    "rf_grid = GridSearchCV(estimator=rf, param_grid=rf_param_grid, cv=folds)\n",
    "\n",
    "w_rf_grid_results = []\n",
    "for device in y_list:\n",
    "    # Adjust y_train, y_test\n",
    "    y_train = df_train[device]\n",
    "    y_test = df_test[device]\n",
    "    \n",
    "    grid_result = rf_grid.fit(X_train, y_train)\n",
    "    w_rf_grid_results.append(grid_result.cv_results_)\n",
    "    print \"Device: \", device\n",
    "    print \"Best params:\", grid_result.best_params_, \"score = \", grid_result.best_score_\n",
    "    print \"\"\n",
    "    \n",
    "end_time = time.time() -start_time\n",
    "print end_time"
   ]
  },
  {
   "cell_type": "code",
   "execution_count": 121,
   "metadata": {},
   "outputs": [
    {
     "name": "stdout",
     "output_type": "stream",
     "text": [
      "Device:  camera\n",
      "Best params: {'n_components': 1, 'solver': 'lsqr'} score =  0.9737904232667312\n",
      "\n",
      "Device:  bulb\n",
      "Best params: {'n_components': 1, 'solver': 'lsqr'} score =  0.9785256715835161\n",
      "\n",
      "Device:  plug\n",
      "Best params: {'n_components': 1, 'solver': 'lsqr'} score =  0.9737904232667312\n",
      "\n",
      "7.1946709156\n"
     ]
    }
   ],
   "source": [
    "start_time = time.time()\n",
    "# LDA GridSearch Setup\n",
    "lda = LinearDiscriminantAnalysis()\n",
    "lda_grid = GridSearchCV(estimator=lda, param_grid=lda_param_grid, cv=folds)\n",
    "\n",
    "w_lda_grid_results = []\n",
    "# Run GridSearch for each device type\n",
    "for device in y_list:\n",
    "    # Adjust y_train, y_test\n",
    "    y_train = df_train[device]\n",
    "    y_test = df_test[device]\n",
    "    \n",
    "    grid_result = lda_grid.fit(X_train, y_train)\n",
    "    w_lda_grid_results.append(grid_result.cv_results_)\n",
    "    print \"Device: \", device\n",
    "    print \"Best params:\", grid_result.best_params_, \"score = \", grid_result.best_score_\n",
    "    print \"\"\n",
    "    \n",
    "end_time = time.time() -start_time\n",
    "print end_time"
   ]
  },
  {
   "cell_type": "markdown",
   "metadata": {},
   "source": [
    "**BLE Devices**"
   ]
  },
  {
   "cell_type": "code",
   "execution_count": 122,
   "metadata": {},
   "outputs": [],
   "source": [
    "# BLE: Feature list and response variables\n",
    "features_list = [\n",
    "#     'AccessAddr', 'AdvertAddr', 'ScanAddr',\n",
    "    'BLE_LL_Length', 'TxAddr', 'CompanyID',\n",
    "    'RFChannel',\n",
    "    'PacketLength', 'Time', 'Assoc_Packets',\n",
    "    'ADV_DIRECT_IND', 'ADV_IND', 'ADV_NONCONN_IND', \n",
    "    'ADV_SCAN_IND', 'CONNECT_REQ', 'SCAN_REQ', 'SCAN_RSP']\n",
    "\n",
    "y_list = [\"door\", \"lock\", \"temp\"]"
   ]
  },
  {
   "cell_type": "code",
   "execution_count": 123,
   "metadata": {},
   "outputs": [],
   "source": [
    "# Define grid values\n",
    "# KNN\n",
    "n_neighbors = np.arange(1,11,2)\n",
    "knn_param_grid = dict(n_neighbors=n_neighbors)\n",
    "\n",
    "# RF\n",
    "max_features = np.linspace(2, len(features_list), num=5, dtype=int)\n",
    "rf_param_grid = dict(max_features=max_features)\n",
    "\n",
    "# LDA\n",
    "solver = ['lsqr']\n",
    "n_components = np.arange(1,4)\n",
    "lda_param_grid = dict(solver=solver, n_components=n_components)"
   ]
  },
  {
   "cell_type": "code",
   "execution_count": 124,
   "metadata": {},
   "outputs": [],
   "source": [
    "# DF Setup\n",
    "df_to_use = b_df_midsample_devtype\n",
    "df_train = df_to_use[df_to_use['Set']=='train']\n",
    "df_test = df_to_use[df_to_use['Set']=='test']\n",
    "X_train = df_train[features_list]\n",
    "X_test = df_test[features_list]\n",
    "\n",
    "folds = 10"
   ]
  },
  {
   "cell_type": "code",
   "execution_count": 125,
   "metadata": {},
   "outputs": [
    {
     "name": "stdout",
     "output_type": "stream",
     "text": [
      "Device:  door\n",
      "Best params: {'n_neighbors': 1} score =  0.950147900892833\n",
      "\n",
      "Device:  lock\n",
      "Best params: {'n_neighbors': 1} score =  0.9746872371027707\n",
      "\n",
      "Device:  temp\n",
      "Best params: {'n_neighbors': 1} score =  0.9747890037721512\n",
      "\n",
      "491.940316916\n"
     ]
    }
   ],
   "source": [
    "start_time = time.time()\n",
    "# KNN GridSearch Setup\n",
    "knn = KNeighborsClassifier()\n",
    "knn_grid = GridSearchCV(estimator=knn, param_grid=knn_param_grid, cv=folds)\n",
    "\n",
    "b_knn_grid_results = []\n",
    "for device in y_list:\n",
    "    # Adjust y_train, y_test\n",
    "    y_train = df_train[device]\n",
    "    y_test = df_test[device]\n",
    "    \n",
    "    grid_result = knn_grid.fit(X_train, y_train)\n",
    "    b_knn_grid_results.append(grid_result.cv_results_)\n",
    "    print \"Device: \", device\n",
    "    print \"Best params:\", grid_result.best_params_, \"score = \", grid_result.best_score_\n",
    "    print \"\"\n",
    "    \n",
    "end_time = time.time() -start_time\n",
    "print end_time"
   ]
  },
  {
   "cell_type": "code",
   "execution_count": 126,
   "metadata": {},
   "outputs": [
    {
     "name": "stdout",
     "output_type": "stream",
     "text": [
      "Device:  door\n",
      "Best params: {'max_features': 11} score =  0.9789139461043719\n",
      "\n",
      "Device:  lock\n",
      "Best params: {'max_features': 2} score =  0.9999592933322479\n",
      "\n",
      "Device:  temp\n",
      "Best params: {'max_features': 5} score =  0.9794499172297756\n",
      "\n",
      "9211.42286301\n"
     ]
    }
   ],
   "source": [
    "start_time = time.time()\n",
    "# RF GridSearch Setup\n",
    "rf = RandomForestClassifier(n_estimators=1000)\n",
    "rf_grid = GridSearchCV(estimator=rf, param_grid=rf_param_grid, cv=folds)\n",
    "\n",
    "b_rf_grid_results = []\n",
    "for device in y_list:\n",
    "    # Adjust y_train, y_test\n",
    "    y_train = df_train[device]\n",
    "    y_test = df_test[device]\n",
    "    \n",
    "    grid_result = rf_grid.fit(X_train, y_train)\n",
    "    b_rf_grid_results.append(grid_result.cv_results_)\n",
    "    print \"Device: \", device\n",
    "    print \"Best params:\", grid_result.best_params_, \"score = \", grid_result.best_score_\n",
    "    print \"\"\n",
    "    \n",
    "end_time = time.time() -start_time\n",
    "print end_time"
   ]
  },
  {
   "cell_type": "code",
   "execution_count": 127,
   "metadata": {},
   "outputs": [
    {
     "name": "stdout",
     "output_type": "stream",
     "text": [
      "Device:  door\n",
      "Best params: {'n_components': 1, 'solver': 'lsqr'} score =  0.9300862981356346\n",
      "\n",
      "Device:  lock\n",
      "Best params: {'n_components': 1, 'solver': 'lsqr'} score =  0.9660642079839344\n",
      "\n",
      "Device:  temp\n",
      "Best params: {'n_components': 1, 'solver': 'lsqr'} score =  0.980019810578306\n",
      "\n",
      "5.17680811882\n"
     ]
    }
   ],
   "source": [
    "start_time = time.time()\n",
    "# LDA GridSearch Setup\n",
    "lda = LinearDiscriminantAnalysis()\n",
    "lda_grid = GridSearchCV(estimator=lda, param_grid=lda_param_grid, cv=folds)\n",
    "\n",
    "b_lda_grid_results = []\n",
    "# Run GridSearch for each device type\n",
    "for device in y_list:\n",
    "    # Adjust y_train, y_test\n",
    "    y_train = df_train[device]\n",
    "    y_test = df_test[device]\n",
    "    \n",
    "    grid_result = lda_grid.fit(X_train, y_train)\n",
    "    b_lda_grid_results.append(grid_result.cv_results_)\n",
    "    print \"Device: \", device\n",
    "    print \"Best params:\", grid_result.best_params_, \"score = \", grid_result.best_score_\n",
    "    print \"\"\n",
    "    \n",
    "end_time = time.time() -start_time\n",
    "print end_time"
   ]
  },
  {
   "cell_type": "markdown",
   "metadata": {},
   "source": [
    "**Determine best hyperparameters**"
   ]
  },
  {
   "cell_type": "code",
   "execution_count": 128,
   "metadata": {},
   "outputs": [],
   "source": [
    "wifi_grid_results = [w_knn_grid_results, w_rf_grid_results, w_lda_grid_results]\n",
    "ble_grid_results = [b_knn_grid_results, b_rf_grid_results, b_lda_grid_results]\n",
    "classifiers = ['knn', 'rf', 'lda']\n",
    "wifi_devices = [\"camera\", \"bulb\", \"plug\"]\n",
    "ble_devices = [\"door\", \"lock\", \"temp\"]"
   ]
  },
  {
   "cell_type": "code",
   "execution_count": 133,
   "metadata": {},
   "outputs": [
    {
     "name": "stdout",
     "output_type": "stream",
     "text": [
      "[0.97566999 0.98582604 0.98579426 0.98626188 0.98552639]\n",
      "[0.99998638 0.99994552 0.99991374 0.99989558 0.99988196]\n",
      "[0.98087741 0.98414623 0.98178087 0.98507239 0.98373308]\n"
     ]
    }
   ],
   "source": [
    "for x in w_knn_grid_results:\n",
    "    print x['mean_test_score']"
   ]
  },
  {
   "cell_type": "code",
   "execution_count": null,
   "metadata": {},
   "outputs": [],
   "source": [
    "for results,c in zip(wifi_grid_results, classifiers):\n",
    "    print c\n",
    "    for result,w in zip(results, wifi_devices):\n",
    "        print w\n",
    "        print result.best_params_"
   ]
  }
 ],
 "metadata": {
  "kernelspec": {
   "display_name": "Python 2",
   "language": "python",
   "name": "python2"
  },
  "language_info": {
   "codemirror_mode": {
    "name": "ipython",
    "version": 2
   },
   "file_extension": ".py",
   "mimetype": "text/x-python",
   "name": "python",
   "nbconvert_exporter": "python",
   "pygments_lexer": "ipython2",
   "version": "2.7.15"
  }
 },
 "nbformat": 4,
 "nbformat_minor": 2
}
