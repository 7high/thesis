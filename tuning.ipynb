{
 "cells": [
  {
   "cell_type": "code",
   "execution_count": 170,
   "metadata": {},
   "outputs": [],
   "source": [
    "from Pipeline import BLEPipeline, WifiPipeline\n",
    "import numpy as np\n",
    "import pandas as pd\n",
    "import matplotlib.pyplot as plt\n",
    "import seaborn as sns\n",
    "import random, time\n",
    "\n",
    "from itertools import izip, combinations\n",
    "\n",
    "import warnings\n",
    "warnings.filterwarnings(\"ignore\", category=UserWarning)\n",
    "\n",
    "# Plot ROC\n",
    "from sklearn.metrics import roc_curve, roc_auc_score\n",
    "import scikitplot as skplt\n",
    "\n",
    "# Tuning \n",
    "from sklearn.discriminant_analysis import LinearDiscriminantAnalysis, QuadraticDiscriminantAnalysis\n",
    "from sklearn.ensemble import RandomForestClassifier\n",
    "from sklearn.neighbors import KNeighborsClassifier\n",
    "from sklearn.model_selection import GridSearchCV, KFold, cross_val_score"
   ]
  },
  {
   "cell_type": "code",
   "execution_count": 3,
   "metadata": {},
   "outputs": [],
   "source": [
    "w = WifiPipeline()"
   ]
  },
  {
   "cell_type": "code",
   "execution_count": 4,
   "metadata": {},
   "outputs": [
    {
     "name": "stdout",
     "output_type": "stream",
     "text": [
      "Mini       104280\n",
      "Router     103593\n",
      "Dropcam     64568\n",
      "Kasa        23753\n",
      "Netcam3      4867\n",
      "Netcam1      4446\n",
      "Netcam2      4407\n",
      "Switch2      3046\n",
      "Switch1      2668\n",
      "Switch3      2634\n",
      "Insight      2556\n",
      "Switch4      2206\n",
      "Lifx2         627\n",
      "TpPlug        587\n",
      "Lifx1         540\n",
      "TpBulb        202\n",
      "Name: Name, dtype: int64\n"
     ]
    }
   ],
   "source": [
    "df = w.make_dataframe()"
   ]
  },
  {
   "cell_type": "code",
   "execution_count": 23,
   "metadata": {},
   "outputs": [],
   "source": [
    "df_train = df[df[\"Set\"]==\"train\"]\n",
    "df_test = df[df[\"Set\"]==\"test\"]"
   ]
  },
  {
   "cell_type": "code",
   "execution_count": null,
   "metadata": {},
   "outputs": [],
   "source": [
    "# Sampling by DeviceType\n",
    "category = \"DeviceType\"\n",
    "\n",
    "# Undersampling:\n",
    "kind = \"under\"\n",
    "df_train_sampled = w.resample(df_train, kind=kind, category=category)\n",
    "df_test_sampled = w.resample(df_test, kind=kind, category=category)\n",
    "df_undersample_devtype = pd.concat([df_train_sampled, df_test_sampled], axis=0)\n",
    "\n",
    "# Oversampling:\n",
    "kind = \"over\"\n",
    "df_train_sampled = w.resample(df_train, kind=kind, category=category)\n",
    "df_test_sampled = w.resample(df_test, kind=kind, category=category)\n",
    "df_oversample_devtype = pd.concat([df_train_sampled, df_test_sampled], axis=0)"
   ]
  },
  {
   "cell_type": "code",
   "execution_count": null,
   "metadata": {},
   "outputs": [],
   "source": [
    "# Sampling by Name\n",
    "category = \"Name\"\n",
    "\n",
    "# Undersampling:\n",
    "kind = \"under\"\n",
    "df_train_sampled = w.resample(df_train, kind=kind, category=category)\n",
    "df_test_sampled = w.resample(df_test, kind=kind, category=category)\n",
    "df_undersample_name = pd.concat([df_train_sampled, df_test_sampled], axis=0)\n",
    "\n",
    "# Oversampling:\n",
    "kind = \"over\"\n",
    "df_train_sampled = w.resample(df_train, kind=kind, category=category)\n",
    "df_test_sampled = w.resample(df_test, kind=kind, category=category)\n",
    "df_oversample_name = pd.concat([df_train_sampled, df_test_sampled], axis=0)"
   ]
  },
  {
   "cell_type": "code",
   "execution_count": 6,
   "metadata": {},
   "outputs": [],
   "source": [
    "# Define which features to use\n",
    "features_list = [\n",
    "        # Packet info\n",
    "        \"PacketLength\", \"Duration\", \n",
    "        \n",
    "        # Vendor \n",
    "         \"Belkin\", \"Dropcam\", \"Lifi\", \"Netgear\", \"Tp-link\",\n",
    "    \n",
    "        # 802.11 Data subtype\n",
    "        \"Data\", \"QoS_Data\", \"QoS_Null\",\n",
    "\n",
    "        # Associated Packets\n",
    "        \"Assoc_Packets\"]\n",
    "\n",
    "# Define what the response classes are\n",
    "y_list = [\"camera\", \"bulb\", \"plug\"]"
   ]
  },
  {
   "cell_type": "code",
   "execution_count": 10,
   "metadata": {
    "scrolled": true
   },
   "outputs": [
    {
     "name": "stdout",
     "output_type": "stream",
     "text": [
      "Total time (one vs all_classify): 3.20186901093\n",
      "\n"
     ]
    }
   ],
   "source": [
    "# Set up vsall classification\n",
    "all_under_devtype = w.one_vs_all_classify(df_undersample, features_list, y_list, output='plot')"
   ]
  },
  {
   "cell_type": "markdown",
   "metadata": {},
   "source": [
    "**Tuning using GridSearchCV**"
   ]
  },
  {
   "cell_type": "code",
   "execution_count": 129,
   "metadata": {},
   "outputs": [],
   "source": [
    "device = 'camera'\n",
    "df_to_use = df\n",
    "# df_to_use = df_undersample\n",
    "df_train = df_to_use[df_to_use['Set']=='train']\n",
    "X_train = df_train[features_list]\n",
    "y_train = df_train[device]\n",
    "\n",
    "df_test = df_to_use[df_to_use['Set']=='test']\n",
    "X_test = df_test[features_list]\n",
    "y_test = df_test[device]"
   ]
  },
  {
   "cell_type": "code",
   "execution_count": 130,
   "metadata": {},
   "outputs": [
    {
     "name": "stdout",
     "output_type": "stream",
     "text": [
      "0.2833645443196005\n"
     ]
    }
   ],
   "source": [
    "# Set up control classifier (no tuning)\n",
    "knn = KNeighborsClassifier()\n",
    "knn_model = knn.fit(X_train, y_train)\n",
    "print knn.score(X_test, y_test)"
   ]
  },
  {
   "cell_type": "code",
   "execution_count": 193,
   "metadata": {
    "scrolled": false
   },
   "outputs": [],
   "source": [
    "# Set up classifiers\n",
    "knn = KNeighborsClassifier()\n",
    "rf = RandomForestClassifier(n_estimators=1000)\n",
    "lda = LinearDiscriminantAnalysis()\n",
    "qda = QuadraticDiscriminantAnalysis()"
   ]
  },
  {
   "cell_type": "code",
   "execution_count": 138,
   "metadata": {},
   "outputs": [
    {
     "data": {
      "text/plain": [
       "217.5701036447793"
      ]
     },
     "execution_count": 138,
     "metadata": {},
     "output_type": "execute_result"
    }
   ],
   "source": [
    "k_max = np.sqrt(len(X_train))/2\n",
    "k_max"
   ]
  },
  {
   "cell_type": "code",
   "execution_count": 223,
   "metadata": {},
   "outputs": [
    {
     "name": "stdout",
     "output_type": "stream",
     "text": [
      "[1 2 3]\n"
     ]
    }
   ],
   "source": [
    "# Define grid values\n",
    "# KNN\n",
    "n_neighbors = np.arange(1,11,2)\n",
    "knn_param_grid = dict(n_neighbors=n_neighbors)\n",
    "\n",
    "# RF\n",
    "max_features = np.linspace(2, len(features_list), num=5, dtype=int)\n",
    "rf_param_grid = dict(max_features=max_features)\n",
    "\n",
    "# LDA\n",
    "solver = ['lsqr']\n",
    "n_components = np.arange(1,4)\n",
    "print n_components\n",
    "lda_param_grid = dict(solver=solver, n_components=n_components)\n",
    "\n",
    "# QDA\n",
    "qda_param_grid = dict()"
   ]
  },
  {
   "cell_type": "code",
   "execution_count": 224,
   "metadata": {},
   "outputs": [],
   "source": [
    "# Init grid searches\n",
    "folds = 10\n",
    "knn_grid = GridSearchCV(estimator=knn, param_grid=knn_param_grid, cv=folds)\n",
    "rf_grid = GridSearchCV(estimator=rf, param_grid=rf_param_grid, cv=folds)\n",
    "lda_grid = GridSearchCV(estimator=lda, param_grid=lda_param_grid, cv=folds)\n",
    "qda_grid = GridSearchCV(estimator=qda, param_grid=qda_param_grid, cv=folds)"
   ]
  },
  {
   "cell_type": "code",
   "execution_count": 154,
   "metadata": {},
   "outputs": [
    {
     "name": "stdout",
     "output_type": "stream",
     "text": [
      "KNN_Grid Best params: {'n_neighbors': 3} score =  0.9828357460112914\n",
      "CPU times: user 2h 29min 12s, sys: 230 ms, total: 2h 29min 13s\n",
      "Wall time: 2h 29min 5s\n"
     ]
    }
   ],
   "source": [
    "%%time\n",
    "knn_grid_result = knn_grid.fit(X_train, y_train)\n",
    "print \"KNN_Grid Best params:\", knn_grid_result.best_params_, \"score = \", knn_grid_result.best_score_"
   ]
  },
  {
   "cell_type": "code",
   "execution_count": 155,
   "metadata": {},
   "outputs": [
    {
     "data": {
      "text/plain": [
       "{'mean_fit_time': array([70.67118621, 70.2830287 , 70.33850598, 70.70554957, 70.15340869]),\n",
       " 'mean_score_time': array([10.49609258, 10.51325469, 10.50272162, 10.51065383, 10.51851656]),\n",
       " 'mean_test_score': array([0.9643987 , 0.98283575, 0.96588274, 0.96593556, 0.96565037]),\n",
       " 'mean_train_score': array([0.97339688, 0.97603754, 0.97372725, 0.97359228, 0.97390036]),\n",
       " 'param_n_neighbors': masked_array(data=[1, 3, 5, 7, 9],\n",
       "              mask=[False, False, False, False, False],\n",
       "        fill_value='?',\n",
       "             dtype=object),\n",
       " 'params': [{'n_neighbors': 1},\n",
       "  {'n_neighbors': 3},\n",
       "  {'n_neighbors': 5},\n",
       "  {'n_neighbors': 7},\n",
       "  {'n_neighbors': 9}],\n",
       " 'rank_test_score': array([5, 1, 3, 2, 4], dtype=int32),\n",
       " 'split0_test_score': array([0.68441065, 0.87626743, 0.70600972, 0.70574567, 0.70595691]),\n",
       " 'split0_train_score': array([0.97208514, 0.99283497, 0.97026014, 0.97023666, 0.97021906]),\n",
       " 'split1_test_score': array([0.98304727, 0.9832057 , 0.98331133, 0.98410351, 0.98410351]),\n",
       " 'split1_train_score': array([0.98129827, 0.98047673, 0.98047086, 0.97923268, 0.97922682]),\n",
       " 'split2_test_score': array([0.99984156, 0.99984156, 0.99984156, 0.99989438, 0.99989438]),\n",
       " 'split2_train_score': array([0.97359928, 0.97361101, 0.97351712, 0.97347018, 0.97343497]),\n",
       " 'split3_test_score': array([0.99994719, 0.99994719, 0.99994719, 0.99994719, 0.99994719]),\n",
       " 'split3_train_score': array([0.97433279, 0.9735582 , 0.97347605, 0.97347018, 0.97344671]),\n",
       " 'split4_test_score': array([0.99989438, 0.99984156, 0.99994719, 0.99994719, 0.99994719]),\n",
       " 'split4_train_score': array([0.97344084, 0.97354646, 0.97348778, 0.97348778, 0.97345844]),\n",
       " 'split5_test_score': array([0.99994719, 0.99989438, 0.99989438, 0.99978875, 0.99978875]),\n",
       " 'split5_train_score': array([0.97424477, 0.97429758, 0.97420956, 0.97420369, 0.97415675]),\n",
       " 'split6_test_score': array([0.99989437, 0.99984155, 0.99984155, 0.99984155, 0.99994718]),\n",
       " 'split6_train_score': array([0.96591809, 0.97308304, 0.97310064, 0.97311825, 0.9741569 ]),\n",
       " 'split7_test_score': array([1.        , 0.99994718, 0.99994718, 1.        , 1.        ]),\n",
       " 'split7_train_score': array([0.97364638, 0.97357009, 0.97348794, 0.97346447, 0.97342926]),\n",
       " 'split8_test_score': array([1.        , 1.        , 1.        , 0.99989437, 0.99989437]),\n",
       " 'split8_train_score': array([0.97355836, 0.97355836, 0.97345273, 0.97344686, 0.97338231]),\n",
       " 'split9_test_score': array([0.97702546, 0.96957854, 0.97010669, 0.97021232, 0.96704341]),\n",
       " 'split9_train_score': array([0.97184487, 0.971839  , 0.97180966, 0.97179206, 0.97409235]),\n",
       " 'std_fit_time': array([3.84025258, 3.75162278, 3.46276767, 3.73436501, 3.56761646]),\n",
       " 'std_score_time': array([1.93886201, 1.93544396, 1.93306087, 1.93809086, 1.94205947]),\n",
       " 'std_test_score': array([0.09367188, 0.03684055, 0.08715992, 0.08725123, 0.0871821 ]),\n",
       " 'std_train_score': array([0.00352448, 0.00601431, 0.00249192, 0.00216776, 0.00207845])}"
      ]
     },
     "execution_count": 155,
     "metadata": {},
     "output_type": "execute_result"
    }
   ],
   "source": [
    "knn_grid_result.cv_results_"
   ]
  },
  {
   "cell_type": "code",
   "execution_count": 156,
   "metadata": {},
   "outputs": [
    {
     "name": "stdout",
     "output_type": "stream",
     "text": [
      "RF_Grid Best params: {'max_features': 11} score =  0.9752623490205813\n",
      "CPU times: user 29min 5s, sys: 19.6 s, total: 29min 24s\n",
      "Wall time: 40min 9s\n"
     ]
    }
   ],
   "source": [
    "%%time\n",
    "rf_grid_result = rf_grid.fit(X_train, y_train)\n",
    "print \"RF_Grid Best params:\", rf_grid_result.best_params_, \"score = \", rf_grid_result.best_score_"
   ]
  },
  {
   "cell_type": "code",
   "execution_count": 158,
   "metadata": {},
   "outputs": [
    {
     "data": {
      "text/plain": [
       "{'mean_fit_time': array([83.58195257, 23.46767893, 24.73769701, 26.20158   , 28.62654252]),\n",
       " 'mean_score_time': array([0.94631853, 0.91396887, 0.89171066, 0.88854291, 0.87409623]),\n",
       " 'mean_test_score': array([0.97463915, 0.974655  , 0.97466028, 0.97496131, 0.97526235]),\n",
       " 'mean_train_score': array([0.98207173, 0.98207173, 0.98207173, 0.98207173, 0.98207173]),\n",
       " 'param_max_features': masked_array(data=[2, 4, 6, 8, 11],\n",
       "              mask=[False, False, False, False, False],\n",
       "        fill_value='?',\n",
       "             dtype=object),\n",
       " 'params': [{'max_features': 2},\n",
       "  {'max_features': 4},\n",
       "  {'max_features': 6},\n",
       "  {'max_features': 8},\n",
       "  {'max_features': 11}],\n",
       " 'rank_test_score': array([5, 4, 3, 2, 1], dtype=int32),\n",
       " 'split0_test_score': array([0.85144698, 0.85144698, 0.85139417, 0.85128855, 0.85181665]),\n",
       " 'split0_train_score': array([0.99459542, 0.99459542, 0.99459542, 0.99459542, 0.99459542]),\n",
       " 'split1_test_score': array([0.96186955, 0.96186955, 0.96197518, 0.9650911 , 0.96524954]),\n",
       " 'split1_train_score': array([0.98282985, 0.98282985, 0.98282985, 0.98282985, 0.98282985]),\n",
       " 'split2_test_score': array([0.99984156, 0.99984156, 0.99984156, 0.99984156, 0.99984156]),\n",
       " 'split2_train_score': array([0.97973147, 0.97973147, 0.97973147, 0.97973147, 0.97973147]),\n",
       " 'split3_test_score': array([1., 1., 1., 1., 1.]),\n",
       " 'split3_train_score': array([0.97971387, 0.97971387, 0.97971387, 0.97971387, 0.97971387]),\n",
       " 'split4_test_score': array([0.99989438, 0.99989438, 0.99989438, 0.99989438, 0.99989438]),\n",
       " 'split4_train_score': array([0.97971974, 0.97971974, 0.97971974, 0.97971974, 0.97971974]),\n",
       " 'split5_test_score': array([1., 1., 1., 1., 1.]),\n",
       " 'split5_train_score': array([0.97971387, 0.97971387, 0.97971387, 0.97971387, 0.97971387]),\n",
       " 'split6_test_score': array([1., 1., 1., 1., 1.]),\n",
       " 'split6_train_score': array([0.97971399, 0.97971399, 0.97971399, 0.97971399, 0.97971399]),\n",
       " 'split7_test_score': array([1.        , 1.        , 0.99994718, 0.99994718, 0.99994718]),\n",
       " 'split7_train_score': array([0.97971399, 0.97971399, 0.97971399, 0.97971399, 0.97971399]),\n",
       " 'split8_test_score': array([1., 1., 1., 1., 1.]),\n",
       " 'split8_train_score': array([0.97971399, 0.97971399, 0.97971399, 0.97971399, 0.97971399]),\n",
       " 'split9_test_score': array([0.93334742, 0.93350586, 0.93355868, 0.93355868, 0.93588254]),\n",
       " 'split9_train_score': array([0.98527108, 0.98527108, 0.98527108, 0.98527108, 0.98527108]),\n",
       " 'std_fit_time': array([183.77082463,   0.468836  ,   0.55881482,   0.66480425,\n",
       "          0.89809336]),\n",
       " 'std_score_time': array([0.0797389 , 0.08560602, 0.08876112, 0.08984194, 0.08583948]),\n",
       " 'std_test_score': array([0.04640494, 0.04639086, 0.04639443, 0.04634677, 0.04599875]),\n",
       " 'std_train_score': array([0.00454376, 0.00454376, 0.00454376, 0.00454376, 0.00454376])}"
      ]
     },
     "execution_count": 158,
     "metadata": {},
     "output_type": "execute_result"
    }
   ],
   "source": [
    "rf_grid_result.cv_results_"
   ]
  },
  {
   "cell_type": "code",
   "execution_count": 225,
   "metadata": {
    "scrolled": false
   },
   "outputs": [
    {
     "name": "stdout",
     "output_type": "stream",
     "text": [
      "LDA_Grid Best params: {'n_components': 1, 'solver': 'lsqr'} score =  0.9518555878889023\n",
      "CPU times: user 4.12 s, sys: 40 ms, total: 4.16 s\n",
      "Wall time: 2.12 s\n"
     ]
    }
   ],
   "source": [
    "%%time\n",
    "lda_grid_result = lda_grid.fit(X_train, y_train)\n",
    "print \"LDA_Grid Best params:\", lda_grid_result.best_params_, \"score = \", lda_grid_result.best_score_"
   ]
  },
  {
   "cell_type": "code",
   "execution_count": 226,
   "metadata": {},
   "outputs": [
    {
     "data": {
      "text/plain": [
       "{'mean_fit_time': array([0.04995093, 0.05008829, 0.04886222]),\n",
       " 'mean_score_time': array([0.0018441 , 0.00172205, 0.00175855]),\n",
       " 'mean_test_score': array([0.95185559, 0.95185559, 0.95185559]),\n",
       " 'mean_train_score': array([0.96949518, 0.96949518, 0.96949518]),\n",
       " 'param_n_components': masked_array(data=[1, 2, 3],\n",
       "              mask=[False, False, False],\n",
       "        fill_value='?',\n",
       "             dtype=object),\n",
       " 'param_solver': masked_array(data=['lsqr', 'lsqr', 'lsqr'],\n",
       "              mask=[False, False, False],\n",
       "        fill_value='?',\n",
       "             dtype=object),\n",
       " 'params': [{'n_components': 1, 'solver': 'lsqr'},\n",
       "  {'n_components': 2, 'solver': 'lsqr'},\n",
       "  {'n_components': 3, 'solver': 'lsqr'}],\n",
       " 'rank_test_score': array([1, 1, 1], dtype=int32),\n",
       " 'split0_test_score': array([0.60583016, 0.60583016, 0.60583016]),\n",
       " 'split0_train_score': array([0.99092782, 0.99092782, 0.99092782]),\n",
       " 'split1_test_score': array([0.94290996, 0.94290996, 0.94290996]),\n",
       " 'split1_train_score': array([0.97239631, 0.97239631, 0.97239631]),\n",
       " 'split2_test_score': array([0.99862688, 0.99862688, 0.99862688]),\n",
       " 'split2_train_score': array([0.96577706, 0.96577706, 0.96577706]),\n",
       " 'split3_test_score': array([0.99920782, 0.99920782, 0.99920782]),\n",
       " 'split3_train_score': array([0.96571251, 0.96571251, 0.96571251]),\n",
       " 'split4_test_score': array([0.99910219, 0.99910219, 0.99910219]),\n",
       " 'split4_train_score': array([0.96572424, 0.96572424, 0.96572424]),\n",
       " 'split5_test_score': array([0.99963031, 0.99963031, 0.99963031]),\n",
       " 'split5_train_score': array([0.96566556, 0.96566556, 0.96566556]),\n",
       " 'split6_test_score': array([0.99973592, 0.99973592, 0.99973592]),\n",
       " 'split6_train_score': array([0.96565403, 0.96565403, 0.96565403]),\n",
       " 'split7_test_score': array([0.9993134, 0.9993134, 0.9993134]),\n",
       " 'split7_train_score': array([0.96570097, 0.96570097, 0.96570097]),\n",
       " 'split8_test_score': array([0.99915496, 0.99915496, 0.99915496]),\n",
       " 'split8_train_score': array([0.96571858, 0.96571858, 0.96571858]),\n",
       " 'split9_test_score': array([0.9750713, 0.9750713, 0.9750713]),\n",
       " 'split9_train_score': array([0.9716747, 0.9716747, 0.9716747]),\n",
       " 'std_fit_time': array([0.0018736 , 0.00338579, 0.00116684]),\n",
       " 'std_score_time': array([3.11143481e-04, 2.57950393e-05, 7.52179784e-05]),\n",
       " 'std_test_score': array([0.11665639, 0.11665639, 0.11665639]),\n",
       " 'std_train_score': array([0.00756939, 0.00756939, 0.00756939])}"
      ]
     },
     "execution_count": 226,
     "metadata": {},
     "output_type": "execute_result"
    }
   ],
   "source": [
    "lda_grid_result.cv_results_"
   ]
  },
  {
   "cell_type": "code",
   "execution_count": null,
   "metadata": {},
   "outputs": [],
   "source": [
    "# Run GridSearch for each device type\n",
    "# for device in y_list:\n",
    "#     y_train = df_train[device]\n",
    "#     y_test = df_test[device]\n",
    "#     grid_result = grid.fit(X_train, y_train)\n",
    "    \n",
    "#     print \"Best params:\", grid_result.best_params_, \"score = \", grid_result.best_score_"
   ]
  }
 ],
 "metadata": {
  "kernelspec": {
   "display_name": "Python 2",
   "language": "python",
   "name": "python2"
  },
  "language_info": {
   "codemirror_mode": {
    "name": "ipython",
    "version": 2
   },
   "file_extension": ".py",
   "mimetype": "text/x-python",
   "name": "python",
   "nbconvert_exporter": "python",
   "pygments_lexer": "ipython2",
   "version": "2.7.15"
  }
 },
 "nbformat": 4,
 "nbformat_minor": 2
}
