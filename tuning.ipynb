{
 "cells": [
  {
   "cell_type": "code",
   "execution_count": 4,
   "metadata": {},
   "outputs": [],
   "source": [
    "from Pipeline import BLEPipeline, WifiPipeline\n",
    "import numpy as np\n",
    "import pandas as pd\n",
    "import matplotlib.pyplot as plt\n",
    "import seaborn as sns\n",
    "import random, time\n",
    "\n",
    "from itertools import izip, combinations\n",
    "\n",
    "import warnings\n",
    "warnings.filterwarnings(\"ignore\", category=UserWarning)\n",
    "\n",
    "# Plot ROC\n",
    "from sklearn.metrics import roc_curve, roc_auc_score\n",
    "import scikitplot as skplt\n",
    "\n",
    "# Tuning \n",
    "from sklearn.discriminant_analysis import LinearDiscriminantAnalysis, QuadraticDiscriminantAnalysis\n",
    "from sklearn.ensemble import RandomForestClassifier\n",
    "from sklearn.neighbors import KNeighborsClassifier\n",
    "from sklearn.model_selection import GridSearchCV, KFold, cross_val_score"
   ]
  },
  {
   "cell_type": "code",
   "execution_count": 5,
   "metadata": {},
   "outputs": [],
   "source": [
    "w = WifiPipeline()\n",
    "b = BLEPipeline()"
   ]
  },
  {
   "cell_type": "markdown",
   "metadata": {},
   "source": [
    "**Dataframe Creation**"
   ]
  },
  {
   "cell_type": "code",
   "execution_count": 6,
   "metadata": {},
   "outputs": [
    {
     "name": "stdout",
     "output_type": "stream",
     "text": [
      "Mini       104280\n",
      "Router     103593\n",
      "Dropcam     64568\n",
      "Kasa        23753\n",
      "Netcam3      4867\n",
      "Netcam1      4446\n",
      "Netcam2      4407\n",
      "Switch2      3046\n",
      "Switch1      2668\n",
      "Switch3      2634\n",
      "Insight      2556\n",
      "Switch4      2206\n",
      "Lifx2         627\n",
      "TpPlug        587\n",
      "Lifx1         540\n",
      "TpBulb        202\n",
      "Name: Name, dtype: int64\n"
     ]
    }
   ],
   "source": [
    "df = w.make_dataframe()"
   ]
  },
  {
   "cell_type": "code",
   "execution_count": 7,
   "metadata": {},
   "outputs": [
    {
     "name": "stdout",
     "output_type": "stream",
     "text": [
      "August2    224739\n",
      "Home1       58810\n",
      "Home2       58614\n",
      "Push        32761\n",
      "Kevo        21107\n",
      "August1     17314\n",
      "Weather      8643\n",
      "Room2        8133\n",
      "Room1        7728\n",
      "Door1        7374\n",
      "Door2        4154\n",
      "Name: Name, dtype: int64\n"
     ]
    }
   ],
   "source": [
    "b_df = b.make_dataframe()"
   ]
  },
  {
   "cell_type": "code",
   "execution_count": 8,
   "metadata": {},
   "outputs": [],
   "source": [
    "df_train = df[df[\"Set\"]==\"train\"]\n",
    "df_test = df[df[\"Set\"]==\"test\"]"
   ]
  },
  {
   "cell_type": "code",
   "execution_count": 9,
   "metadata": {},
   "outputs": [],
   "source": [
    "b_df_train = b_df[b_df[\"Set\"]==\"train\"]\n",
    "b_df_test = b_df[b_df[\"Set\"]==\"test\"]"
   ]
  },
  {
   "cell_type": "markdown",
   "metadata": {},
   "source": [
    "**Resampling**"
   ]
  },
  {
   "cell_type": "code",
   "execution_count": 10,
   "metadata": {},
   "outputs": [],
   "source": [
    "# Wifi: Sampling by DeviceType\n",
    "category = \"DeviceType\"\n",
    "\n",
    "# Undersampling:\n",
    "kind = \"under\"\n",
    "df_train_sampled = w.resample(df_train, kind=kind, category=category)\n",
    "df_test_sampled = w.resample(df_test, kind=kind, category=category)\n",
    "df_undersample_devtype = pd.concat([df_train_sampled, df_test_sampled], axis=0)\n",
    "\n",
    "# Oversampling:\n",
    "kind = \"over\"\n",
    "df_train_sampled = w.resample(df_train, kind=kind, category=category)\n",
    "df_test_sampled = w.resample(df_test, kind=kind, category=category)\n",
    "df_oversample_devtype = pd.concat([df_train_sampled, df_test_sampled], axis=0)\n",
    "\n",
    "# Mid-sampling:\n",
    "kind = \"mid\"\n",
    "df_train_sampled = w.resample(df_train, kind=kind, category=category)\n",
    "df_test_sampled = w.resample(df_test, kind=kind, category=category)\n",
    "df_midsample_devtype = pd.concat([df_train_sampled, df_test_sampled], axis=0)"
   ]
  },
  {
   "cell_type": "code",
   "execution_count": 11,
   "metadata": {},
   "outputs": [
    {
     "name": "stdout",
     "output_type": "stream",
     "text": [
      "Undersample: 1369\n",
      "Midsample: 76214\n",
      "Oversample: 143804\n"
     ]
    }
   ],
   "source": [
    "print \"Undersample:\", df_undersample_devtype[\"DeviceType\"].value_counts()[0]\n",
    "print \"Midsample:\", df_midsample_devtype[\"DeviceType\"].value_counts()[0]\n",
    "print \"Oversample:\", df_oversample_devtype[\"DeviceType\"].value_counts()[0]"
   ]
  },
  {
   "cell_type": "code",
   "execution_count": 12,
   "metadata": {},
   "outputs": [],
   "source": [
    "# BLE: Sampling by DeviceType\n",
    "category = \"DeviceType\"\n",
    "\n",
    "# Undersampling:\n",
    "kind = \"under\"\n",
    "df_train_sampled = w.resample(b_df_train, kind=kind, category=category)\n",
    "df_test_sampled = w.resample(b_df_test, kind=kind, category=category)\n",
    "b_df_undersample_devtype = pd.concat([df_train_sampled, df_test_sampled], axis=0)\n",
    "\n",
    "# Oversampling:\n",
    "kind = \"over\"\n",
    "df_train_sampled = w.resample(b_df_train, kind=kind, category=category)\n",
    "df_test_sampled = w.resample(b_df_test, kind=kind, category=category)\n",
    "b_df_oversample_devtype = pd.concat([df_train_sampled, df_test_sampled], axis=0)\n",
    "\n",
    "# Mid-sampling:\n",
    "kind = \"mid\"\n",
    "df_train_sampled = w.resample(b_df_train, kind=kind, category=category)\n",
    "df_test_sampled = w.resample(b_df_test, kind=kind, category=category)\n",
    "b_df_midsample_devtype = pd.concat([df_train_sampled, df_test_sampled], axis=0)"
   ]
  },
  {
   "cell_type": "code",
   "execution_count": 13,
   "metadata": {},
   "outputs": [
    {
     "name": "stdout",
     "output_type": "stream",
     "text": [
      "Undersample: 42575\n",
      "Midsample: 57265\n",
      "Oversample: 349537\n"
     ]
    }
   ],
   "source": [
    "print \"Undersample:\", b_df_undersample_devtype[\"DeviceType\"].value_counts()[0]\n",
    "print \"Midsample:\", b_df_midsample_devtype[\"DeviceType\"].value_counts()[0]\n",
    "print \"Oversample:\", b_df_oversample_devtype[\"DeviceType\"].value_counts()[0]"
   ]
  },
  {
   "cell_type": "code",
   "execution_count": 6,
   "metadata": {},
   "outputs": [],
   "source": [
    "# # Sampling by Name\n",
    "# category = \"Name\"\n",
    "\n",
    "# # Undersampling:\n",
    "# kind = \"under\"\n",
    "# df_train_sampled = w.resample(df_train, kind=kind, category=category)\n",
    "# df_test_sampled = w.resample(df_test, kind=kind, category=category)\n",
    "# df_undersample_name = pd.concat([df_train_sampled, df_test_sampled], axis=0)\n",
    "\n",
    "# # Oversampling:\n",
    "# kind = \"over\"\n",
    "# df_train_sampled = w.resample(df_train, kind=kind, category=category)\n",
    "# df_test_sampled = w.resample(df_test, kind=kind, category=category)\n",
    "# df_oversample_name = pd.concat([df_train_sampled, df_test_sampled], axis=0)"
   ]
  },
  {
   "cell_type": "code",
   "execution_count": 10,
   "metadata": {
    "scrolled": true
   },
   "outputs": [
    {
     "name": "stdout",
     "output_type": "stream",
     "text": [
      "Total time (one vs all_classify): 3.20186901093\n",
      "\n"
     ]
    }
   ],
   "source": [
    "# Set up vsall classification\n",
    "# all_under_devtype = w.one_vs_all_classify(df_undersample, features_list, y_list, output='plot')"
   ]
  },
  {
   "cell_type": "markdown",
   "metadata": {},
   "source": [
    "**Tuning using GridSearchCV**"
   ]
  },
  {
   "cell_type": "code",
   "execution_count": 147,
   "metadata": {},
   "outputs": [],
   "source": [
    "def tune_gridsearch(classifier, param_grid, df_train, features_list, y_list):\n",
    "    start_time = time.time()\n",
    "    \n",
    "    X_train = df_train[features_list]\n",
    "    \n",
    "    # Scoring documentation: https://scikit-learn.org/stable/modules/model_evaluation.html#scoring-parameter\n",
    "    grid = GridSearchCV(estimator=classifier, scoring='roc_auc', param_grid=param_grid, cv=10)\n",
    "    grid_results = dict()\n",
    "    \n",
    "    for device in y_list:\n",
    "        # Adjust y_train, y_test\n",
    "        y_train = df_train[device]\n",
    "\n",
    "        grid_result = grid.fit(X_train, y_train)\n",
    "        grid_results[device] = grid_result.cv_results_\n",
    "\n",
    "    end_time = time.time() -start_time\n",
    "    \n",
    "    return dict(end_time=end_time, grid_results=grid_results)"
   ]
  },
  {
   "cell_type": "markdown",
   "metadata": {},
   "source": [
    "**Wifi Devices**"
   ]
  },
  {
   "cell_type": "code",
   "execution_count": 148,
   "metadata": {},
   "outputs": [],
   "source": [
    "# Wifi: Define which features to use\n",
    "features_list = [\n",
    "        # Packet info\n",
    "        \"PacketLength\", \"Duration\", \n",
    "        \n",
    "        # Vendor \n",
    "         \"Belkin\", \"Dropcam\", \"Lifi\", \"Netgear\", \"Tp-link\",\n",
    "    \n",
    "        # 802.11 Data subtype\n",
    "        \"Data\", \"QoS_Data\", \"QoS_Null\",\n",
    "\n",
    "        # Associated Packets\n",
    "        \"Assoc_Packets\"]\n",
    "\n",
    "# Define what the response classes are\n",
    "y_list = [\"camera\", \"bulb\", \"plug\"]"
   ]
  },
  {
   "cell_type": "code",
   "execution_count": 149,
   "metadata": {},
   "outputs": [],
   "source": [
    "# Define grid values\n",
    "# KNN\n",
    "n_neighbors = np.arange(1,11,2)\n",
    "knn_param_grid = dict(n_neighbors=n_neighbors)\n",
    "\n",
    "# RF\n",
    "max_features = np.linspace(2, len(features_list), num=5, dtype=int)\n",
    "rf_param_grid = dict(max_features=max_features)\n",
    "\n",
    "# LDA\n",
    "n_components = np.arange(1,4)\n",
    "lda_param_grid = dict(n_components=n_components)"
   ]
  },
  {
   "cell_type": "code",
   "execution_count": 150,
   "metadata": {},
   "outputs": [],
   "source": [
    "# DF Setup\n",
    "df_to_use = df_midsample_devtype\n",
    "df_train = df_to_use[df_to_use['Set']=='train']\n",
    "df_test = df_to_use[df_to_use['Set']=='test']\n",
    "X_train = df_train[features_list]\n",
    "X_test = df_test[features_list]"
   ]
  },
  {
   "cell_type": "code",
   "execution_count": 151,
   "metadata": {},
   "outputs": [],
   "source": [
    "# Set up classifiers\n",
    "knn = KNeighborsClassifier()\n",
    "rf = RandomForestClassifier()\n",
    "lda = LinearDiscriminantAnalysis()"
   ]
  },
  {
   "cell_type": "code",
   "execution_count": 152,
   "metadata": {},
   "outputs": [],
   "source": [
    "w_knn = tune_gridsearch(knn, knn_param_grid, df_train, features_list, y_list)\n",
    "w_rf = tune_gridsearch(rf, rf_param_grid, df_train, features_list, y_list)\n",
    "w_lda = tune_gridsearch(lda, lda_param_grid, df_train, features_list, y_list)"
   ]
  },
  {
   "cell_type": "markdown",
   "metadata": {},
   "source": [
    "**BLE Devices**"
   ]
  },
  {
   "cell_type": "code",
   "execution_count": 153,
   "metadata": {},
   "outputs": [],
   "source": [
    "# BLE: Feature list and response variables\n",
    "features_list = [\n",
    "#     'AccessAddr', 'AdvertAddr', 'ScanAddr',\n",
    "    'BLE_LL_Length', 'TxAddr', 'CompanyID',\n",
    "    'RFChannel',\n",
    "    'PacketLength', 'Time', 'Assoc_Packets',\n",
    "    'ADV_DIRECT_IND', 'ADV_IND', 'ADV_NONCONN_IND', \n",
    "    'ADV_SCAN_IND', 'CONNECT_REQ', 'SCAN_REQ', 'SCAN_RSP']\n",
    "\n",
    "y_list = [\"door\", \"lock\", \"temp\"]"
   ]
  },
  {
   "cell_type": "code",
   "execution_count": 154,
   "metadata": {},
   "outputs": [],
   "source": [
    "# Define grid values\n",
    "# KNN\n",
    "n_neighbors = np.arange(1,11,2)\n",
    "knn_param_grid = dict(n_neighbors=n_neighbors)\n",
    "\n",
    "# RF\n",
    "max_features = np.linspace(2, len(features_list), num=5, dtype=int)\n",
    "rf_param_grid = dict(max_features=max_features)\n",
    "\n",
    "# LDA\n",
    "n_components = np.arange(1,4)\n",
    "lda_param_grid = dict(n_components=n_components)"
   ]
  },
  {
   "cell_type": "code",
   "execution_count": 155,
   "metadata": {},
   "outputs": [],
   "source": [
    "# DF Setup\n",
    "df_to_use = b_df_midsample_devtype\n",
    "df_train = df_to_use[df_to_use['Set']=='train']\n",
    "df_test = df_to_use[df_to_use['Set']=='test']\n",
    "X_train = df_train[features_list]\n",
    "X_test = df_test[features_list]"
   ]
  },
  {
   "cell_type": "code",
   "execution_count": 156,
   "metadata": {},
   "outputs": [],
   "source": [
    "# Set up classifiers\n",
    "knn = KNeighborsClassifier()\n",
    "rf = RandomForestClassifier()\n",
    "lda = LinearDiscriminantAnalysis()"
   ]
  },
  {
   "cell_type": "code",
   "execution_count": 157,
   "metadata": {},
   "outputs": [],
   "source": [
    "b_knn = tune_gridsearch(knn, knn_param_grid, df_train, features_list, y_list)\n",
    "b_rf = tune_gridsearch(rf, rf_param_grid, df_train, features_list, y_list)\n",
    "b_lda = tune_gridsearch(lda, lda_param_grid, df_train, features_list, y_list)"
   ]
  },
  {
   "cell_type": "markdown",
   "metadata": {},
   "source": [
    "**Determine best hyperparameters**"
   ]
  },
  {
   "cell_type": "code",
   "execution_count": 158,
   "metadata": {},
   "outputs": [],
   "source": [
    "# Find best performing hyperparameter across all device types\n",
    "def find_best_params(grid_result, labels, print_tuning=False):\n",
    "    # Get list of all test scores for each device\n",
    "    mean_test_scores = [val['mean_test_score'] for key,val in grid_result['grid_results'].items()]\n",
    "\n",
    "    # Store into dataframe\n",
    "    tuning_results = (pd.DataFrame(data=mean_test_scores, index=labels)).T\n",
    "\n",
    "    # Calculate mean test score across all devices\n",
    "    tuning_results['Mean'] = tuning_results.mean(axis=1)\n",
    "    \n",
    "    if print_tuning:\n",
    "        print tuning_results\n",
    "        \n",
    "    # Find best mean test score\n",
    "    best_mean_score = max(tuning_results['Mean'])\n",
    "    best_mean_params_index = tuning_results['Mean'].idxmax(axis=0)\n",
    "\n",
    "    # Get a key from the grid_result dict to access the 'params'\n",
    "    key = grid_result['grid_results'].keys()[0]\n",
    "    \n",
    "    # Return best parameters    \n",
    "    return dict(best_params=grid_result['grid_results'][key]['params'][best_mean_params_index], best_mean_score=best_mean_score)"
   ]
  },
  {
   "cell_type": "code",
   "execution_count": 159,
   "metadata": {},
   "outputs": [],
   "source": [
    "wifi_grid_results = [w_knn, w_rf, w_lda]\n",
    "ble_grid_results = [b_knn, b_rf, b_lda]\n",
    "classifiers = ['knn', 'rf', 'lda']"
   ]
  },
  {
   "cell_type": "code",
   "execution_count": 160,
   "metadata": {},
   "outputs": [
    {
     "name": "stdout",
     "output_type": "stream",
     "text": [
      "knn :  17792.3922579\n",
      "rf :  78.4105529785\n",
      "lda :  17.0793259144\n",
      "knn :  588.389669895\n",
      "rf :  101.951203823\n",
      "lda :  14.065310955\n"
     ]
    }
   ],
   "source": [
    "for result,c in zip(wifi_grid_results, classifiers):\n",
    "    print c, \": \", result['end_time']\n",
    "    \n",
    "for result,c in zip(ble_grid_results, classifiers):\n",
    "    print c, \": \", result['end_time']"
   ]
  },
  {
   "cell_type": "code",
   "execution_count": 161,
   "metadata": {},
   "outputs": [
    {
     "name": "stdout",
     "output_type": "stream",
     "text": [
      "Best performing hyperparameters for Wifi devices:\n",
      "\n",
      "knn: {'n_neighbors': 9}     0.998520117677\n",
      "rf: {'max_features': 8}     0.999548723989\n",
      "lda: {'n_components': 1}     0.998712625449\n",
      "\n",
      "\n",
      "\n",
      "Best performing hyperparameters for BLE devices:\n",
      "\n",
      "knn: {'n_neighbors': 3}     0.973305152936\n",
      "rf: {'max_features': 14}     0.998289121573\n",
      "lda: {'n_components': 1}     0.979018881822\n"
     ]
    }
   ],
   "source": [
    "print \"Best performing hyperparameters for Wifi devices:\\n\"\n",
    "for result, classifier in zip(wifi_grid_results,classifiers):\n",
    "    x = find_best_params(result, [\"camera\", \"bulb\", \"plug\"])\n",
    "    print '{classifier}: {best_parameter}     {best_score}'.format(\n",
    "        classifier=classifier, best_parameter=x['best_params'], best_score=x['best_mean_score'])\n",
    "\n",
    "print \"\\n\\n\"\n",
    "print \"Best performing hyperparameters for BLE devices:\\n\"\n",
    "for result, classifier in zip(ble_grid_results,classifiers):\n",
    "    x = find_best_params(result, [\"door\", \"lock\", \"temp\"])\n",
    "    print '{classifier}: {best_parameter}     {best_score}'.format(\n",
    "        classifier=classifier, best_parameter=x['best_params'], best_score=x['best_mean_score'])"
   ]
  }
 ],
 "metadata": {
  "kernelspec": {
   "display_name": "Python 2",
   "language": "python",
   "name": "python2"
  },
  "language_info": {
   "codemirror_mode": {
    "name": "ipython",
    "version": 2
   },
   "file_extension": ".py",
   "mimetype": "text/x-python",
   "name": "python",
   "nbconvert_exporter": "python",
   "pygments_lexer": "ipython2",
   "version": "2.7.15"
  }
 },
 "nbformat": 4,
 "nbformat_minor": 2
}
