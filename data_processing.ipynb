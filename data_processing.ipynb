{
 "cells": [
  {
   "cell_type": "code",
   "execution_count": 1,
   "metadata": {},
   "outputs": [],
   "source": [
    "import helpers\n",
    "import pandas as pd\n",
    "import pyshark\n",
    "import numpy as np\n",
    "import sys, getopt, csv, os, datetime, time, logging"
   ]
  },
  {
   "cell_type": "code",
   "execution_count": 10,
   "metadata": {},
   "outputs": [],
   "source": [
    "# Global Variables\n",
    "ROUTER = '78:d2:94:4d:ab:3e'\n",
    "WIFI_DEVICES = ['ec:1a:59:e4:fd:41', 'ec:1a:59:e4:fa:09',\n",
    "                'ec:1a:59:e5:02:0d', '14:91:82:24:dd:34',\n",
    "                '60:38:e0:ee:7c:e5', '14:91:82:cd:df:3d',\n",
    "                'b4:75:0e:0d:94:65', 'b4:75:0e:0d:33:d5',\n",
    "                '94:10:3e:2b:7a:55', '30:8c:fb:3a:1a:ad',\n",
    "                'd0:73:d5:26:b8:4c', 'd0:73:d5:26:c9:27',\n",
    "                'ac:84:c6:97:7c:cc', 'b0:4e:26:c5:2a:41',\n",
    "                '70:4f:57:f9:e1:b8', ROUTER]\n",
    "\n",
    "DEVICE_TYPE = {'ec:1a:59:e4:fd:41' : 'camera',\n",
    "               'ec:1a:59:e4:fa:09' : 'camera',\n",
    "               'ec:1a:59:e5:02:0d' : 'camera',\n",
    "               '14:91:82:24:dd:34' : 'plug',\n",
    "               '60:38:e0:ee:7c:e5' : 'plug',\n",
    "               '14:91:82:cd:df:3d' : 'plug',\n",
    "               'b4:75:0e:0d:94:65' : 'plug',\n",
    "               'b4:75:0e:0d:33:d5' : 'plug',\n",
    "               '94:10:3e:2b:7a:55' : 'plug',\n",
    "               '30:8c:fb:3a:1a:ad' : 'camera',\n",
    "               'd0:73:d5:26:b8:4c' : 'bulb', \n",
    "               'd0:73:d5:26:c9:27' : 'bulb',\n",
    "               'ac:84:c6:97:7c:cc' : 'camera', \n",
    "               'b0:4e:26:c5:2a:41' : 'bulb',\n",
    "               '70:4f:57:f9:e1:b8' : 'plug'}\n",
    "\n",
    "SRC_DIR = './Source/'\n",
    "DST_DIR = './Destination/'\n",
    "TIMING_PKT_NUMBER = 25000\n",
    "path_name = os.getcwd()\n",
    "DATE = path_name[path_name.rindex('/')+1:]\n",
    "PROC_TIME = \"wifi_processing_time_\" + DATE + \".csv\""
   ]
  },
  {
   "cell_type": "code",
   "execution_count": 3,
   "metadata": {},
   "outputs": [],
   "source": [
    "def parse_packet(pkt, tgt_files_by_src, tgt_files_by_dst):\n",
    "    try:\n",
    "        pkt_dst = pkt.wlan.da\n",
    "        pkt_src = pkt.wlan.sa\n",
    "        \n",
    "        if (pkt_src in WIFI_DEVICES) and (pkt_dst in WIFI_DEVICES):\n",
    "            # Extract features\n",
    "            pkt_time = pkt.frame_info.time_epoch\n",
    "            pkt_len = pkt.length\n",
    "            \n",
    "            output = [pkt_time, pkt_len, pkt_src, pkt_dst]\n",
    "            \n",
    "            csv.writer(tgt_files_by_src[pkt_src]).writerow(output)\n",
    "            csv.writer(tgt_files_by_dst[pkt_dst]).writerow(output)\n",
    "    \n",
    "    except AttributeError:\n",
    "        print \"ignored: \", pkt.number            "
   ]
  },
  {
   "cell_type": "code",
   "execution_count": 4,
   "metadata": {},
   "outputs": [],
   "source": [
    "# Prepare writers\n",
    "pt_file = open(PROC_TIME, 'w')\n",
    "csv.writer(pt_file).writerow([\"Unit\", \"Total Packets Processed\", \"Total Process Time\", \"Average Process Time\"])\n",
    "pt_file.close()\n",
    "\n",
    "# Initialize counters\n",
    "pkt_count = 0\n",
    "total_time_processing = 0\n",
    "total_time_start = time.time()\n",
    "\n",
    "# Initialize dicts for each device\n",
    "tgt_files_by_src = {}\n",
    "tgt_files_by_dst = {}"
   ]
  },
  {
   "cell_type": "code",
   "execution_count": 5,
   "metadata": {},
   "outputs": [
    {
     "name": "stdout",
     "output_type": "stream",
     "text": [
      "Old ./Source deleted\n",
      "Old ./Destination deleted\n"
     ]
    }
   ],
   "source": [
    "# Initialize capture file \n",
    "cap = pyshark.FileCapture('/root/Documents/Thesis/PCAPS/wifi-01.cap', only_summaries=False)\n",
    "\n",
    "# Get time of first packet\n",
    "prev_pkt_time = cap[0].frame_info.time_epoch\n",
    "\n",
    "# Initialize output folders\n",
    "helpers.init_dirs()"
   ]
  },
  {
   "cell_type": "code",
   "execution_count": 6,
   "metadata": {},
   "outputs": [],
   "source": [
    "# Open output files for each Wi-Fi device\n",
    "for device in WIFI_DEVICES:\n",
    "    tgt_files_by_src[device] = open(SRC_DIR + device.replace(':', '.') + \".csv\", 'a')\n",
    "    tgt_files_by_dst[device] = open(DST_DIR + device.replace(':', '.') + \".csv\", 'a')"
   ]
  },
  {
   "cell_type": "code",
   "execution_count": 7,
   "metadata": {},
   "outputs": [],
   "source": [
    "# Go through each packet in capture, and store pertinent packets to csv files\n",
    "for pkt in cap:\n",
    "    pkt_count += 1\n",
    "    \n",
    "    time_start = time.time()\n",
    "    if pkt.highest_layer == 'DATA':\n",
    "        parse_packet(pkt, tgt_files_by_src, tgt_files_by_dst)\n",
    "        total_time_processing += time.time() - time_start\n",
    "\n",
    "total_time = time.time() - total_time_start"
   ]
  },
  {
   "cell_type": "code",
   "execution_count": 8,
   "metadata": {},
   "outputs": [],
   "source": [
    "# Close files\n",
    "for open_file in tgt_files_by_src.values():\n",
    "    open_file.close()\n",
    "\n",
    "for open_file in tgt_files_by_dst.values():\n",
    "    open_file.close()"
   ]
  },
  {
   "cell_type": "code",
   "execution_count": 9,
   "metadata": {},
   "outputs": [
    {
     "name": "stdout",
     "output_type": "stream",
     "text": [
      "Total number of packets processed:  146225\n",
      "Total data processing time:  172.975336075\n",
      "Normalized total processing time per 25k packets:  29.5734888143\n",
      "Total capture file processing time:  1.6935532093\n",
      "Normalized capture file processing time:  0.289545770098\n"
     ]
    }
   ],
   "source": [
    "# Calculate time variables\n",
    "final_time = time.time()\n",
    "normalized_total_time = (TIMING_PKT_NUMBER * total_time) / pkt_count\n",
    "normalized_processing_time = (TIMING_PKT_NUMBER * total_time_processing) / pkt_count\n",
    "\n",
    "# Print time variables\n",
    "print \"Total number of packets processed: \", pkt_count\n",
    "print \"Total data processing time: \", total_time\n",
    "print \"Normalized total processing time per 25k packets: \", normalized_total_time\n",
    "print \"Total capture file processing time: \", total_time_processing\n",
    "print \"Normalized capture file processing time: \", normalized_processing_time\n",
    "\n",
    "# Print out time metrics to csv\n",
    "pt_file = open(PROC_TIME, 'a')\n",
    "csv.writer(pt_file).writerow([\"Packet capture iteration\", pkt_count, total_time_processing, normalized_processing_time])\n",
    "csv.writer(pt_file).writerow([\"Component start and finish time\", total_time_start, final_time, final_time-total_time_start])\n",
    "pt_file.close()"
   ]
  }
 ],
 "metadata": {
  "kernelspec": {
   "display_name": "Python 2",
   "language": "python",
   "name": "python2"
  },
  "language_info": {
   "codemirror_mode": {
    "name": "ipython",
    "version": 2
   },
   "file_extension": ".py",
   "mimetype": "text/x-python",
   "name": "python",
   "nbconvert_exporter": "python",
   "pygments_lexer": "ipython2",
   "version": "2.7.15"
  }
 },
 "nbformat": 4,
 "nbformat_minor": 2
}
