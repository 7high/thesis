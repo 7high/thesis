{
 "cells": [
  {
   "cell_type": "code",
   "execution_count": 1,
   "metadata": {},
   "outputs": [],
   "source": [
    "from Pipeline import WifiPipeline, BLEPipeline\n",
    "import numpy as np\n",
    "import pandas as pd\n",
    "import matplotlib.pyplot as plt\n",
    "import seaborn as sns\n",
    "import random, time\n",
    "\n",
    "from imblearn.over_sampling import RandomOverSampler, SMOTENC\n",
    "from imblearn.under_sampling import RandomUnderSampler\n",
    "from sklearn.ensemble import RandomForestClassifier\n",
    "from sklearn.model_selection import cross_validate\n",
    "from sklearn import metrics\n",
    "\n",
    "import warnings\n",
    "warnings.filterwarnings(\"ignore\", category=UserWarning)"
   ]
  },
  {
   "cell_type": "markdown",
   "metadata": {},
   "source": [
    "# Wi-Fi"
   ]
  },
  {
   "cell_type": "markdown",
   "metadata": {},
   "source": [
    "## Original dataset"
   ]
  },
  {
   "cell_type": "code",
   "execution_count": 8,
   "metadata": {},
   "outputs": [
    {
     "name": "stdout",
     "output_type": "stream",
     "text": [
      "Router     101880\n",
      "Mini        75782\n",
      "Dropcam     45912\n",
      "Kasa        17156\n",
      "Netcam2      3056\n",
      "Netcam3      2961\n",
      "Netcam1      2314\n",
      "Switch2      2204\n",
      "Switch1      1963\n",
      "Switch3      1955\n",
      "Insight      1738\n",
      "Switch4      1504\n",
      "Lifx2         545\n",
      "Lifx1         495\n",
      "TpPlug        366\n",
      "TpBulb        191\n",
      "Name: Name, dtype: int64\n"
     ]
    }
   ],
   "source": [
    "# Create original dataset\n",
    "w = WifiPipeline()\n",
    "df = w.make_dataframe()"
   ]
  },
  {
   "cell_type": "code",
   "execution_count": 43,
   "metadata": {},
   "outputs": [],
   "source": [
    "# Remove router from df\n",
    "df = df[df[\"DeviceType\"]!=\"router\"]\n",
    "\n",
    "# Only resample training set\n",
    "df_train = df[df[\"Set\"]==\"train\"]"
   ]
  },
  {
   "cell_type": "markdown",
   "metadata": {},
   "source": [
    "### Imbalance by DeviceType"
   ]
  },
  {
   "cell_type": "code",
   "execution_count": 224,
   "metadata": {},
   "outputs": [
    {
     "name": "stdout",
     "output_type": "stream",
     "text": [
      "plug      83642\n",
      "camera    51282\n",
      "bulb        686\n",
      "Name: DeviceType, dtype: int64\n",
      "135610\n"
     ]
    }
   ],
   "source": [
    "# Print out numbers\n",
    "print df_train[\"DeviceType\"].value_counts()\n",
    "print len(df_train)"
   ]
  },
  {
   "cell_type": "code",
   "execution_count": 46,
   "metadata": {},
   "outputs": [
    {
     "data": {
      "image/png": "[encoded data removed]",
      "text/plain": [
       "<Figure size 432x288 with 1 Axes>"
      ]
     },
     "metadata": {},
     "output_type": "display_data"
    }
   ],
   "source": [
    "# Create graph of imbalance of original dataset\n",
    "sns.countplot(x=df_train[\"DeviceType\"]);"
   ]
  },
  {
   "cell_type": "markdown",
   "metadata": {},
   "source": [
    "### Imbalance by Name (only for information)"
   ]
  },
  {
   "cell_type": "code",
   "execution_count": 47,
   "metadata": {},
   "outputs": [
    {
     "data": {
      "text/plain": [
       "Mini       75782\n",
       "Dropcam    45912\n",
       "Netcam2     3056\n",
       "Netcam1     2314\n",
       "Switch2     2204\n",
       "Switch1     1963\n",
       "Switch3     1955\n",
       "Insight     1738\n",
       "Lifx1        495\n",
       "TpBulb       191\n",
       "Name: Name, dtype: int64"
      ]
     },
     "execution_count": 47,
     "metadata": {},
     "output_type": "execute_result"
    }
   ],
   "source": [
    "# Print out numbers\n",
    "df_train[\"Name\"].value_counts()"
   ]
  },
  {
   "cell_type": "code",
   "execution_count": 48,
   "metadata": {},
   "outputs": [
    {
     "data": {
      "image/png": "[encoded data removed]",
      "text/plain": [
       "<Figure size 936x360 with 1 Axes>"
      ]
     },
     "metadata": {},
     "output_type": "display_data"
    }
   ],
   "source": [
    "# Create graph of imbalance of original dataset\n",
    "sns.set_style('ticks')\n",
    "fig, ax = plt.subplots()\n",
    "fig.set_size_inches(13, 5)\n",
    "sns.countplot(x=df_train[\"Name\"], \n",
    "              order=sorted(df_train[\"Name\"].value_counts().index));"
   ]
  },
  {
   "cell_type": "markdown",
   "metadata": {},
   "source": [
    "## Create resampled datasets"
   ]
  },
  {
   "cell_type": "code",
   "execution_count": 202,
   "metadata": {},
   "outputs": [],
   "source": [
    "# List variables that do not work with resampling methods\n",
    "dataframe_vars = {'Name', 'SourceAddr', 'Set', 'SubtypeNum'}\n",
    "onehotEncoded_vars = {'Belkin', 'Data', 'Dropcam', \n",
    "                      'Lifi', 'Netgear', 'QoS_Data', \n",
    "                      'QoS_Null', 'Tp-link'}\n",
    "response_vars = {\"DeviceType\",\"bulb\",\"camera\",\"router\",\"plug\"}\n",
    "\n",
    "# Prep X, y\n",
    "y = df_train[\"DeviceType\"]\n",
    "col_drop = response_vars | dataframe_vars | set(['Subtype', 'Vendor'])\n",
    "X = df_train.drop(col_drop, axis=1)"
   ]
  },
  {
   "cell_type": "markdown",
   "metadata": {},
   "source": [
    "### Random Up-sampling"
   ]
  },
  {
   "cell_type": "code",
   "execution_count": 315,
   "metadata": {},
   "outputs": [],
   "source": [
    "rus = RandomOverSampler()\n",
    "X_upsampled, y_upsampled = rus.fit_resample(X, y)"
   ]
  },
  {
   "cell_type": "code",
   "execution_count": 316,
   "metadata": {},
   "outputs": [
    {
     "name": "stdout",
     "output_type": "stream",
     "text": [
      "250926\n"
     ]
    }
   ],
   "source": [
    "print len(X_upsampled)"
   ]
  },
  {
   "cell_type": "markdown",
   "metadata": {},
   "source": [
    "### Random Down-sampling"
   ]
  },
  {
   "cell_type": "code",
   "execution_count": 337,
   "metadata": {},
   "outputs": [],
   "source": [
    "rds = RandomUnderSampler()\n",
    "X_downsampled, y_downsampled = rds.fit_resample(X, y)"
   ]
  },
  {
   "cell_type": "code",
   "execution_count": 339,
   "metadata": {},
   "outputs": [
    {
     "data": {
      "text/plain": [
       "array([['bulb'],\n",
       "       ['bulb'],\n",
       "       ['bulb'],\n",
       "       ...,\n",
       "       ['plug'],\n",
       "       ['plug'],\n",
       "       ['plug']], dtype=object)"
      ]
     },
     "execution_count": 339,
     "metadata": {},
     "output_type": "execute_result"
    }
   ],
   "source": [
    "print len(y_downsampled)"
   ]
  },
  {
   "cell_type": "markdown",
   "metadata": {},
   "source": [
    "### SMOTE"
   ]
  },
  {
   "cell_type": "code",
   "execution_count": 343,
   "metadata": {},
   "outputs": [],
   "source": [
    "# Get indices of categorical variables\n",
    "cat_vars = [X.columns.get_loc('Vendor'), X.columns.get_loc('Subtype')]"
   ]
  },
  {
   "cell_type": "code",
   "execution_count": 344,
   "metadata": {},
   "outputs": [],
   "source": [
    "smote = SMOTENC(categorical_features=cat_vars)\n",
    "X_smote, y_smote = smote.fit_resample(X, y)"
   ]
  },
  {
   "cell_type": "code",
   "execution_count": 207,
   "metadata": {},
   "outputs": [
    {
     "name": "stdout",
     "output_type": "stream",
     "text": [
      "250926\n"
     ]
    }
   ],
   "source": [
    "print len(X_smote)"
   ]
  },
  {
   "cell_type": "markdown",
   "metadata": {},
   "source": [
    "## Evaluate datasets"
   ]
  },
  {
   "cell_type": "code",
   "execution_count": 280,
   "metadata": {},
   "outputs": [],
   "source": [
    "# Random forests\n",
    "rf = RandomForestClassifier()"
   ]
  },
  {
   "cell_type": "code",
   "execution_count": 37,
   "metadata": {},
   "outputs": [],
   "source": [
    "def get_cross_val(rf, X, y):\n",
    "    # Onehot encode DeviceType\n",
    "    y_sample = pd.DataFrame(data=y, columns=['DeviceType'])\n",
    "    deviceType_series = pd.get_dummies(y_sample[\"DeviceType\"])\n",
    "    y_sample = pd.concat([y_sample, deviceType_series], axis=1)\n",
    "    y_sample = y_sample.drop('DeviceType', axis=1)\n",
    "    \n",
    "    # Extract the three classes as positive class\n",
    "    devicetype_list = y_sample.columns.unique()\n",
    "    y_posclasses = [y_sample[devicetype] for devicetype in devicetype_list]\n",
    "    \n",
    "    # Run cross-val\n",
    "    return [cross_validate(rf, X, y_class, scoring='roc_auc',\n",
    "                           cv=10, return_train_score=False) \n",
    "            for y_class in y_posclasses]\n",
    "    "
   ]
  },
  {
   "cell_type": "code",
   "execution_count": 376,
   "metadata": {},
   "outputs": [
    {
     "name": "stdout",
     "output_type": "stream",
     "text": [
      "Index([u'bulb', u'camera', u'plug'], dtype='object')\n"
     ]
    }
   ],
   "source": [
    "scores_original = get_cross_val(rf, X, y)"
   ]
  },
  {
   "cell_type": "code",
   "execution_count": 332,
   "metadata": {},
   "outputs": [],
   "source": [
    "scores_upsampled = get_cross_val(rf, X_upsampled, y_upsampled)"
   ]
  },
  {
   "cell_type": "code",
   "execution_count": 341,
   "metadata": {},
   "outputs": [],
   "source": [
    "scores_downsampled = get_cross_val(rf, X_downsampled, y_downsampled)"
   ]
  },
  {
   "cell_type": "code",
   "execution_count": 345,
   "metadata": {},
   "outputs": [],
   "source": [
    "scores_smote = get_cross_val(rf, X_smote, y_smote)"
   ]
  },
  {
   "cell_type": "markdown",
   "metadata": {},
   "source": [
    "## Find best average AUC"
   ]
  },
  {
   "cell_type": "code",
   "execution_count": 378,
   "metadata": {},
   "outputs": [],
   "source": [
    "scores = [scores_original, scores_upsampled, \n",
    "          scores_downsampled, scores_smote]\n",
    "sample_names = ['Original', 'Upsampled', 'Downsampled', 'SMOTE']"
   ]
  },
  {
   "cell_type": "code",
   "execution_count": 373,
   "metadata": {},
   "outputs": [],
   "source": [
    "device_scores = {}\n",
    "for score,sample in zip(scores,sample_names):\n",
    "    s = [np.mean(score[x]['test_score']) for x in range(0, len(score))]\n",
    "    s.append(np.mean(s))\n",
    "    device_scores[sample] = s"
   ]
  },
  {
   "cell_type": "code",
   "execution_count": 385,
   "metadata": {},
   "outputs": [
    {
     "name": "stdout",
     "output_type": "stream",
     "text": [
      "Downsampled\n",
      "Bulb :  0.9999365280863218\n",
      "Camera :  0.990786572173058\n",
      "Plug :  0.9932208954716424\n",
      "Average :  0.9946479985770074\n",
      "\n",
      "Upsampled\n",
      "Bulb :  1.0\n",
      "Camera :  0.9869620803982941\n",
      "Plug :  0.9915280233264697\n",
      "Average :  0.9928300345749212\n",
      "\n",
      "Original\n",
      "Bulb :  1.0\n",
      "Camera :  0.9451202347596848\n",
      "Plug :  0.9494874303397282\n",
      "Average :  0.9648692216998044\n",
      "\n",
      "SMOTE\n",
      "Bulb :  1.0\n",
      "Camera :  0.9811078776261573\n",
      "Plug :  0.9862963529742628\n",
      "Average :  0.9891347435334733\n",
      "\n"
     ]
    }
   ],
   "source": [
    "score_names = ['Bulb', 'Camera', 'Plug', 'Average']\n",
    "for k,v in device_scores.iteritems():\n",
    "    print k\n",
    "    for i,score in enumerate(v):\n",
    "        print score_names[i], \": \", score\n",
    "    print \"\""
   ]
  },
  {
   "cell_type": "markdown",
   "metadata": {},
   "source": [
    "# BLE"
   ]
  },
  {
   "cell_type": "code",
   "execution_count": 10,
   "metadata": {},
   "outputs": [
    {
     "name": "stdout",
     "output_type": "stream",
     "text": [
      "Old ./BLE_Source deleted\n",
      "Total number of packets processed:  4010153\n",
      "Total data processing time:  4120.18242693\n",
      "Normalized total processing time per 25k packets:  25.6859428239\n",
      "Total capture file processing time:  705.150784492\n",
      "Normalized capture file processing time:  4.39603416935\n",
      "August2    210644\n",
      "Home1       54902\n",
      "Home2       54516\n",
      "Push        30661\n",
      "Kevo        19430\n",
      "August1     15047\n",
      "Weather      8101\n",
      "Room2        7698\n",
      "Room1        7239\n",
      "Door1        6696\n",
      "Door2        3587\n",
      "Name: Name, dtype: int64\n"
     ]
    }
   ],
   "source": [
    "# Create original dataset\n",
    "b = BLEPipeline()\n",
    "b.extract_packet_features(create_master=True)\n",
    "df = b.make_dataframe()"
   ]
  },
  {
   "cell_type": "code",
   "execution_count": 11,
   "metadata": {},
   "outputs": [],
   "source": [
    "# Remove router from df\n",
    "df = df[df[\"DeviceType\"]!=\"router\"]\n",
    "\n",
    "# Only resample training set\n",
    "df_train = df[df[\"Set\"]==\"train\"]"
   ]
  },
  {
   "cell_type": "markdown",
   "metadata": {},
   "source": [
    "### Imbalance by DeviceType"
   ]
  },
  {
   "cell_type": "code",
   "execution_count": 12,
   "metadata": {},
   "outputs": [
    {
     "name": "stdout",
     "output_type": "stream",
     "text": [
      "door    116114\n",
      "temp     46001\n",
      "lock     34477\n",
      "Name: DeviceType, dtype: int64\n",
      "196592\n"
     ]
    }
   ],
   "source": [
    "# Print out numbers\n",
    "print df_train[\"DeviceType\"].value_counts()\n",
    "print len(df_train)"
   ]
  },
  {
   "cell_type": "code",
   "execution_count": 13,
   "metadata": {},
   "outputs": [
    {
     "data": {
      "image/png": "[encoded data removed]",
      "text/plain": [
       "<Figure size 432x288 with 1 Axes>"
      ]
     },
     "metadata": {},
     "output_type": "display_data"
    }
   ],
   "source": [
    "# Create graph of imbalance of original dataset\n",
    "sns.countplot(x=df_train[\"DeviceType\"]);"
   ]
  },
  {
   "cell_type": "markdown",
   "metadata": {},
   "source": [
    "### Imbalance by Name (only for information)"
   ]
  },
  {
   "cell_type": "code",
   "execution_count": 14,
   "metadata": {},
   "outputs": [
    {
     "data": {
      "text/plain": [
       "Home1      54902\n",
       "Home2      54516\n",
       "Push       30661\n",
       "Kevo       19430\n",
       "August1    15047\n",
       "Weather     8101\n",
       "Room1       7239\n",
       "Door1       6696\n",
       "Name: Name, dtype: int64"
      ]
     },
     "execution_count": 14,
     "metadata": {},
     "output_type": "execute_result"
    }
   ],
   "source": [
    "# Print out numbers\n",
    "df_train[\"Name\"].value_counts()"
   ]
  },
  {
   "cell_type": "code",
   "execution_count": 15,
   "metadata": {},
   "outputs": [
    {
     "data": {
      "image/png": "[encoded data removed]",
      "text/plain": [
       "<Figure size 936x360 with 1 Axes>"
      ]
     },
     "metadata": {},
     "output_type": "display_data"
    }
   ],
   "source": [
    "# Create graph of imbalance of original dataset\n",
    "sns.set_style('ticks')\n",
    "fig, ax = plt.subplots()\n",
    "fig.set_size_inches(13, 5)\n",
    "sns.countplot(x=df_train[\"Name\"], \n",
    "              order=sorted(df_train[\"Name\"].value_counts().index));"
   ]
  },
  {
   "cell_type": "markdown",
   "metadata": {},
   "source": [
    "## Create resampled datasets"
   ]
  },
  {
   "cell_type": "code",
   "execution_count": 70,
   "metadata": {},
   "outputs": [],
   "source": [
    "# List variables that do not work with resampling methods\n",
    "dataframe_vars = {'Name', 'DeviceName', 'Set', \n",
    "                  'AccessAddr', 'AdvertAddr','PDUTypeNum'}\n",
    "onehotEncoded_vars = {'ADV_DIRECT_IND', 'ADV_IND', \n",
    "                      'ADV_NONCONN_IND', 'ADV_SCAN_IND', \n",
    "                      'CONNECT_REQ', 'SCAN_REQ', 'SCAN_RSP'}\n",
    "response_vars = {\"DeviceType\",\"door\",\"lock\",\"temp\"}\n",
    "\n",
    "# Prep X, y\n",
    "y = df_train[\"DeviceType\"]\n",
    "col_drop = response_vars | dataframe_vars | onehotEncoded_vars\n",
    "X = df_train.drop(col_drop, axis=1)"
   ]
  },
  {
   "cell_type": "code",
   "execution_count": 119,
   "metadata": {},
   "outputs": [
    {
     "data": {
      "text/plain": [
       "Index([u'BLE_LL_Length', u'RFChannel', u'PacketLength', u'Time', u'PDUType',\n",
       "       u'Assoc_Packets'],\n",
       "      dtype='object')"
      ]
     },
     "execution_count": 119,
     "metadata": {},
     "output_type": "execute_result"
    }
   ],
   "source": [
    "X.columns"
   ]
  },
  {
   "cell_type": "markdown",
   "metadata": {},
   "source": [
    "### Random Up-sampling"
   ]
  },
  {
   "cell_type": "code",
   "execution_count": 72,
   "metadata": {},
   "outputs": [],
   "source": [
    "rus = RandomOverSampler()\n",
    "X_upsampled, y_upsampled = rus.fit_resample(X, y)"
   ]
  },
  {
   "cell_type": "code",
   "execution_count": 73,
   "metadata": {},
   "outputs": [
    {
     "name": "stdout",
     "output_type": "stream",
     "text": [
      "348342\n"
     ]
    }
   ],
   "source": [
    "print len(X_upsampled)"
   ]
  },
  {
   "cell_type": "markdown",
   "metadata": {},
   "source": [
    "### Random Down-sampling"
   ]
  },
  {
   "cell_type": "code",
   "execution_count": 74,
   "metadata": {},
   "outputs": [],
   "source": [
    "rds = RandomUnderSampler()\n",
    "X_downsampled, y_downsampled = rds.fit_resample(X, y)"
   ]
  },
  {
   "cell_type": "code",
   "execution_count": 75,
   "metadata": {},
   "outputs": [
    {
     "name": "stdout",
     "output_type": "stream",
     "text": [
      "103431\n"
     ]
    }
   ],
   "source": [
    "print len(X_downsampled)"
   ]
  },
  {
   "cell_type": "markdown",
   "metadata": {},
   "source": [
    "### SMOTE"
   ]
  },
  {
   "cell_type": "code",
   "execution_count": 77,
   "metadata": {},
   "outputs": [
    {
     "data": {
      "text/plain": [
       "[1, 4]"
      ]
     },
     "execution_count": 77,
     "metadata": {},
     "output_type": "execute_result"
    }
   ],
   "source": [
    "# Get indices of categorical variables\n",
    "cat_vars = [X.columns.get_loc('RFChannel'), X.columns.get_loc('PDUType')]\n",
    "cat_vars"
   ]
  },
  {
   "cell_type": "code",
   "execution_count": 78,
   "metadata": {},
   "outputs": [],
   "source": [
    "smote = SMOTENC(categorical_features=cat_vars)\n",
    "X_smote, y_smote = smote.fit_resample(X, y)"
   ]
  },
  {
   "cell_type": "code",
   "execution_count": 79,
   "metadata": {},
   "outputs": [
    {
     "name": "stdout",
     "output_type": "stream",
     "text": [
      "348342\n"
     ]
    }
   ],
   "source": [
    "print len(X_smote)"
   ]
  },
  {
   "cell_type": "markdown",
   "metadata": {},
   "source": [
    "## Evaluate datasets"
   ]
  },
  {
   "cell_type": "code",
   "execution_count": 85,
   "metadata": {},
   "outputs": [],
   "source": [
    "# Random forests\n",
    "rf = RandomForestClassifier()"
   ]
  },
  {
   "cell_type": "code",
   "execution_count": 124,
   "metadata": {},
   "outputs": [],
   "source": [
    "def ble_get_cross_val(rf, X, y):\n",
    "    # Onehot encode DeviceType\n",
    "    y_sample = pd.DataFrame(data=y, columns=['DeviceType'])\n",
    "    deviceType_series = pd.get_dummies(y_sample[\"DeviceType\"])\n",
    "    y_sample = pd.concat([y_sample, deviceType_series], axis=1)\n",
    "    y_sample = y_sample.drop('DeviceType', axis=1)\n",
    "    \n",
    "    # Onehot encode RFChannel and PDUType\n",
    "    X = pd.DataFrame(data=X, \n",
    "                     columns=['BLE_LL_Length', \n",
    "                              'RFChannel', 'PacketLength', \n",
    "                              'Time', 'PDUType','Assoc_Packets'])\n",
    "    rfchannel_series = pd.get_dummies(X[\"RFChannel\"])\n",
    "    pdutype_series = pd.get_dummies(X[\"PDUType\"])\n",
    "    X = pd.concat([X, rfchannel_series, pdutype_series], axis=1)\n",
    "    X = X.drop(['RFChannel','PDUType'], axis=1)\n",
    "    \n",
    "    # Extract the three classes as positive class\n",
    "    devicetype_list = y_sample.columns.unique()\n",
    "    y_posclasses = [y_sample[devicetype] for devicetype in devicetype_list]\n",
    "    \n",
    "    # Run cross-val\n",
    "    return [cross_validate(rf, X, y_class, scoring='roc_auc', \n",
    "                           cv=10, return_train_score=False) \n",
    "            for y_class in y_posclasses]\n",
    "    "
   ]
  },
  {
   "cell_type": "code",
   "execution_count": 125,
   "metadata": {
    "scrolled": false
   },
   "outputs": [],
   "source": [
    "ble_scores_original = ble_get_cross_val(rf, X, y)"
   ]
  },
  {
   "cell_type": "code",
   "execution_count": 111,
   "metadata": {
    "scrolled": false
   },
   "outputs": [],
   "source": [
    "ble_scores_upsampled = ble_get_cross_val(rf, X_upsampled, y_upsampled)"
   ]
  },
  {
   "cell_type": "code",
   "execution_count": 112,
   "metadata": {},
   "outputs": [],
   "source": [
    "ble_scores_downsampled = ble_get_cross_val(rf, X_downsampled, y_downsampled)"
   ]
  },
  {
   "cell_type": "code",
   "execution_count": 113,
   "metadata": {},
   "outputs": [],
   "source": [
    "ble_scores_smote = ble_get_cross_val(rf, X_smote, y_smote)"
   ]
  },
  {
   "cell_type": "markdown",
   "metadata": {},
   "source": [
    "## Find best average AUC"
   ]
  },
  {
   "cell_type": "code",
   "execution_count": 116,
   "metadata": {},
   "outputs": [],
   "source": [
    "ble_scores = [ble_scores_original, ble_scores_upsampled, \n",
    "              ble_scores_downsampled, ble_scores_smote]\n",
    "sample_names = ['Original', 'Upsampled', 'Downsampled', 'SMOTE']"
   ]
  },
  {
   "cell_type": "code",
   "execution_count": 117,
   "metadata": {},
   "outputs": [],
   "source": [
    "ble_device_scores = {}\n",
    "for score,sample in zip(ble_scores,sample_names):\n",
    "    s = [np.mean(score[x]['test_score']) for x in range(0, len(score))]\n",
    "    s.append(np.mean(s))\n",
    "    ble_device_scores[sample] = s"
   ]
  },
  {
   "cell_type": "code",
   "execution_count": 126,
   "metadata": {},
   "outputs": [
    {
     "name": "stdout",
     "output_type": "stream",
     "text": [
      "Downsampled\n",
      "Door :  0.9916639889102734\n",
      "Lock :  0.999911798475855\n",
      "Temp :  0.9970958424565957\n",
      "Average :  0.9962238766142413\n",
      "\n",
      "Upsampled\n",
      "Door :  0.9708653280353478\n",
      "Lock :  0.99999129420772\n",
      "Temp :  0.9854206180372772\n",
      "Average :  0.985425746760115\n",
      "\n",
      "Original\n",
      "Door :  0.8928115981592329\n",
      "Lock :  0.999880089449217\n",
      "Temp :  0.9202294313035818\n",
      "Average :  0.9376403729706771\n",
      "\n",
      "SMOTE\n",
      "Door :  0.9708287717684806\n",
      "Lock :  0.9999245722814207\n",
      "Temp :  0.9850336204031054\n",
      "Average :  0.9852623214843356\n",
      "\n"
     ]
    }
   ],
   "source": [
    "score_names = ['Door', 'Lock', 'Temp', 'Average']\n",
    "for k,v in ble_device_scores.iteritems():\n",
    "    print k\n",
    "    for i,score in enumerate(v):\n",
    "        print score_names[i], \": \", score\n",
    "    print \"\""
   ]
  }
 ],
 "metadata": {
  "kernelspec": {
   "display_name": "Python 2",
   "language": "python",
   "name": "python2"
  },
  "language_info": {
   "codemirror_mode": {
    "name": "ipython",
    "version": 2
   },
   "file_extension": ".py",
   "mimetype": "text/x-python",
   "name": "python",
   "nbconvert_exporter": "python",
   "pygments_lexer": "ipython2",
   "version": "2.7.15"
  }
 },
 "nbformat": 4,
 "nbformat_minor": 2
}
