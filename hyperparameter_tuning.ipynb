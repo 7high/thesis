{
 "cells": [
  {
   "cell_type": "code",
   "execution_count": 1,
   "metadata": {},
   "outputs": [],
   "source": [
    "from Pipeline import BLEPipeline, WifiPipeline\n",
    "import numpy as np\n",
    "import pandas as pd\n",
    "import matplotlib.pyplot as plt\n",
    "import seaborn as sns\n",
    "import random, time\n",
    "\n",
    "from itertools import izip, combinations\n",
    "\n",
    "import warnings\n",
    "warnings.filterwarnings(\"ignore\", category=UserWarning)\n",
    "warnings.filterwarnings(\"ignore\", category=DeprecationWarning)\n",
    "\n",
    "from imblearn.under_sampling import RandomUnderSampler\n",
    "\n",
    "# Plot ROC\n",
    "from sklearn.metrics import roc_curve, roc_auc_score\n",
    "import scikitplot as skplt\n",
    "\n",
    "# Tuning \n",
    "from sklearn.discriminant_analysis import LinearDiscriminantAnalysis\n",
    "from sklearn.ensemble import RandomForestClassifier\n",
    "from sklearn.neighbors import KNeighborsClassifier\n",
    "from sklearn.model_selection import GridSearchCV, KFold, cross_val_score"
   ]
  },
  {
   "cell_type": "markdown",
   "metadata": {},
   "source": [
    "## Wi-Fi"
   ]
  },
  {
   "cell_type": "code",
   "execution_count": 2,
   "metadata": {},
   "outputs": [],
   "source": [
    "w = WifiPipeline()"
   ]
  },
  {
   "cell_type": "code",
   "execution_count": 3,
   "metadata": {},
   "outputs": [
    {
     "name": "stdout",
     "output_type": "stream",
     "text": [
      "Router     101880\n",
      "Mini        75782\n",
      "Dropcam     45912\n",
      "Kasa        17156\n",
      "Netcam2      3056\n",
      "Netcam3      2961\n",
      "Netcam1      2314\n",
      "Switch2      2204\n",
      "Switch1      1963\n",
      "Switch3      1955\n",
      "Insight      1738\n",
      "Switch4      1504\n",
      "Lifx2         545\n",
      "Lifx1         495\n",
      "TpPlug        366\n",
      "TpBulb        191\n",
      "Name: Name, dtype: int64\n"
     ]
    }
   ],
   "source": [
    "df = w.make_dataframe()"
   ]
  },
  {
   "cell_type": "code",
   "execution_count": 4,
   "metadata": {},
   "outputs": [],
   "source": [
    "df_train = df[df[\"Set\"]==\"train\"]\n",
    "df_test = df[df[\"Set\"]==\"test\"]"
   ]
  },
  {
   "cell_type": "markdown",
   "metadata": {},
   "source": [
    "### Down-sampling"
   ]
  },
  {
   "cell_type": "code",
   "execution_count": 5,
   "metadata": {},
   "outputs": [],
   "source": [
    "# List variables that do not work with resampling methods\n",
    "dataframe_vars = {'Name', 'SourceAddr', 'Set', 'SubtypeNum'}\n",
    "onehotEncoded_vars = {'Belkin', 'Data', 'Dropcam', \n",
    "                      'Lifi', 'Netgear', 'QoS_Data', 'QoS_Null', 'Tp-link'}\n",
    "response_vars = {\"DeviceType\",\"bulb\",\"camera\",\"router\",\"plug\"}\n",
    "\n",
    "# Prep X, y\n",
    "y = df_train[\"DeviceType\"]\n",
    "col_drop = response_vars | dataframe_vars | set(['Subtype', 'Vendor'])\n",
    "X = df_train.drop(col_drop, axis=1)"
   ]
  },
  {
   "cell_type": "code",
   "execution_count": 6,
   "metadata": {},
   "outputs": [],
   "source": [
    "rds = RandomUnderSampler()\n",
    "X_downsampled, y_downsampled = rds.fit_resample(X, y)"
   ]
  },
  {
   "cell_type": "code",
   "execution_count": 7,
   "metadata": {},
   "outputs": [],
   "source": [
    "# Recreate dataframe\n",
    "X_downsampled = pd.DataFrame(data=X_downsampled, columns=X.columns)\n",
    "y_downsampled = pd.DataFrame(data=y_downsampled, columns=['DeviceType'])\n",
    "\n",
    "# Onehot encode 'DeviceType'\n",
    "devicetype_series = pd.get_dummies(y_downsampled['DeviceType'])\n",
    "y_downsampled = pd.concat([y_downsampled, devicetype_series], axis=1)\n",
    "y_downsampled = y_downsampled.drop(['DeviceType'],axis=1)\n",
    "\n",
    "# Combine X and y into one dataframe\n",
    "df_train_downsampled = pd.concat([X_downsampled, y_downsampled], axis=1)"
   ]
  },
  {
   "cell_type": "markdown",
   "metadata": {},
   "source": [
    "### Hyperparameter tuning"
   ]
  },
  {
   "cell_type": "code",
   "execution_count": 8,
   "metadata": {},
   "outputs": [],
   "source": [
    "def tune_gridsearch(classifier, param_grid, df_train, features_list, y_list):\n",
    "    start_time = time.time()\n",
    "    \n",
    "    X_train = df_train[features_list]\n",
    "    \n",
    "    grid = GridSearchCV(estimator=classifier, scoring='roc_auc', \n",
    "                        param_grid=param_grid, cv=10)\n",
    "    grid_results = dict()\n",
    "    \n",
    "    for device in y_list:\n",
    "        # Adjust y_train, y_test\n",
    "        y_train = df_train[device]\n",
    "\n",
    "        grid_result = grid.fit(X_train, y_train)\n",
    "        grid_results[device] = grid_result.cv_results_\n",
    "\n",
    "    end_time = time.time() -start_time\n",
    "    \n",
    "    return dict(end_time=end_time, grid_results=grid_results)"
   ]
  },
  {
   "cell_type": "code",
   "execution_count": 9,
   "metadata": {},
   "outputs": [],
   "source": [
    "# Wifi: Define which features to use\n",
    "features_list = [\n",
    "        # Packet info\n",
    "        \"PacketLength\", \n",
    "        \n",
    "        # Vendor \n",
    "         \"Belkin\", \"Dropcam\", \"Lifi\", \"Netgear\", \"Tp-link\",\n",
    "    \n",
    "        # 802.11 Data subtype\n",
    "        \"Data\", \"QoS_Data\", \"QoS_Null\",\n",
    "\n",
    "        # Associated Packets\n",
    "        \"Assoc_Packets\"]\n",
    "\n",
    "# Define what the response classes are\n",
    "y_list = [\"camera\", \"bulb\", \"plug\"]"
   ]
  },
  {
   "cell_type": "code",
   "execution_count": 10,
   "metadata": {},
   "outputs": [],
   "source": [
    "# Define grid values\n",
    "# KNN\n",
    "n_neighbors = np.arange(1,11,2)\n",
    "knn_param_grid = dict(n_neighbors=n_neighbors)\n",
    "\n",
    "# RF\n",
    "max_features = np.linspace(2, len(features_list), num=5, dtype=int)\n",
    "rf_param_grid = dict(max_features=max_features)\n",
    "\n",
    "# LDA\n",
    "n_components = np.arange(1,4)\n",
    "lda_param_grid = dict(n_components=n_components)"
   ]
  },
  {
   "cell_type": "code",
   "execution_count": 11,
   "metadata": {},
   "outputs": [
    {
     "name": "stdout",
     "output_type": "stream",
     "text": [
      "n_neighbors: [1 3 5 7 9]\n",
      "max_features [ 2  4  6  8 10]\n",
      "n_components [1 2 3]\n"
     ]
    }
   ],
   "source": [
    "print \"n_neighbors:\", n_neighbors\n",
    "print \"max_features\", max_features\n",
    "print \"n_components\", n_components"
   ]
  },
  {
   "cell_type": "code",
   "execution_count": 12,
   "metadata": {},
   "outputs": [],
   "source": [
    "# Set up classifiers\n",
    "knn = KNeighborsClassifier()\n",
    "rf = RandomForestClassifier()\n",
    "lda = LinearDiscriminantAnalysis()"
   ]
  },
  {
   "cell_type": "code",
   "execution_count": 13,
   "metadata": {},
   "outputs": [
    {
     "data": {
      "text/plain": [
       "Index([u'Time', u'PacketLength', u'Belkin', u'Dropcam', u'Lifi', u'Netgear',\n",
       "       u'Tp-link', u'Data', u'QoS_Data', u'QoS_Null', u'Assoc_Packets',\n",
       "       u'bulb', u'camera', u'plug'],\n",
       "      dtype='object')"
      ]
     },
     "execution_count": 13,
     "metadata": {},
     "output_type": "execute_result"
    }
   ],
   "source": [
    "df_train_downsampled.columns"
   ]
  },
  {
   "cell_type": "code",
   "execution_count": 14,
   "metadata": {
    "scrolled": true
   },
   "outputs": [
    {
     "name": "stderr",
     "output_type": "stream",
     "text": [
      "/root/anaconda2/lib/python2.7/site-packages/sklearn/ensemble/forest.py:246: FutureWarning: The default value of n_estimators will change from 10 in version 0.20 to 100 in 0.22.\n",
      "  \"10 in version 0.20 to 100 in 0.22.\", FutureWarning)\n"
     ]
    }
   ],
   "source": [
    "w_knn = tune_gridsearch(knn, knn_param_grid, df_train_downsampled, \n",
    "                        features_list, y_list)\n",
    "w_rf = tune_gridsearch(rf, rf_param_grid, df_train_downsampled, \n",
    "                       features_list, y_list)\n",
    "w_lda = tune_gridsearch(lda, lda_param_grid, df_train_downsampled, \n",
    "                        features_list, y_list)"
   ]
  },
  {
   "cell_type": "markdown",
   "metadata": {},
   "source": [
    "## BLE"
   ]
  },
  {
   "cell_type": "code",
   "execution_count": 15,
   "metadata": {},
   "outputs": [],
   "source": [
    "b = BLEPipeline()"
   ]
  },
  {
   "cell_type": "markdown",
   "metadata": {},
   "source": [
    "### Dataframe Creation and Resampling"
   ]
  },
  {
   "cell_type": "code",
   "execution_count": 16,
   "metadata": {},
   "outputs": [
    {
     "name": "stdout",
     "output_type": "stream",
     "text": [
      "August2    210644\n",
      "Home1       54902\n",
      "Home2       54516\n",
      "Push        30661\n",
      "Kevo        19430\n",
      "August1     15047\n",
      "Weather      8101\n",
      "Room2        7698\n",
      "Room1        7239\n",
      "Door1        6696\n",
      "Door2        3587\n",
      "Name: Name, dtype: int64\n"
     ]
    }
   ],
   "source": [
    "df = b.make_dataframe()"
   ]
  },
  {
   "cell_type": "code",
   "execution_count": 17,
   "metadata": {},
   "outputs": [],
   "source": [
    "df_train = df[df[\"Set\"]==\"train\"]\n",
    "df_test = df[df[\"Set\"]==\"test\"]"
   ]
  },
  {
   "cell_type": "markdown",
   "metadata": {},
   "source": [
    "### Down-sampling"
   ]
  },
  {
   "cell_type": "code",
   "execution_count": 18,
   "metadata": {},
   "outputs": [],
   "source": [
    "# List variables that do not work with resampling methods\n",
    "dataframe_vars = {'Name', 'DeviceName', 'Set', 'AccessAddr', \n",
    "                  'AdvertAddr','PDUTypeNum'}\n",
    "onehotEncoded_vars = {'ADV_DIRECT_IND', 'ADV_IND', 'ADV_NONCONN_IND', \n",
    "                      'ADV_SCAN_IND', 'CONNECT_REQ', 'SCAN_REQ', 'SCAN_RSP'}\n",
    "response_vars = {\"DeviceType\",\"door\",\"lock\",\"temp\"}\n",
    "\n",
    "# Prep X, y\n",
    "y = df_train[\"DeviceType\"]\n",
    "col_drop = response_vars | dataframe_vars | onehotEncoded_vars\n",
    "X = df_train.drop(col_drop, axis=1)"
   ]
  },
  {
   "cell_type": "code",
   "execution_count": 19,
   "metadata": {},
   "outputs": [],
   "source": [
    "rds = RandomUnderSampler()\n",
    "X_downsampled, y_downsampled = rds.fit_resample(X, y)"
   ]
  },
  {
   "cell_type": "code",
   "execution_count": 20,
   "metadata": {},
   "outputs": [],
   "source": [
    "# Onehot encode RFChannel and PDUType\n",
    "X_downsampled = pd.DataFrame(data=X_downsampled, \n",
    "                             columns=['BLE_LL_Length', 'RFChannel', \n",
    "                                      'PacketLength', 'Time', 'PDUType',\n",
    "                                      'Assoc_Packets'])\n",
    "rfchannel_series = pd.get_dummies(X_downsampled[\"RFChannel\"])\n",
    "pdutype_series = pd.get_dummies(X_downsampled[\"PDUType\"])\n",
    "X_downsampled = pd.concat([X_downsampled, rfchannel_series, pdutype_series], \n",
    "                          axis=1)\n",
    "X_downsampled = X_downsampled.drop(['RFChannel','PDUType'], axis=1)\n",
    "\n",
    "# Onehot encode 'DeviceType'\n",
    "y_downsampled = pd.DataFrame(data=y_downsampled, columns=['DeviceType'])\n",
    "devicetype_series = pd.get_dummies(y_downsampled['DeviceType'])\n",
    "y_downsampled = pd.concat([y_downsampled, devicetype_series], axis=1)\n",
    "y_downsampled = y_downsampled.drop(['DeviceType'],axis=1)\n",
    "\n",
    "# Combine X and y into one dataframe\n",
    "df_train_downsampled = pd.concat([X_downsampled, y_downsampled], axis=1)"
   ]
  },
  {
   "cell_type": "markdown",
   "metadata": {},
   "source": [
    "### Hyperparameter tuning"
   ]
  },
  {
   "cell_type": "code",
   "execution_count": 21,
   "metadata": {},
   "outputs": [],
   "source": [
    "# Define grid values\n",
    "# KNN\n",
    "n_neighbors = np.arange(1,11,2)\n",
    "\n",
    "knn_param_grid = dict(n_neighbors=n_neighbors)\n",
    "\n",
    "# RF\n",
    "max_features = np.linspace(2, len(X_downsampled.columns), num=5, dtype=int)\n",
    "rf_param_grid = dict(max_features=max_features)\n",
    "\n",
    "# LDA\n",
    "n_components = np.arange(1,4)\n",
    "lda_param_grid = dict(n_components=n_components)"
   ]
  },
  {
   "cell_type": "code",
   "execution_count": 22,
   "metadata": {},
   "outputs": [
    {
     "name": "stdout",
     "output_type": "stream",
     "text": [
      "n_neighbors: [1 3 5 7 9]\n",
      "max_features [ 2  4  7 10 13]\n",
      "n_components [1 2 3]\n"
     ]
    }
   ],
   "source": [
    "print \"n_neighbors:\", n_neighbors\n",
    "print \"max_features\", max_features\n",
    "print \"n_components\", n_components"
   ]
  },
  {
   "cell_type": "code",
   "execution_count": 23,
   "metadata": {},
   "outputs": [],
   "source": [
    "# Set up classifiers\n",
    "knn = KNeighborsClassifier()\n",
    "rf = RandomForestClassifier()\n",
    "lda = LinearDiscriminantAnalysis()"
   ]
  },
  {
   "cell_type": "code",
   "execution_count": 24,
   "metadata": {
    "scrolled": false
   },
   "outputs": [],
   "source": [
    "b_knn = tune_gridsearch(knn, knn_param_grid, df_train_downsampled, \n",
    "                        X_downsampled.columns, y_downsampled.columns)\n",
    "b_rf = tune_gridsearch(rf, rf_param_grid, df_train_downsampled, \n",
    "                       X_downsampled.columns, y_downsampled.columns)\n",
    "b_lda = tune_gridsearch(lda, lda_param_grid, df_train_downsampled, \n",
    "                        X_downsampled.columns, y_downsampled.columns)"
   ]
  },
  {
   "cell_type": "markdown",
   "metadata": {},
   "source": [
    "# Find best hyperparameters"
   ]
  },
  {
   "cell_type": "code",
   "execution_count": 25,
   "metadata": {},
   "outputs": [],
   "source": [
    "# Find best performing hyperparameter across all device types\n",
    "def find_best_params(grid_result, labels, print_tuning=False):\n",
    "    # Get list of all test scores for each device\n",
    "    mean_test_scores = [val['mean_test_score'] for key,val \n",
    "                        in grid_result['grid_results'].items()]\n",
    "\n",
    "    # Store into dataframe\n",
    "    tuning_results = (pd.DataFrame(data=mean_test_scores, index=labels)).T\n",
    "\n",
    "    # Calculate mean test score across all devices\n",
    "    tuning_results['Mean'] = tuning_results.mean(axis=1)\n",
    "    \n",
    "    if print_tuning:\n",
    "        print tuning_results\n",
    "        \n",
    "    # Find best mean test score\n",
    "    best_mean_score = max(tuning_results['Mean'])\n",
    "    best_mean_params_index = tuning_results['Mean'].idxmax(axis=0)\n",
    "\n",
    "    # Get a key from the grid_result dict to access the 'params'\n",
    "    key = grid_result['grid_results'].keys()[0]\n",
    "    \n",
    "    # Return best parameters    \n",
    "    return dict(best_params=grid_result['grid_results'][key]\n",
    "                ['params'][best_mean_params_index], \n",
    "                best_mean_score=best_mean_score)"
   ]
  },
  {
   "cell_type": "code",
   "execution_count": 26,
   "metadata": {},
   "outputs": [
    {
     "name": "stdout",
     "output_type": "stream",
     "text": [
      "Best performing hyperparameters for Wifi devices:\n",
      "\n",
      "knn: {'n_neighbors': 9}     0.99537578717\n",
      "rf: {'max_features': 2}     0.998265675853\n",
      "lda: {'n_components': 1}     0.99776223804\n"
     ]
    }
   ],
   "source": [
    "wifi_grid_results = [w_knn, w_rf, w_lda]\n",
    "classifiers = ['knn', 'rf', 'lda']\n",
    "\n",
    "print \"Best performing hyperparameters for Wifi devices:\\n\"\n",
    "for result, classifier in zip(wifi_grid_results,classifiers):\n",
    "    x = find_best_params(result, [\"camera\", \"bulb\", \"plug\"])\n",
    "    print '{classifier}: {best_parameter}     {best_score}'.format(\n",
    "        classifier=classifier, best_parameter=x['best_params'], \n",
    "        best_score=x['best_mean_score'])\n"
   ]
  },
  {
   "cell_type": "code",
   "execution_count": 27,
   "metadata": {},
   "outputs": [
    {
     "name": "stdout",
     "output_type": "stream",
     "text": [
      "Best performing hyperparameters for BLE devices:\n",
      "\n",
      "knn: {'n_neighbors': 1}     0.683766231398\n",
      "rf: {'max_features': 7}     0.997422339109\n",
      "lda: {'n_components': 1}     0.845398236349\n"
     ]
    }
   ],
   "source": [
    "ble_grid_results = [b_knn, b_rf, b_lda]\n",
    "classifiers = ['knn', 'rf', 'lda']\n",
    "print \"Best performing hyperparameters for BLE devices:\\n\"\n",
    "for result, classifier in zip(ble_grid_results,classifiers):\n",
    "    x = find_best_params(result, [\"door\", \"lock\", \"temp\"])\n",
    "    print '{classifier}: {best_parameter}     {best_score}'.format(\n",
    "        classifier=classifier, best_parameter=x['best_params'], \n",
    "        best_score=x['best_mean_score'])"
   ]
  }
 ],
 "metadata": {
  "kernelspec": {
   "display_name": "Python 2",
   "language": "python",
   "name": "python2"
  },
  "language_info": {
   "codemirror_mode": {
    "name": "ipython",
    "version": 2
   },
   "file_extension": ".py",
   "mimetype": "text/x-python",
   "name": "python",
   "nbconvert_exporter": "python",
   "pygments_lexer": "ipython2",
   "version": "2.7.15"
  }
 },
 "nbformat": 4,
 "nbformat_minor": 2
}
