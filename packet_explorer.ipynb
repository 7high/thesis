{
 "cells": [
  {
   "cell_type": "code",
   "execution_count": 11,
   "metadata": {},
   "outputs": [],
   "source": [
    "import pyshark\n",
    "import glob, os\n",
    "import numpy as np\n",
    "import pandas as pd\n",
    "import itertools\n",
    "import time\n",
    "from collections import Counter"
   ]
  },
  {
   "cell_type": "code",
   "execution_count": 2,
   "metadata": {},
   "outputs": [],
   "source": [
    "# Global Variables\n",
    "ROUTER = '78:d2:94:4d:ab:3e'\n",
    "WIFI_DEVICES = ['ec:1a:59:e4:fd:41', 'ec:1a:59:e4:fa:09',\n",
    "                'ec:1a:59:e5:02:0d', '14:91:82:24:dd:35',\n",
    "                '60:38:e0:ee:7c:e5', '14:91:82:cd:df:3d',\n",
    "                'b4:75:0e:0d:94:65', 'b4:75:0e:0d:33:d5',\n",
    "                '94:10:3e:2b:7a:55', '30:8c:fb:3a:1a:ad',\n",
    "                'd0:73:d5:26:b8:4c', 'd0:73:d5:26:c9:27',\n",
    "                'ac:84:c6:97:7c:cc', 'b0:4e:26:c5:2a:41',\n",
    "                '70:4f:57:f9:e1:b8', ROUTER]\n",
    "\n",
    "DEVICE_TYPE = {'ec:1a:59:e4:fd:41' : 'camera',\n",
    "               'ec:1a:59:e4:fa:09' : 'camera',\n",
    "               'ec:1a:59:e5:02:0d' : 'camera',\n",
    "               '14:91:82:24:dd:35' : 'plug',\n",
    "               '60:38:e0:ee:7c:e5' : 'plug',\n",
    "               '14:91:82:cd:df:3d' : 'plug',\n",
    "               'b4:75:0e:0d:94:65' : 'plug',\n",
    "               'b4:75:0e:0d:33:d5' : 'plug',\n",
    "               '94:10:3e:2b:7a:55' : 'plug',\n",
    "               '30:8c:fb:3a:1a:ad' : 'camera',\n",
    "               'd0:73:d5:26:b8:4c' : 'bulb', \n",
    "               'd0:73:d5:26:c9:27' : 'bulb',\n",
    "               'ac:84:c6:97:7c:cc' : 'camera', \n",
    "               'b0:4e:26:c5:2a:41' : 'bulb',\n",
    "               '70:4f:57:f9:e1:b8' : 'plug',\n",
    "                ROUTER : 'router'}\n",
    "\n",
    "DEVICE_NAME = {'ec:1a:59:e4:fd:41' : 'Netcam1', \n",
    "               'ec:1a:59:e4:fa:09' : 'Netcam2',\n",
    "               'ec:1a:59:e5:02:0d' : 'Netcam3',\n",
    "               '14:91:82:24:dd:35' : 'Insight',\n",
    "               '60:38:e0:ee:7c:e5' : 'Mini',\n",
    "               '14:91:82:cd:df:3d' : 'Switch1',\n",
    "               'b4:75:0e:0d:94:65' : 'Switch2',\n",
    "               'b4:75:0e:0d:33:d5' : 'Switch3',\n",
    "               '94:10:3e:2b:7a:55' : 'Switch4',\n",
    "               '30:8c:fb:3a:1a:ad' : 'Dropcam',\n",
    "               'd0:73:d5:26:b8:4c' : 'Lifx1', \n",
    "               'd0:73:d5:26:c9:27' : 'Lifx2',\n",
    "               'ac:84:c6:97:7c:cc' : 'Kasa', \n",
    "               'b0:4e:26:c5:2a:41' : 'TpBulb',\n",
    "               '70:4f:57:f9:e1:b8' : 'TpPlug',\n",
    "                ROUTER : 'Router'}\n",
    "\n",
    "TRAINING_TEST = {'ec:1a:59:e4:fd:41' : 'train', \n",
    "                 'ec:1a:59:e4:fa:09' : 'train',\n",
    "                 'ec:1a:59:e5:02:0d' : 'test',\n",
    "                 '14:91:82:24:dd:35' : 'train',\n",
    "                 '60:38:e0:ee:7c:e5' : 'train',\n",
    "                 '14:91:82:cd:df:3d' : 'train',\n",
    "                 'b4:75:0e:0d:94:65' : 'train',\n",
    "                 'b4:75:0e:0d:33:d5' : 'train',\n",
    "                 '94:10:3e:2b:7a:55' : 'test',\n",
    "                 '30:8c:fb:3a:1a:ad' : 'train',\n",
    "                 'd0:73:d5:26:b8:4c' : 'train', \n",
    "                 'd0:73:d5:26:c9:27' : 'test',\n",
    "                 'ac:84:c6:97:7c:cc' : 'test', \n",
    "                 'b0:4e:26:c5:2a:41' : 'train',\n",
    "                 '70:4f:57:f9:e1:b8' : 'test',}\n",
    "\n",
    "DATA_PKT_SUBTYPES = {32 : 'Data',\n",
    "                     40 : 'QoS_Data',\n",
    "                     44 : 'QoS_Null'}\n",
    "\n",
    "FEATURES = [\"Time\", \"PacketLength\", \"Duration\", \"SourceAddr\", \"DestAddr\", \"Subtype\"]\n",
    "SRC_DIR = './Source/'\n",
    "DST_DIR = './Destination/'\n",
    "PCAP_DIR = '/root/Documents/Thesis/PCAPS'\n",
    "TIMING_PKT_NUMBER = 25000\n",
    "DATA_FRAME_TYPE = '2'\n",
    "\n",
    "path_name = os.getcwd()\n",
    "DATE = path_name[path_name.rindex('/')+1:]\n",
    "PROC_TIME = \"wifi_processing_time_\" + DATE + \".csv\""
   ]
  },
  {
   "cell_type": "code",
   "execution_count": 3,
   "metadata": {},
   "outputs": [],
   "source": [
    "def count_assoc_pkts(device):\n",
    "    # Get the count of packets of a given device that are sent within a second of each other (associated packets)\n",
    "    \n",
    "    ASSOC_PKT_THRESHOLD = 1 # the threshold in seconds within which a packet will be considered an assoc_pkt\n",
    "\n",
    "    # Extract time values of all packets belonging to a certain device\n",
    "    df_device = df[df[\"Name\"]==device]\n",
    "    pkt_time_values = np.array(df_device[\"Time\"].values)\n",
    "    print \"Length =\", len(pkt_time_values)\n",
    "    \n",
    "    assoc_pkt_counts = []\n",
    "    \n",
    "    # Iterate through each packet of the device\n",
    "    for pkt_index in range(0,len(df_device)):  \n",
    "\n",
    "        # Create an array of size=len(pkt_time_values) that contains the time value of packet X\n",
    "        pkt_time = np.full((len(pkt_time_values),),df_device.iloc[pkt_index][\"Time\"])\n",
    "\n",
    "        # Calculate the time difference between packet X and all other packets\n",
    "        diff = np.abs(np.subtract(pkt_time, pkt_time_values))\n",
    "\n",
    "        # Calculate the count of packets that would be considered an assoc_pkt based on ASSOC_PKT_THRESHOLD\n",
    "        assoc_pkts = (diff <= ASSOC_PKT_THRESHOLD).sum()\n",
    "        assoc_pkt_counts.append(assoc_pkts)\n",
    "        \n",
    "    \n",
    "    series = pd.Series(assoc_pkt_counts, index=df_device.index)\n",
    "    return series\n",
    "\n",
    "#         print \"Count assoc_pkts = \", assoc_pkts"
   ]
  },
  {
   "cell_type": "code",
   "execution_count": 6,
   "metadata": {},
   "outputs": [],
   "source": [
    "# cap = pyshark.FileCapture('/root/Documents/Thesis/PCAPS/master.cap', only_summaries=False)\n",
    "cap = pyshark.FileCapture('/root/Documents/Thesis/BLE_PCAPS/push-5min.pcap')\n",
    "\n",
    "SCAN_RSP = '4'\n",
    "s_adv_addr = 'd8:10:ed:43:60:ac'"
   ]
  },
  {
   "cell_type": "code",
   "execution_count": 9,
   "metadata": {
    "scrolled": false
   },
   "outputs": [],
   "source": [
    "def ble_cap(cap, field_name, field_val=None):\n",
    "    time_start = time.time()\n",
    "    cnt = Counter()\n",
    "    search_pkt = set()\n",
    "    \n",
    "    for pkt in cap:\n",
    "        if hasattr(pkt.btle, field_name):\n",
    "            field = getattr(pkt.btle, field_name)\n",
    "            cnt[field] += 1  \n",
    "            if field == field_val:\n",
    "                search_pkt.add(pkt)\n",
    "    \n",
    "    print time.time()-time_start\n",
    "    return cnt, search_pkt"
   ]
  },
  {
   "cell_type": "code",
   "execution_count": 13,
   "metadata": {},
   "outputs": [
    {
     "name": "stdout",
     "output_type": "stream",
     "text": [
      "77.4832549095\n"
     ]
    }
   ],
   "source": [
    "cnt, search_pkt = ble_cap(pyshark.FileCapture('/root/Documents/Thesis/BLE_PCAPS/push-5min.pcap'),\n",
    "                          'advertising_address', s_adv_addr)"
   ]
  },
  {
   "cell_type": "code",
   "execution_count": 12,
   "metadata": {
    "scrolled": false
   },
   "outputs": [
    {
     "name": "stdout",
     "output_type": "stream",
     "text": [
      "[('0x8e89bed6', 934)]\n",
      "[('d8:10:ed:43:60:ac', 934)]\n"
     ]
    }
   ],
   "source": [
    "accessaddr_cnt = Counter()\n",
    "advaddr_cnt = Counter()\n",
    "\n",
    "for pkt in search_pkt:\n",
    "    if hasattr(pkt.btle, \"access_address\"):\n",
    "        accessaddr_cnt[pkt.btle.access_address] += 1\n",
    "    if hasattr(pkt.btle, \"advertising_address\"):\n",
    "        advaddr_cnt[pkt.btle.advertising_address] += 1\n",
    "\n",
    "print accessaddr_cnt.most_common()\n",
    "print advaddr_cnt.most_common()\n"
   ]
  },
  {
   "cell_type": "code",
   "execution_count": 145,
   "metadata": {
    "scrolled": false
   },
   "outputs": [
    {
     "data": {
      "text/plain": [
       "['Eve Energy 556E',\n",
       " 'Eve Energy 51C0',\n",
       " 'Kevo',\n",
       " 'Eve Weather 943D',\n",
       " 'Eve Room 8F24',\n",
       " 'Eve Room 4A04',\n",
       " 'Eve Door 91B3',\n",
       " 'Eve Door DC42']"
      ]
     },
     "execution_count": 145,
     "metadata": {},
     "output_type": "execute_result"
    }
   ],
   "source": [
    "most_c = cnt.most_common(10)\n",
    "device_names = [device[0] for device in most_c]\n",
    "\n",
    "device_names.remove('L402EL4')\n",
    "device_names.remove('danalock-B129586')\n",
    "\n",
    "device_names"
   ]
  }
 ],
 "metadata": {
  "kernelspec": {
   "display_name": "Python 2",
   "language": "python",
   "name": "python2"
  },
  "language_info": {
   "codemirror_mode": {
    "name": "ipython",
    "version": 2
   },
   "file_extension": ".py",
   "mimetype": "text/x-python",
   "name": "python",
   "nbconvert_exporter": "python",
   "pygments_lexer": "ipython2",
   "version": "2.7.15"
  }
 },
 "nbformat": 4,
 "nbformat_minor": 2
}
