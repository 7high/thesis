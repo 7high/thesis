{
 "cells": [
  {
   "cell_type": "code",
   "execution_count": 1,
   "metadata": {},
   "outputs": [],
   "source": [
    "from Pipeline import BLEPipeline\n",
    "\n",
    "# General data processing\n",
    "import numpy as np\n",
    "import pandas as pd\n",
    "\n",
    "# Plotting\n",
    "import matplotlib.pyplot as plt\n",
    "\n",
    "# ML libraries\n",
    "from sklearn.discriminant_analysis import LinearDiscriminantAnalysis\n",
    "from sklearn.ensemble import RandomForestClassifier\n",
    "from sklearn.neighbors import KNeighborsClassifier\n",
    "from sklearn.metrics import balanced_accuracy_score, precision_score, recall_score, confusion_matrix, matthews_corrcoef\n",
    "from sklearn.model_selection import GridSearchCV, KFold, cross_val_score\n",
    "\n",
    "# System libraries\n",
    "import itertools\n",
    "import random, time\n",
    "\n",
    "# Warning filtering\n",
    "import warnings\n",
    "warnings.filterwarnings(\"ignore\", category=FutureWarning)\n",
    "warnings.filterwarnings(\"ignore\", category=UserWarning)\n",
    "warnings.filterwarnings(\"ignore\", category=DeprecationWarning)\n",
    "plt.rcParams.update({'figure.max_open_warning': 0})"
   ]
  },
  {
   "cell_type": "markdown",
   "metadata": {},
   "source": [
    "# Define functions"
   ]
  },
  {
   "cell_type": "code",
   "execution_count": 2,
   "metadata": {},
   "outputs": [],
   "source": [
    "def run_multiclass(df_train, df_test, features_list, y_list):\n",
    "    # Initialize classifiers using tuned hyperparameters\n",
    "    knn = KNeighborsClassifier(n_neighbors=5)\n",
    "    lda = LinearDiscriminantAnalysis(n_components=1)\n",
    "    rf = RandomForestClassifier(max_features=7)  \n",
    "    \n",
    "    # Train classifiers\n",
    "    knn_model = knn.fit(df_train[features_list], df_train['DeviceType'])\n",
    "    lda_model = lda.fit(df_train[features_list], df_train['DeviceType'])\n",
    "    rf_model = rf.fit(df_train[features_list], df_train['DeviceType'])\n",
    "    \n",
    "    # Test classifiers\n",
    "    knn_preds = knn_model.predict(df_test[features_list])\n",
    "    lda_preds = lda_model.predict(df_test[features_list])\n",
    "    rf_preds = rf_model.predict(df_test[features_list])\n",
    "    \n",
    "    preds = dict(knn=knn_preds, lda=lda_preds, rf=rf_preds)\n",
    "    \n",
    "    # Score classifiers\n",
    "    metrics = {}\n",
    "    conf_matrices = {}\n",
    "    for classifier,pred in preds.iteritems():\n",
    "        bacc = balanced_accuracy_score(df_test['DeviceType'], pred)\n",
    "        prec = precision_score(df_test['DeviceType'], pred, average=None)\n",
    "        recall = recall_score(df_test['DeviceType'], pred, average=None)\n",
    "        mc = matthews_corrcoef(df_test['DeviceType'], pred)\n",
    "        \n",
    "        conf_matrices[classifier] = confusion_matrix(df_test['DeviceType'], pred, labels=y_list)\n",
    "        metrics[classifier] = bacc, prec, recall, mc\n",
    "    \n",
    "    return preds, metrics, conf_matrices"
   ]
  },
  {
   "cell_type": "code",
   "execution_count": 3,
   "metadata": {},
   "outputs": [],
   "source": [
    "def plot_confusion_matrix(cm, classes,\n",
    "                          normalize=False,\n",
    "                          title='Confusion matrix',\n",
    "                          cmap=plt.cm.Blues):\n",
    "    \"\"\"\n",
    "    Source: https://scikit-learn.org/stable/auto_examples/model_selection/plot_confusion_matrix.html\n",
    "    This function prints and plots the confusion matrix.\n",
    "    Normalization can be applied by setting `normalize=True`.\n",
    "    \"\"\"\n",
    "    if normalize:\n",
    "        cm = cm.astype('float') / cm.sum(axis=1)[:, np.newaxis]\n",
    "        print(\"Normalized confusion matrix\")\n",
    "    else:\n",
    "        print('Confusion matrix, without normalization')\n",
    "\n",
    "    print(cm)\n",
    "\n",
    "    plt.imshow(cm, interpolation='nearest', cmap=cmap)\n",
    "    plt.title(title)\n",
    "    plt.colorbar()\n",
    "    tick_marks = np.arange(len(classes))\n",
    "    plt.xticks(tick_marks, classes, rotation=45)\n",
    "    plt.yticks(tick_marks, classes)\n",
    "\n",
    "    fmt = '.2f' if normalize else 'd'\n",
    "    thresh = cm.max() / 2.\n",
    "    for i, j in itertools.product(range(cm.shape[0]), range(cm.shape[1])):\n",
    "        plt.text(j, i, format(cm[i, j], fmt),\n",
    "                 horizontalalignment=\"center\",\n",
    "                 color=\"white\" if cm[i, j] > thresh else \"black\")\n",
    "\n",
    "    plt.ylabel('True label')\n",
    "    plt.xlabel('Predicted label')\n",
    "    plt.tight_layout()"
   ]
  },
  {
   "cell_type": "markdown",
   "metadata": {},
   "source": [
    "# Create, process dataframe"
   ]
  },
  {
   "cell_type": "code",
   "execution_count": 4,
   "metadata": {},
   "outputs": [],
   "source": [
    "b = BLEPipeline()"
   ]
  },
  {
   "cell_type": "code",
   "execution_count": 5,
   "metadata": {},
   "outputs": [
    {
     "name": "stdout",
     "output_type": "stream",
     "text": [
      "August2    210644\n",
      "Home1       54902\n",
      "Home2       54516\n",
      "Push        30661\n",
      "Kevo        19430\n",
      "August1     15047\n",
      "Weather      8101\n",
      "Room2        7698\n",
      "Room1        7239\n",
      "Door1        6696\n",
      "Door2        3587\n",
      "Name: Name, dtype: int64\n"
     ]
    }
   ],
   "source": [
    "df = b.make_dataframe()"
   ]
  },
  {
   "cell_type": "markdown",
   "metadata": {},
   "source": [
    "# Prep multiclass classifiers"
   ]
  },
  {
   "cell_type": "code",
   "execution_count": 6,
   "metadata": {},
   "outputs": [],
   "source": [
    "# BLE: Define which features to use\n",
    "features_list = [\n",
    "    # Packet info\n",
    "    \"PacketLength\", \"BLE_LL_Length\",\n",
    "    \n",
    "    # Associate Packets\n",
    "    \"Assoc_Packets\",\n",
    "    \n",
    "    # Channel number\n",
    "    \"Channel_0\", \"Channel_12\", \"Channel_39\",\n",
    "    \n",
    "    # PDU Type\n",
    "    \"SCAN_RSP\", \"ADV_IND\", \"SCAN_REQ\", \n",
    "    \"CONNECT_REQ\", \"ADV_NONCONN_IND\", \"ADV_DIRECT_IND\"]\n",
    "\n",
    "y_list = [\"door\", \"lock\", \"temp\"]"
   ]
  },
  {
   "cell_type": "code",
   "execution_count": 7,
   "metadata": {},
   "outputs": [
    {
     "name": "stdout",
     "output_type": "stream",
     "text": [
      "door    116114\n",
      "temp     46001\n",
      "lock     34477\n",
      "Name: DeviceType, dtype: int64 \n",
      "\n",
      "lock    210644\n",
      "temp      7698\n",
      "door      3587\n",
      "Name: DeviceType, dtype: int64\n"
     ]
    }
   ],
   "source": [
    "# Divide training and test sets\n",
    "df_train = df[df['Set']=='train']\n",
    "df_test = df[df['Set']=='test']\n",
    "\n",
    "print df_train['DeviceType'].value_counts(), \"\\n\"\n",
    "print df_test['DeviceType'].value_counts()"
   ]
  },
  {
   "cell_type": "markdown",
   "metadata": {},
   "source": [
    "# Run multiclass"
   ]
  },
  {
   "cell_type": "code",
   "execution_count": 8,
   "metadata": {},
   "outputs": [],
   "source": [
    "preds, metrics, cms = run_multiclass(df_train, df_test, features_list, y_list)"
   ]
  },
  {
   "cell_type": "markdown",
   "metadata": {},
   "source": [
    "# Report results"
   ]
  },
  {
   "cell_type": "markdown",
   "metadata": {},
   "source": [
    "## Report confusion matrices"
   ]
  },
  {
   "cell_type": "code",
   "execution_count": 9,
   "metadata": {},
   "outputs": [
    {
     "name": "stdout",
     "output_type": "stream",
     "text": [
      "Confusion matrix, without normalization\n",
      "[[    46      0   3541]\n",
      " [ 17419 193225      0]\n",
      " [   103      0   7595]]\n"
     ]
    },
    {
     "data": {
      "image/png": "[encoded data removed]",
      "text/plain": [
       "<Figure size 432x288 with 2 Axes>"
      ]
     },
     "metadata": {},
     "output_type": "display_data"
    }
   ],
   "source": [
    "classifier = 'knn'\n",
    "plot_confusion_matrix(cms[classifier], classes=y_list, title=classifier.upper() + ' Confusion Matrix' ,normalize=False);"
   ]
  },
  {
   "cell_type": "code",
   "execution_count": 10,
   "metadata": {},
   "outputs": [
    {
     "name": "stdout",
     "output_type": "stream",
     "text": [
      "Confusion matrix, without normalization\n",
      "[[     1   3586      0]\n",
      " [210639      5      0]\n",
      " [     1   7697      0]]\n"
     ]
    },
    {
     "data": {
      "image/png": "[encoded data removed]",
      "text/plain": [
       "<Figure size 432x288 with 2 Axes>"
      ]
     },
     "metadata": {},
     "output_type": "display_data"
    }
   ],
   "source": [
    "classifier = 'lda'\n",
    "plot_confusion_matrix(cms[classifier], classes=y_list, title=classifier.upper() + ' Confusion Matrix' ,normalize=False);"
   ]
  },
  {
   "cell_type": "code",
   "execution_count": 11,
   "metadata": {},
   "outputs": [
    {
     "name": "stdout",
     "output_type": "stream",
     "text": [
      "Confusion matrix, without normalization\n",
      "[[    47      1   3539]\n",
      " [210640      4      0]\n",
      " [   100      0   7598]]\n"
     ]
    },
    {
     "data": {
      "image/png": "[encoded data removed]",
      "text/plain": [
       "<Figure size 432x288 with 2 Axes>"
      ]
     },
     "metadata": {},
     "output_type": "display_data"
    }
   ],
   "source": [
    "classifier = 'rf'\n",
    "plot_confusion_matrix(cms[classifier], classes=y_list, title=classifier.upper() + ' Confusion Matrix' ,normalize=False);"
   ]
  },
  {
   "cell_type": "markdown",
   "metadata": {},
   "source": [
    "## Report metrics"
   ]
  },
  {
   "cell_type": "code",
   "execution_count": 12,
   "metadata": {},
   "outputs": [],
   "source": [
    "metrics_df = pd.DataFrame()\n",
    "\n",
    "# Extract metrics and put into dataframe\n",
    "for k,v in metrics.iteritems():\n",
    "    bacc = pd.Series({'BACC':v[0]},name=k)\n",
    "    prec = pd.Series(v[1],index=['Prec_Door', 'Prec_Lock', 'Prec_Temp'], name=k)\n",
    "    recall = pd.Series(v[2],index=['Recall_Door', 'Recall_Lock', 'Recall_Temp'], name=k)\n",
    "    mattcorr = pd.Series({'Matt_Corr':v[3]},name=k)\n",
    "    metric_series = pd.concat([bacc,prec, recall, mattcorr])\n",
    "    metrics_df = pd.concat([metrics_df,metric_series], axis=1)\n",
    "metrics_df = metrics_df.T\n",
    "\n",
    "# Print to csv\n",
    "metrics_df.to_csv('Results/ble-multiclass_metrics.csv', mode='w')"
   ]
  },
  {
   "cell_type": "markdown",
   "metadata": {},
   "source": [
    "# Residuals Analysis"
   ]
  },
  {
   "cell_type": "code",
   "execution_count": null,
   "metadata": {},
   "outputs": [],
   "source": []
  }
 ],
 "metadata": {
  "kernelspec": {
   "display_name": "Python 2",
   "language": "python",
   "name": "python2"
  },
  "language_info": {
   "codemirror_mode": {
    "name": "ipython",
    "version": 2
   },
   "file_extension": ".py",
   "mimetype": "text/x-python",
   "name": "python",
   "nbconvert_exporter": "python",
   "pygments_lexer": "ipython2",
   "version": "2.7.15"
  }
 },
 "nbformat": 4,
 "nbformat_minor": 2
}
