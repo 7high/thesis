{
 "cells": [
  {
   "cell_type": "code",
   "execution_count": 1,
   "metadata": {},
   "outputs": [],
   "source": [
    "from MulticlassDCP import BLEMulticlassDCP\n",
    "\n",
    "# General data processing\n",
    "import numpy as np\n",
    "import pandas as pd\n",
    "\n",
    "# Plotting\n",
    "import matplotlib.pyplot as plt\n",
    "import seaborn as sns\n",
    "\n",
    "# ML libraries\n",
    "from sklearn.discriminant_analysis import LinearDiscriminantAnalysis\n",
    "from sklearn.ensemble import RandomForestClassifier\n",
    "from sklearn.neighbors import KNeighborsClassifier\n",
    "from sklearn.metrics import balanced_accuracy_score, precision_score, recall_score, confusion_matrix, matthews_corrcoef\n",
    "from sklearn.model_selection import GridSearchCV, cross_val_score\n",
    "from imblearn.under_sampling import RandomUnderSampler\n",
    "\n",
    "# System libraries\n",
    "import itertools\n",
    "import random, time\n",
    "\n",
    "# Warning filtering\n",
    "import warnings\n",
    "warnings.filterwarnings(\"ignore\", category=FutureWarning)\n",
    "warnings.filterwarnings(\"ignore\", category=UserWarning)\n",
    "warnings.filterwarnings(\"ignore\", category=DeprecationWarning)\n",
    "plt.rcParams.update({'figure.max_open_warning': 0})"
   ]
  },
  {
   "cell_type": "markdown",
   "metadata": {},
   "source": [
    "# Create, process dataframe"
   ]
  },
  {
   "cell_type": "code",
   "execution_count": 2,
   "metadata": {},
   "outputs": [],
   "source": [
    "start_time = time.time()"
   ]
  },
  {
   "cell_type": "code",
   "execution_count": 3,
   "metadata": {},
   "outputs": [],
   "source": [
    "b = BLEMulticlassDCP()"
   ]
  },
  {
   "cell_type": "code",
   "execution_count": 4,
   "metadata": {},
   "outputs": [
    {
     "name": "stdout",
     "output_type": "stream",
     "text": [
      "August2    210644\n",
      "Home1       54902\n",
      "Home2       54516\n",
      "Push        30661\n",
      "Kevo        19430\n",
      "August1     15047\n",
      "Weather      8101\n",
      "Room2        7698\n",
      "Room1        7239\n",
      "Door1        6696\n",
      "Door2        3587\n",
      "Name: Name, dtype: int64\n"
     ]
    }
   ],
   "source": [
    "df = b.make_dataframe()"
   ]
  },
  {
   "cell_type": "markdown",
   "metadata": {},
   "source": [
    "# Prep dataset"
   ]
  },
  {
   "cell_type": "code",
   "execution_count": 5,
   "metadata": {},
   "outputs": [],
   "source": [
    "# BLE: Define which features to use\n",
    "features_list = [\n",
    "    # Packet info\n",
    "    \"PacketLength\", \"BLE_LL_Length\",\n",
    "    \n",
    "    # Associate Packets\n",
    "    \"Assoc_Packets\",\n",
    "    \n",
    "    # Channel number\n",
    "    \"Channel_0\", \"Channel_12\", \"Channel_39\",\n",
    "    \n",
    "    # PDU Type\n",
    "    \"SCAN_RSP\", \"ADV_IND\", \"SCAN_REQ\", \n",
    "    \"CONNECT_REQ\", \"ADV_NONCONN_IND\", \"ADV_DIRECT_IND\"]\n",
    "\n",
    "y_list = [\"door\", \"lock\", \"temp\"]"
   ]
  },
  {
   "cell_type": "code",
   "execution_count": 6,
   "metadata": {},
   "outputs": [
    {
     "name": "stdout",
     "output_type": "stream",
     "text": [
      "door    116114\n",
      "temp     46001\n",
      "lock     34477\n",
      "Name: DeviceType, dtype: int64\n"
     ]
    }
   ],
   "source": [
    "# Prep training set\n",
    "df_train = df[df['Set']=='train']\n",
    "print df_train['DeviceType'].value_counts()"
   ]
  },
  {
   "cell_type": "code",
   "execution_count": 7,
   "metadata": {},
   "outputs": [
    {
     "name": "stdout",
     "output_type": "stream",
     "text": [
      "Initial test set distribution:\n",
      "lock    210644\n",
      "temp      7698\n",
      "door      3587\n",
      "Name: DeviceType, dtype: int64\n"
     ]
    },
    {
     "data": {
      "image/png": "[encoded data removed]",
      "text/plain": [
       "<Figure size 432x288 with 1 Axes>"
      ]
     },
     "metadata": {},
     "output_type": "display_data"
    }
   ],
   "source": [
    "df_test = df[df['Set']=='test']\n",
    "\n",
    "# Show initial test set imbalance\n",
    "print \"Initial test set distribution:\"\n",
    "print df_test['DeviceType'].value_counts()\n",
    "df_test['DeviceType'].value_counts().sort_index().plot(kind='bar', title=\"Test Packet Counts Before Resampling\",logy=True);"
   ]
  },
  {
   "cell_type": "code",
   "execution_count": 8,
   "metadata": {},
   "outputs": [
    {
     "name": "stdout",
     "output_type": "stream",
     "text": [
      "[['door' 3587]\n",
      " ['lock' 3587]\n",
      " ['temp' 3587]]\n"
     ]
    }
   ],
   "source": [
    "# Downsample test set so that there is equal chance that the classifier will choose any given class\n",
    "rds = RandomUnderSampler(random_state=42)\n",
    "test_X_downsampled, test_y_downsampled = rds.fit_resample(df_test[features_list], df_test['DeviceType'])\n",
    "\n",
    "# Show class counts after downsampling\n",
    "unique, counts = np.unique(test_y_downsampled, return_counts=True)\n",
    "print np.asarray((unique, counts)).T"
   ]
  },
  {
   "cell_type": "code",
   "execution_count": 9,
   "metadata": {},
   "outputs": [],
   "source": [
    "# Recreate df_test \n",
    "df_test_downsampled = pd.DataFrame(test_X_downsampled,columns=features_list)\n",
    "df_test_downsampled['DeviceType'] = test_y_downsampled"
   ]
  },
  {
   "cell_type": "markdown",
   "metadata": {},
   "source": [
    "# Run multiclass on all features"
   ]
  },
  {
   "cell_type": "code",
   "execution_count": 10,
   "metadata": {},
   "outputs": [],
   "source": [
    "multiclass_start = time.time()\n",
    "\n",
    "preds, metrics, cms, feature_importance = b.run_multiclass(df_train, df_test_downsampled, features_list, y_list)\n",
    "\n",
    "multiclass_end = time.time() - multiclass_start"
   ]
  },
  {
   "cell_type": "markdown",
   "metadata": {},
   "source": [
    "## Report results"
   ]
  },
  {
   "cell_type": "markdown",
   "metadata": {},
   "source": [
    "### Report confusion matrices"
   ]
  },
  {
   "cell_type": "code",
   "execution_count": 11,
   "metadata": {},
   "outputs": [
    {
     "name": "stdout",
     "output_type": "stream",
     "text": [
      "Confusion matrix, without normalization\n",
      "[[  46    0 3541]\n",
      " [ 287 3300    0]\n",
      " [  42    0 3545]]\n",
      "Confusion matrix, without normalization\n",
      "[[   1 3586    0]\n",
      " [3587    0    0]\n",
      " [   1 3586    0]]\n",
      "Confusion matrix, without normalization\n",
      "[[  40    1 3546]\n",
      " [3587    0    0]\n",
      " [  26    0 3561]]\n"
     ]
    },
    {
     "data": {
      "image/png": "[encoded data removed]",
      "text/plain": [
       "<Figure size 1008x288 with 6 Axes>"
      ]
     },
     "metadata": {},
     "output_type": "display_data"
    }
   ],
   "source": [
    "b.plot_all_confusion_matrices(cms, y_list)"
   ]
  },
  {
   "cell_type": "markdown",
   "metadata": {},
   "source": [
    "### Report metrics"
   ]
  },
  {
   "cell_type": "code",
   "execution_count": 12,
   "metadata": {},
   "outputs": [
    {
     "data": {
      "text/html": [
       "<div>\n",
       "<style scoped>\n",
       "    .dataframe tbody tr th:only-of-type {\n",
       "        vertical-align: middle;\n",
       "    }\n",
       "\n",
       "    .dataframe tbody tr th {\n",
       "        vertical-align: top;\n",
       "    }\n",
       "\n",
       "    .dataframe thead th {\n",
       "        text-align: right;\n",
       "    }\n",
       "</style>\n",
       "<table border=\"1\" class=\"dataframe\">\n",
       "  <thead>\n",
       "    <tr style=\"text-align: right;\">\n",
       "      <th></th>\n",
       "      <th>MCC</th>\n",
       "      <th>Mean_Precision</th>\n",
       "      <th>Mean_Recall</th>\n",
       "      <th>Precision_Door</th>\n",
       "      <th>Precision_Lock</th>\n",
       "      <th>Precision_Temp</th>\n",
       "      <th>Recall_Door</th>\n",
       "      <th>Recall_Lock</th>\n",
       "      <th>Recall_Temp</th>\n",
       "    </tr>\n",
       "  </thead>\n",
       "  <tbody>\n",
       "    <tr>\n",
       "      <th>KNN</th>\n",
       "      <td>0.547848</td>\n",
       "      <td>0.540983</td>\n",
       "      <td>0.640368</td>\n",
       "      <td>0.122667</td>\n",
       "      <td>1.0</td>\n",
       "      <td>0.500282</td>\n",
       "      <td>0.012824</td>\n",
       "      <td>0.919989</td>\n",
       "      <td>0.988291</td>\n",
       "    </tr>\n",
       "    <tr>\n",
       "      <th>RF</th>\n",
       "      <td>0.002379</td>\n",
       "      <td>0.170668</td>\n",
       "      <td>0.334634</td>\n",
       "      <td>0.010950</td>\n",
       "      <td>0.0</td>\n",
       "      <td>0.501055</td>\n",
       "      <td>0.011151</td>\n",
       "      <td>0.000000</td>\n",
       "      <td>0.992752</td>\n",
       "    </tr>\n",
       "    <tr>\n",
       "      <th>LDA</th>\n",
       "      <td>-0.612116</td>\n",
       "      <td>0.000093</td>\n",
       "      <td>0.000093</td>\n",
       "      <td>0.000279</td>\n",
       "      <td>0.0</td>\n",
       "      <td>0.000000</td>\n",
       "      <td>0.000279</td>\n",
       "      <td>0.000000</td>\n",
       "      <td>0.000000</td>\n",
       "    </tr>\n",
       "  </tbody>\n",
       "</table>\n",
       "</div>"
      ],
      "text/plain": [
       "          MCC  Mean_Precision  Mean_Recall  Precision_Door  Precision_Lock  \\\n",
       "KNN  0.547848        0.540983     0.640368        0.122667             1.0   \n",
       "RF   0.002379        0.170668     0.334634        0.010950             0.0   \n",
       "LDA -0.612116        0.000093     0.000093        0.000279             0.0   \n",
       "\n",
       "     Precision_Temp  Recall_Door  Recall_Lock  Recall_Temp  \n",
       "KNN        0.500282     0.012824     0.919989     0.988291  \n",
       "RF         0.501055     0.011151     0.000000     0.992752  \n",
       "LDA        0.000000     0.000279     0.000000     0.000000  "
      ]
     },
     "metadata": {},
     "output_type": "display_data"
    }
   ],
   "source": [
    "metrics_df = b.report_metrics(metrics, y_list, 'ble-multiclass_metrics')\n",
    "display(metrics_df)"
   ]
  },
  {
   "cell_type": "markdown",
   "metadata": {},
   "source": [
    "### Report feature importance"
   ]
  },
  {
   "cell_type": "code",
   "execution_count": 13,
   "metadata": {},
   "outputs": [
    {
     "data": {
      "text/plain": [
       "PacketLength      0.32730\n",
       "BLE_LL_Length     0.21198\n",
       "Assoc_Packets     0.19311\n",
       "SCAN_RSP          0.13465\n",
       "ADV_IND           0.10600\n",
       "SCAN_REQ          0.02598\n",
       "Channel_39        0.00072\n",
       "ADV_DIRECT_IND    0.00009\n",
       "ADV_NONCONN_IND   0.00008\n",
       "CONNECT_REQ       0.00003\n",
       "Channel_0         0.00002\n",
       "Channel_12        0.00002\n",
       "dtype: float64"
      ]
     },
     "metadata": {},
     "output_type": "display_data"
    }
   ],
   "source": [
    "f_i = b.report_featureimportance(feature_importance, features_list)\n",
    "display(f_i)"
   ]
  },
  {
   "cell_type": "markdown",
   "metadata": {},
   "source": [
    "# Residuals Analysis"
   ]
  },
  {
   "cell_type": "markdown",
   "metadata": {},
   "source": [
    "## Use *k* top features only"
   ]
  },
  {
   "cell_type": "markdown",
   "metadata": {},
   "source": [
    "### Find *k* where *k* is the count of features that yields best BACC"
   ]
  },
  {
   "cell_type": "code",
   "execution_count": 14,
   "metadata": {},
   "outputs": [
    {
     "name": "stderr",
     "output_type": "stream",
     "text": [
      "/root/anaconda2/lib/python2.7/site-packages/sklearn/metrics/classification.py:543: RuntimeWarning: invalid value encountered in double_scalars\n",
      "  mcc = cov_ytyp / np.sqrt(cov_ytyt * cov_ypyp)\n"
     ]
    }
   ],
   "source": [
    "fs_start = time.time()\n",
    "\n",
    "# Find best features using KBest scheme\n",
    "feature_selection = []\n",
    "for i in range(0,len(f_i)):\n",
    "    top_features = list(f_i.index[0:i+1])\n",
    "\n",
    "    tf_preds, tf_metrics, tf_cms, tf_feature_importance = b.run_multiclass(df_train, df_test_downsampled, top_features, y_list,use_tuned=False)\n",
    "    tf_metrics_df = b.report_metrics(tf_metrics, y_list, to_csv=False)\n",
    "    \n",
    "    ave = np.average(tf_metrics_df['Mean_Recall'])\n",
    "    feature_selection.append(ave)\n",
    "    \n",
    "fs_end = time.time() - fs_start"
   ]
  },
  {
   "cell_type": "code",
   "execution_count": 15,
   "metadata": {},
   "outputs": [
    {
     "name": "stdout",
     "output_type": "stream",
     "text": [
      "Best Mean Recall 0.5464795712913918 : 3 features\n"
     ]
    }
   ],
   "source": [
    "k = feature_selection.index(max(feature_selection))\n",
    "print 'Best Mean Recall',max(feature_selection),\":\", k+1, \"features\""
   ]
  },
  {
   "cell_type": "code",
   "execution_count": 16,
   "metadata": {
    "scrolled": true
   },
   "outputs": [
    {
     "data": {
      "text/plain": [
       "[0.3333643093888424,\n",
       " 0.3334262614998606,\n",
       " 0.5464795712913918,\n",
       " 0.32521760678995143,\n",
       " 0.3249078462348604,\n",
       " 0.3249078462348604,\n",
       " 0.3248458941238423,\n",
       " 0.3248458941238423,\n",
       " 0.3250317504568968,\n",
       " 0.3248458941238423,\n",
       " 0.3250627265124059,\n",
       " 0.3248149180683332]"
      ]
     },
     "execution_count": 16,
     "metadata": {},
     "output_type": "execute_result"
    }
   ],
   "source": [
    "feature_selection"
   ]
  },
  {
   "cell_type": "markdown",
   "metadata": {},
   "source": [
    "### Run multiclass with top *k* features (*k* = 3)"
   ]
  },
  {
   "cell_type": "code",
   "execution_count": 17,
   "metadata": {},
   "outputs": [],
   "source": [
    "# Run multiclass with top 3 features\n",
    "tf_preds, tf_metrics, tf_cms, tf_feature_importance = b.run_multiclass(df_train, df_test_downsampled, list(f_i.index[0:k+1]), y_list,use_tuned=False)"
   ]
  },
  {
   "cell_type": "code",
   "execution_count": 18,
   "metadata": {},
   "outputs": [
    {
     "data": {
      "text/html": [
       "<div>\n",
       "<style scoped>\n",
       "    .dataframe tbody tr th:only-of-type {\n",
       "        vertical-align: middle;\n",
       "    }\n",
       "\n",
       "    .dataframe tbody tr th {\n",
       "        vertical-align: top;\n",
       "    }\n",
       "\n",
       "    .dataframe thead th {\n",
       "        text-align: right;\n",
       "    }\n",
       "</style>\n",
       "<table border=\"1\" class=\"dataframe\">\n",
       "  <thead>\n",
       "    <tr style=\"text-align: right;\">\n",
       "      <th></th>\n",
       "      <th>MCC</th>\n",
       "      <th>Mean_Precision</th>\n",
       "      <th>Mean_Recall</th>\n",
       "      <th>Precision_Door</th>\n",
       "      <th>Precision_Lock</th>\n",
       "      <th>Precision_Temp</th>\n",
       "      <th>Recall_Door</th>\n",
       "      <th>Recall_Lock</th>\n",
       "      <th>Recall_Temp</th>\n",
       "    </tr>\n",
       "  </thead>\n",
       "  <tbody>\n",
       "    <tr>\n",
       "      <th>KNN</th>\n",
       "      <td>0.57065</td>\n",
       "      <td>0.57796</td>\n",
       "      <td>0.65245</td>\n",
       "      <td>0.23345</td>\n",
       "      <td>1.00000</td>\n",
       "      <td>0.50043</td>\n",
       "      <td>0.01868</td>\n",
       "      <td>0.95567</td>\n",
       "      <td>0.98299</td>\n",
       "    </tr>\n",
       "    <tr>\n",
       "      <th>RF</th>\n",
       "      <td>0.57398</td>\n",
       "      <td>0.53314</td>\n",
       "      <td>0.65078</td>\n",
       "      <td>0.09859</td>\n",
       "      <td>1.00000</td>\n",
       "      <td>0.50084</td>\n",
       "      <td>0.00585</td>\n",
       "      <td>0.94898</td>\n",
       "      <td>0.99749</td>\n",
       "    </tr>\n",
       "    <tr>\n",
       "      <th>LDA</th>\n",
       "      <td>0.00118</td>\n",
       "      <td>0.17285</td>\n",
       "      <td>0.33398</td>\n",
       "      <td>0.01804</td>\n",
       "      <td>0.00000</td>\n",
       "      <td>0.50050</td>\n",
       "      <td>0.01868</td>\n",
       "      <td>0.00000</td>\n",
       "      <td>0.98327</td>\n",
       "    </tr>\n",
       "  </tbody>\n",
       "</table>\n",
       "</div>"
      ],
      "text/plain": [
       "        MCC  Mean_Precision  Mean_Recall  Precision_Door  Precision_Lock  \\\n",
       "KNN 0.57065         0.57796      0.65245         0.23345         1.00000   \n",
       "RF  0.57398         0.53314      0.65078         0.09859         1.00000   \n",
       "LDA 0.00118         0.17285      0.33398         0.01804         0.00000   \n",
       "\n",
       "     Precision_Temp  Recall_Door  Recall_Lock  Recall_Temp  \n",
       "KNN         0.50043      0.01868      0.95567      0.98299  \n",
       "RF          0.50084      0.00585      0.94898      0.99749  \n",
       "LDA         0.50050      0.01868      0.00000      0.98327  "
      ]
     },
     "metadata": {},
     "output_type": "display_data"
    }
   ],
   "source": [
    "tf_metrics_df = b.report_metrics(tf_metrics, y_list, 'ble-topfeatures_metrics')\n",
    "display(tf_metrics_df)"
   ]
  },
  {
   "cell_type": "markdown",
   "metadata": {},
   "source": [
    "### Plot confusion matrices"
   ]
  },
  {
   "cell_type": "code",
   "execution_count": 19,
   "metadata": {},
   "outputs": [
    {
     "name": "stdout",
     "output_type": "stream",
     "text": [
      "Confusion matrix, without normalization\n",
      "[[  67    0 3520]\n",
      " [ 159 3428    0]\n",
      " [  61    0 3526]]\n",
      "Confusion matrix, without normalization\n",
      "[[  67    0 3520]\n",
      " [3587    0    0]\n",
      " [  59    1 3527]]\n",
      "Confusion matrix, without normalization\n",
      "[[  21    0 3566]\n",
      " [ 183 3404    0]\n",
      " [   9    0 3578]]\n"
     ]
    },
    {
     "data": {
      "image/png": "[encoded data removed]",
      "text/plain": [
       "<Figure size 1008x288 with 6 Axes>"
      ]
     },
     "metadata": {},
     "output_type": "display_data"
    }
   ],
   "source": [
    "b.plot_all_confusion_matrices(tf_cms, y_list)"
   ]
  },
  {
   "cell_type": "markdown",
   "metadata": {},
   "source": [
    "### Report feature importance of TF3"
   ]
  },
  {
   "cell_type": "code",
   "execution_count": 20,
   "metadata": {},
   "outputs": [
    {
     "data": {
      "text/plain": [
       "PacketLength    0.44528\n",
       "Assoc_Packets   0.30459\n",
       "BLE_LL_Length   0.25013\n",
       "dtype: float64"
      ]
     },
     "execution_count": 20,
     "metadata": {},
     "output_type": "execute_result"
    }
   ],
   "source": [
    "b.report_featureimportance(tf_feature_importance, f_i.index[0:k+1])"
   ]
  },
  {
   "cell_type": "markdown",
   "metadata": {},
   "source": [
    "## Error analysis"
   ]
  },
  {
   "cell_type": "markdown",
   "metadata": {},
   "source": [
    "**Error 1**: The main error across all classifiers is the misclassification of door devices as temp devices."
   ]
  },
  {
   "cell_type": "code",
   "execution_count": 21,
   "metadata": {},
   "outputs": [],
   "source": [
    "# Get door and temp packets\n",
    "df_train_doortemp = df_train[(df_train['DeviceType']=='door') | (df_train['DeviceType']=='temp')]\n",
    "\n",
    "df_test_doortemp = df_test_downsampled[(df_test_downsampled['DeviceType']=='door') | (df_test_downsampled['DeviceType']=='temp')]"
   ]
  },
  {
   "cell_type": "code",
   "execution_count": 22,
   "metadata": {},
   "outputs": [],
   "source": [
    "# Run multiclass on just the two device types\n",
    "doortemp_preds, doortemp_metrics, doortemp_cms, doortemp_feature_importance = b.run_multiclass(df_train_doortemp, df_test_doortemp, features_list, ['door','temp'],use_tuned=False)"
   ]
  },
  {
   "cell_type": "code",
   "execution_count": 23,
   "metadata": {},
   "outputs": [
    {
     "data": {
      "text/html": [
       "<div>\n",
       "<style scoped>\n",
       "    .dataframe tbody tr th:only-of-type {\n",
       "        vertical-align: middle;\n",
       "    }\n",
       "\n",
       "    .dataframe tbody tr th {\n",
       "        vertical-align: top;\n",
       "    }\n",
       "\n",
       "    .dataframe thead th {\n",
       "        text-align: right;\n",
       "    }\n",
       "</style>\n",
       "<table border=\"1\" class=\"dataframe\">\n",
       "  <thead>\n",
       "    <tr style=\"text-align: right;\">\n",
       "      <th></th>\n",
       "      <th>MCC</th>\n",
       "      <th>Mean_Precision</th>\n",
       "      <th>Mean_Recall</th>\n",
       "      <th>Precision_Door</th>\n",
       "      <th>Precision_Temp</th>\n",
       "      <th>Recall_Door</th>\n",
       "      <th>Recall_Temp</th>\n",
       "    </tr>\n",
       "  </thead>\n",
       "  <tbody>\n",
       "    <tr>\n",
       "      <th>KNN</th>\n",
       "      <td>-0.01181</td>\n",
       "      <td>0.24997</td>\n",
       "      <td>0.49986</td>\n",
       "      <td>0.49993</td>\n",
       "      <td>0.00000</td>\n",
       "      <td>0.99972</td>\n",
       "      <td>0.00000</td>\n",
       "    </tr>\n",
       "    <tr>\n",
       "      <th>RF</th>\n",
       "      <td>0.02014</td>\n",
       "      <td>0.55196</td>\n",
       "      <td>0.50195</td>\n",
       "      <td>0.60294</td>\n",
       "      <td>0.50099</td>\n",
       "      <td>0.01143</td>\n",
       "      <td>0.99247</td>\n",
       "    </tr>\n",
       "    <tr>\n",
       "      <th>LDA</th>\n",
       "      <td>0.02510</td>\n",
       "      <td>0.59417</td>\n",
       "      <td>0.50167</td>\n",
       "      <td>0.68750</td>\n",
       "      <td>0.50084</td>\n",
       "      <td>0.00613</td>\n",
       "      <td>0.99721</td>\n",
       "    </tr>\n",
       "  </tbody>\n",
       "</table>\n",
       "</div>"
      ],
      "text/plain": [
       "         MCC  Mean_Precision  Mean_Recall  Precision_Door  Precision_Temp  \\\n",
       "KNN -0.01181         0.24997      0.49986         0.49993         0.00000   \n",
       "RF   0.02014         0.55196      0.50195         0.60294         0.50099   \n",
       "LDA  0.02510         0.59417      0.50167         0.68750         0.50084   \n",
       "\n",
       "     Recall_Door  Recall_Temp  \n",
       "KNN      0.99972      0.00000  \n",
       "RF       0.01143      0.99247  \n",
       "LDA      0.00613      0.99721  "
      ]
     },
     "metadata": {},
     "output_type": "display_data"
    }
   ],
   "source": [
    "doortemp_metrics_df = b.report_metrics(doortemp_metrics, ['door','temp'], 'ble-doortemp_metrics')\n",
    "display(doortemp_metrics_df)"
   ]
  },
  {
   "cell_type": "code",
   "execution_count": 24,
   "metadata": {},
   "outputs": [
    {
     "name": "stdout",
     "output_type": "stream",
     "text": [
      "Confusion matrix, without normalization\n",
      "[[3586    1]\n",
      " [3587    0]]\n",
      "Confusion matrix, without normalization\n",
      "[[  22 3565]\n",
      " [  10 3577]]\n",
      "Confusion matrix, without normalization\n",
      "[[  41 3546]\n",
      " [  27 3560]]\n"
     ]
    },
    {
     "data": {
      "image/png": "[encoded data removed]",
      "text/plain": [
       "<Figure size 1008x288 with 6 Axes>"
      ]
     },
     "metadata": {},
     "output_type": "display_data"
    }
   ],
   "source": [
    "b.plot_all_confusion_matrices(doortemp_cms, ['door','temp'])"
   ]
  },
  {
   "cell_type": "markdown",
   "metadata": {},
   "source": [
    "It appears that with just the two classes, the classifiers cannot distinguish between the two devices. The next step is to look at the feature selection"
   ]
  },
  {
   "cell_type": "code",
   "execution_count": 25,
   "metadata": {},
   "outputs": [
    {
     "data": {
      "text/plain": [
       "PacketLength      0.49302\n",
       "BLE_LL_Length     0.37375\n",
       "Assoc_Packets     0.07617\n",
       "ADV_IND           0.03372\n",
       "SCAN_REQ          0.01265\n",
       "SCAN_RSP          0.00936\n",
       "Channel_12        0.00097\n",
       "Channel_39        0.00018\n",
       "Channel_0         0.00010\n",
       "CONNECT_REQ       0.00007\n",
       "ADV_NONCONN_IND   0.00002\n",
       "ADV_DIRECT_IND    0.00000\n",
       "dtype: float64"
      ]
     },
     "execution_count": 25,
     "metadata": {},
     "output_type": "execute_result"
    }
   ],
   "source": [
    "b.report_featureimportance(doortemp_feature_importance, features_list)"
   ]
  },
  {
   "cell_type": "code",
   "execution_count": 26,
   "metadata": {},
   "outputs": [],
   "source": [
    "# Run door vs temp with top 3 features\n",
    "dt3_preds, dt3_metrics, dt3_cms, dt3_feature_importance = b.run_multiclass(df_train_doortemp, df_test_doortemp, features_list[0:3], ['door','temp'],use_tuned=False)"
   ]
  },
  {
   "cell_type": "code",
   "execution_count": 27,
   "metadata": {},
   "outputs": [
    {
     "data": {
      "text/html": [
       "<div>\n",
       "<style scoped>\n",
       "    .dataframe tbody tr th:only-of-type {\n",
       "        vertical-align: middle;\n",
       "    }\n",
       "\n",
       "    .dataframe tbody tr th {\n",
       "        vertical-align: top;\n",
       "    }\n",
       "\n",
       "    .dataframe thead th {\n",
       "        text-align: right;\n",
       "    }\n",
       "</style>\n",
       "<table border=\"1\" class=\"dataframe\">\n",
       "  <thead>\n",
       "    <tr style=\"text-align: right;\">\n",
       "      <th></th>\n",
       "      <th>MCC</th>\n",
       "      <th>Mean_Precision</th>\n",
       "      <th>Mean_Recall</th>\n",
       "      <th>Precision_Door</th>\n",
       "      <th>Precision_Temp</th>\n",
       "      <th>Recall_Door</th>\n",
       "      <th>Recall_Temp</th>\n",
       "    </tr>\n",
       "  </thead>\n",
       "  <tbody>\n",
       "    <tr>\n",
       "      <th>KNN</th>\n",
       "      <td>-0.01181</td>\n",
       "      <td>0.24997</td>\n",
       "      <td>0.49986</td>\n",
       "      <td>0.49993</td>\n",
       "      <td>0.00000</td>\n",
       "      <td>0.99972</td>\n",
       "      <td>0.00000</td>\n",
       "    </tr>\n",
       "    <tr>\n",
       "      <th>RF</th>\n",
       "      <td>0.00849</td>\n",
       "      <td>0.51616</td>\n",
       "      <td>0.50112</td>\n",
       "      <td>0.53175</td>\n",
       "      <td>0.50057</td>\n",
       "      <td>0.01868</td>\n",
       "      <td>0.98355</td>\n",
       "    </tr>\n",
       "    <tr>\n",
       "      <th>LDA</th>\n",
       "      <td>0.00000</td>\n",
       "      <td>0.50000</td>\n",
       "      <td>0.50000</td>\n",
       "      <td>0.50000</td>\n",
       "      <td>0.50000</td>\n",
       "      <td>0.99972</td>\n",
       "      <td>0.00028</td>\n",
       "    </tr>\n",
       "  </tbody>\n",
       "</table>\n",
       "</div>"
      ],
      "text/plain": [
       "         MCC  Mean_Precision  Mean_Recall  Precision_Door  Precision_Temp  \\\n",
       "KNN -0.01181         0.24997      0.49986         0.49993         0.00000   \n",
       "RF   0.00849         0.51616      0.50112         0.53175         0.50057   \n",
       "LDA  0.00000         0.50000      0.50000         0.50000         0.50000   \n",
       "\n",
       "     Recall_Door  Recall_Temp  \n",
       "KNN      0.99972      0.00000  \n",
       "RF       0.01868      0.98355  \n",
       "LDA      0.99972      0.00028  "
      ]
     },
     "execution_count": 27,
     "metadata": {},
     "output_type": "execute_result"
    }
   ],
   "source": [
    "b.report_metrics(dt3_metrics, ['door','temp'], 'ble-dt3_metrics')"
   ]
  },
  {
   "cell_type": "markdown",
   "metadata": {},
   "source": [
    "No difference with top 3 features."
   ]
  },
  {
   "cell_type": "code",
   "execution_count": 28,
   "metadata": {},
   "outputs": [
    {
     "data": {
      "image/png": "[encoded data removed]",
      "text/plain": [
       "<Figure size 432x1008 with 3 Axes>"
      ]
     },
     "metadata": {},
     "output_type": "display_data"
    }
   ],
   "source": [
    "f, axes = plt.subplots(3, 1, figsize=(6, 14))\n",
    "sns.countplot(x='DeviceType', hue='PacketLength',ax=axes[0], data=df_test_doortemp);\n",
    "sns.countplot(x='DeviceType', hue='BLE_LL_Length',ax=axes[1], data=df_test_doortemp);\n",
    "sns.countplot(x='DeviceType', hue='Assoc_Packets',ax=axes[2], data=df_test_doortemp);"
   ]
  },
  {
   "cell_type": "markdown",
   "metadata": {},
   "source": [
    "# Report times"
   ]
  },
  {
   "cell_type": "code",
   "execution_count": 29,
   "metadata": {},
   "outputs": [
    {
     "name": "stdout",
     "output_type": "stream",
     "text": [
      "66.2020738125\n",
      "356.022985935\n",
      "1094.28398108\n"
     ]
    }
   ],
   "source": [
    "print multiclass_end\n",
    "print fs_end\n",
    "end_time = time.time() - start_time\n",
    "print end_time"
   ]
  }
 ],
 "metadata": {
  "kernelspec": {
   "display_name": "Python 2",
   "language": "python",
   "name": "python2"
  },
  "language_info": {
   "codemirror_mode": {
    "name": "ipython",
    "version": 2
   },
   "file_extension": ".py",
   "mimetype": "text/x-python",
   "name": "python",
   "nbconvert_exporter": "python",
   "pygments_lexer": "ipython2",
   "version": "2.7.15"
  }
 },
 "nbformat": 4,
 "nbformat_minor": 2
}
